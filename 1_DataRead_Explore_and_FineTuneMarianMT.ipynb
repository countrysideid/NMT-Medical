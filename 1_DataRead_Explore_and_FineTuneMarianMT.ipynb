{
  "nbformat": 4,
  "nbformat_minor": 0,
  "metadata": {
    "colab": {
      "name": "1_DataRead_Explore_and_FineTuneMarianMT.ipynb",
      "provenance": [],
      "collapsed_sections": [],
      "machine_shape": "hm"
    },
    "kernelspec": {
      "name": "python3",
      "display_name": "Python 3"
    },
    "language_info": {
      "name": "python"
    },
    "accelerator": "GPU",
    "widgets": {
      "application/vnd.jupyter.widget-state+json": {
        "73141be2049544a7a08f66706215fa6c": {
          "model_module": "@jupyter-widgets/controls",
          "model_name": "HBoxModel",
          "model_module_version": "1.5.0",
          "state": {
            "_view_name": "HBoxView",
            "_dom_classes": [],
            "_model_name": "HBoxModel",
            "_view_module": "@jupyter-widgets/controls",
            "_model_module_version": "1.5.0",
            "_view_count": null,
            "_view_module_version": "1.5.0",
            "box_style": "",
            "layout": "IPY_MODEL_7f6b897613b74cec8124aa2ad949d868",
            "_model_module": "@jupyter-widgets/controls",
            "children": [
              "IPY_MODEL_8d721d3b92ea4927a8e897d0130bfa72",
              "IPY_MODEL_405a7964b4bb48c2a48723f23c50b33e",
              "IPY_MODEL_fadfc05e2f624a3fa061e5539b885e3c"
            ]
          }
        },
        "7f6b897613b74cec8124aa2ad949d868": {
          "model_module": "@jupyter-widgets/base",
          "model_name": "LayoutModel",
          "model_module_version": "1.2.0",
          "state": {
            "_view_name": "LayoutView",
            "grid_template_rows": null,
            "right": null,
            "justify_content": null,
            "_view_module": "@jupyter-widgets/base",
            "overflow": null,
            "_model_module_version": "1.2.0",
            "_view_count": null,
            "flex_flow": null,
            "width": null,
            "min_width": null,
            "border": null,
            "align_items": null,
            "bottom": null,
            "_model_module": "@jupyter-widgets/base",
            "top": null,
            "grid_column": null,
            "overflow_y": null,
            "overflow_x": null,
            "grid_auto_flow": null,
            "grid_area": null,
            "grid_template_columns": null,
            "flex": null,
            "_model_name": "LayoutModel",
            "justify_items": null,
            "grid_row": null,
            "max_height": null,
            "align_content": null,
            "visibility": null,
            "align_self": null,
            "height": null,
            "min_height": null,
            "padding": null,
            "grid_auto_rows": null,
            "grid_gap": null,
            "max_width": null,
            "order": null,
            "_view_module_version": "1.2.0",
            "grid_template_areas": null,
            "object_position": null,
            "object_fit": null,
            "grid_auto_columns": null,
            "margin": null,
            "display": null,
            "left": null
          }
        },
        "8d721d3b92ea4927a8e897d0130bfa72": {
          "model_module": "@jupyter-widgets/controls",
          "model_name": "HTMLModel",
          "model_module_version": "1.5.0",
          "state": {
            "_view_name": "HTMLView",
            "style": "IPY_MODEL_d8afaa42872a4d859cd2d6ed8719d4fc",
            "_dom_classes": [],
            "description": "",
            "_model_name": "HTMLModel",
            "placeholder": "​",
            "_view_module": "@jupyter-widgets/controls",
            "_model_module_version": "1.5.0",
            "value": "Downloading: 100%",
            "_view_count": null,
            "_view_module_version": "1.5.0",
            "description_tooltip": null,
            "_model_module": "@jupyter-widgets/controls",
            "layout": "IPY_MODEL_4fef7877c43c42478c7ed96a3f411670"
          }
        },
        "405a7964b4bb48c2a48723f23c50b33e": {
          "model_module": "@jupyter-widgets/controls",
          "model_name": "FloatProgressModel",
          "model_module_version": "1.5.0",
          "state": {
            "_view_name": "ProgressView",
            "style": "IPY_MODEL_8f875350c58a4a0a82495ca19723f3fc",
            "_dom_classes": [],
            "description": "",
            "_model_name": "FloatProgressModel",
            "bar_style": "success",
            "max": 44,
            "_view_module": "@jupyter-widgets/controls",
            "_model_module_version": "1.5.0",
            "value": 44,
            "_view_count": null,
            "_view_module_version": "1.5.0",
            "orientation": "horizontal",
            "min": 0,
            "description_tooltip": null,
            "_model_module": "@jupyter-widgets/controls",
            "layout": "IPY_MODEL_ebc7c676cdc747b49fdcc8ccbddbe53a"
          }
        },
        "fadfc05e2f624a3fa061e5539b885e3c": {
          "model_module": "@jupyter-widgets/controls",
          "model_name": "HTMLModel",
          "model_module_version": "1.5.0",
          "state": {
            "_view_name": "HTMLView",
            "style": "IPY_MODEL_389a0d3d3cd54327af920f837fe727aa",
            "_dom_classes": [],
            "description": "",
            "_model_name": "HTMLModel",
            "placeholder": "​",
            "_view_module": "@jupyter-widgets/controls",
            "_model_module_version": "1.5.0",
            "value": " 44.0/44.0 [00:00&lt;00:00, 1.79kB/s]",
            "_view_count": null,
            "_view_module_version": "1.5.0",
            "description_tooltip": null,
            "_model_module": "@jupyter-widgets/controls",
            "layout": "IPY_MODEL_18ae3c66aa32403cbf5e25fde7e0e63a"
          }
        },
        "d8afaa42872a4d859cd2d6ed8719d4fc": {
          "model_module": "@jupyter-widgets/controls",
          "model_name": "DescriptionStyleModel",
          "model_module_version": "1.5.0",
          "state": {
            "_view_name": "StyleView",
            "_model_name": "DescriptionStyleModel",
            "description_width": "",
            "_view_module": "@jupyter-widgets/base",
            "_model_module_version": "1.5.0",
            "_view_count": null,
            "_view_module_version": "1.2.0",
            "_model_module": "@jupyter-widgets/controls"
          }
        },
        "4fef7877c43c42478c7ed96a3f411670": {
          "model_module": "@jupyter-widgets/base",
          "model_name": "LayoutModel",
          "model_module_version": "1.2.0",
          "state": {
            "_view_name": "LayoutView",
            "grid_template_rows": null,
            "right": null,
            "justify_content": null,
            "_view_module": "@jupyter-widgets/base",
            "overflow": null,
            "_model_module_version": "1.2.0",
            "_view_count": null,
            "flex_flow": null,
            "width": null,
            "min_width": null,
            "border": null,
            "align_items": null,
            "bottom": null,
            "_model_module": "@jupyter-widgets/base",
            "top": null,
            "grid_column": null,
            "overflow_y": null,
            "overflow_x": null,
            "grid_auto_flow": null,
            "grid_area": null,
            "grid_template_columns": null,
            "flex": null,
            "_model_name": "LayoutModel",
            "justify_items": null,
            "grid_row": null,
            "max_height": null,
            "align_content": null,
            "visibility": null,
            "align_self": null,
            "height": null,
            "min_height": null,
            "padding": null,
            "grid_auto_rows": null,
            "grid_gap": null,
            "max_width": null,
            "order": null,
            "_view_module_version": "1.2.0",
            "grid_template_areas": null,
            "object_position": null,
            "object_fit": null,
            "grid_auto_columns": null,
            "margin": null,
            "display": null,
            "left": null
          }
        },
        "8f875350c58a4a0a82495ca19723f3fc": {
          "model_module": "@jupyter-widgets/controls",
          "model_name": "ProgressStyleModel",
          "model_module_version": "1.5.0",
          "state": {
            "_view_name": "StyleView",
            "_model_name": "ProgressStyleModel",
            "description_width": "",
            "_view_module": "@jupyter-widgets/base",
            "_model_module_version": "1.5.0",
            "_view_count": null,
            "_view_module_version": "1.2.0",
            "bar_color": null,
            "_model_module": "@jupyter-widgets/controls"
          }
        },
        "ebc7c676cdc747b49fdcc8ccbddbe53a": {
          "model_module": "@jupyter-widgets/base",
          "model_name": "LayoutModel",
          "model_module_version": "1.2.0",
          "state": {
            "_view_name": "LayoutView",
            "grid_template_rows": null,
            "right": null,
            "justify_content": null,
            "_view_module": "@jupyter-widgets/base",
            "overflow": null,
            "_model_module_version": "1.2.0",
            "_view_count": null,
            "flex_flow": null,
            "width": null,
            "min_width": null,
            "border": null,
            "align_items": null,
            "bottom": null,
            "_model_module": "@jupyter-widgets/base",
            "top": null,
            "grid_column": null,
            "overflow_y": null,
            "overflow_x": null,
            "grid_auto_flow": null,
            "grid_area": null,
            "grid_template_columns": null,
            "flex": null,
            "_model_name": "LayoutModel",
            "justify_items": null,
            "grid_row": null,
            "max_height": null,
            "align_content": null,
            "visibility": null,
            "align_self": null,
            "height": null,
            "min_height": null,
            "padding": null,
            "grid_auto_rows": null,
            "grid_gap": null,
            "max_width": null,
            "order": null,
            "_view_module_version": "1.2.0",
            "grid_template_areas": null,
            "object_position": null,
            "object_fit": null,
            "grid_auto_columns": null,
            "margin": null,
            "display": null,
            "left": null
          }
        },
        "389a0d3d3cd54327af920f837fe727aa": {
          "model_module": "@jupyter-widgets/controls",
          "model_name": "DescriptionStyleModel",
          "model_module_version": "1.5.0",
          "state": {
            "_view_name": "StyleView",
            "_model_name": "DescriptionStyleModel",
            "description_width": "",
            "_view_module": "@jupyter-widgets/base",
            "_model_module_version": "1.5.0",
            "_view_count": null,
            "_view_module_version": "1.2.0",
            "_model_module": "@jupyter-widgets/controls"
          }
        },
        "18ae3c66aa32403cbf5e25fde7e0e63a": {
          "model_module": "@jupyter-widgets/base",
          "model_name": "LayoutModel",
          "model_module_version": "1.2.0",
          "state": {
            "_view_name": "LayoutView",
            "grid_template_rows": null,
            "right": null,
            "justify_content": null,
            "_view_module": "@jupyter-widgets/base",
            "overflow": null,
            "_model_module_version": "1.2.0",
            "_view_count": null,
            "flex_flow": null,
            "width": null,
            "min_width": null,
            "border": null,
            "align_items": null,
            "bottom": null,
            "_model_module": "@jupyter-widgets/base",
            "top": null,
            "grid_column": null,
            "overflow_y": null,
            "overflow_x": null,
            "grid_auto_flow": null,
            "grid_area": null,
            "grid_template_columns": null,
            "flex": null,
            "_model_name": "LayoutModel",
            "justify_items": null,
            "grid_row": null,
            "max_height": null,
            "align_content": null,
            "visibility": null,
            "align_self": null,
            "height": null,
            "min_height": null,
            "padding": null,
            "grid_auto_rows": null,
            "grid_gap": null,
            "max_width": null,
            "order": null,
            "_view_module_version": "1.2.0",
            "grid_template_areas": null,
            "object_position": null,
            "object_fit": null,
            "grid_auto_columns": null,
            "margin": null,
            "display": null,
            "left": null
          }
        },
        "6f719b62d08344cb8d2aed6222c1fcd1": {
          "model_module": "@jupyter-widgets/controls",
          "model_name": "HBoxModel",
          "model_module_version": "1.5.0",
          "state": {
            "_view_name": "HBoxView",
            "_dom_classes": [],
            "_model_name": "HBoxModel",
            "_view_module": "@jupyter-widgets/controls",
            "_model_module_version": "1.5.0",
            "_view_count": null,
            "_view_module_version": "1.5.0",
            "box_style": "",
            "layout": "IPY_MODEL_620afdf623d04a8b8d7015c7bf15efb9",
            "_model_module": "@jupyter-widgets/controls",
            "children": [
              "IPY_MODEL_517890c1e0a04828b3417b38fd813b2f",
              "IPY_MODEL_487eeed53d7d4346adc199003eb8d528",
              "IPY_MODEL_e12713fc24824c12949c0448d9af8aed"
            ]
          }
        },
        "620afdf623d04a8b8d7015c7bf15efb9": {
          "model_module": "@jupyter-widgets/base",
          "model_name": "LayoutModel",
          "model_module_version": "1.2.0",
          "state": {
            "_view_name": "LayoutView",
            "grid_template_rows": null,
            "right": null,
            "justify_content": null,
            "_view_module": "@jupyter-widgets/base",
            "overflow": null,
            "_model_module_version": "1.2.0",
            "_view_count": null,
            "flex_flow": null,
            "width": null,
            "min_width": null,
            "border": null,
            "align_items": null,
            "bottom": null,
            "_model_module": "@jupyter-widgets/base",
            "top": null,
            "grid_column": null,
            "overflow_y": null,
            "overflow_x": null,
            "grid_auto_flow": null,
            "grid_area": null,
            "grid_template_columns": null,
            "flex": null,
            "_model_name": "LayoutModel",
            "justify_items": null,
            "grid_row": null,
            "max_height": null,
            "align_content": null,
            "visibility": null,
            "align_self": null,
            "height": null,
            "min_height": null,
            "padding": null,
            "grid_auto_rows": null,
            "grid_gap": null,
            "max_width": null,
            "order": null,
            "_view_module_version": "1.2.0",
            "grid_template_areas": null,
            "object_position": null,
            "object_fit": null,
            "grid_auto_columns": null,
            "margin": null,
            "display": null,
            "left": null
          }
        },
        "517890c1e0a04828b3417b38fd813b2f": {
          "model_module": "@jupyter-widgets/controls",
          "model_name": "HTMLModel",
          "model_module_version": "1.5.0",
          "state": {
            "_view_name": "HTMLView",
            "style": "IPY_MODEL_3e7c8ff99b49480dad04579671c6ec66",
            "_dom_classes": [],
            "description": "",
            "_model_name": "HTMLModel",
            "placeholder": "​",
            "_view_module": "@jupyter-widgets/controls",
            "_model_module_version": "1.5.0",
            "value": "Downloading: 100%",
            "_view_count": null,
            "_view_module_version": "1.5.0",
            "description_tooltip": null,
            "_model_module": "@jupyter-widgets/controls",
            "layout": "IPY_MODEL_5712d9ac885e4e3faaa6c12d81ac10bf"
          }
        },
        "487eeed53d7d4346adc199003eb8d528": {
          "model_module": "@jupyter-widgets/controls",
          "model_name": "FloatProgressModel",
          "model_module_version": "1.5.0",
          "state": {
            "_view_name": "ProgressView",
            "style": "IPY_MODEL_2475f17b8ca04d8bb75df2a8e5231762",
            "_dom_classes": [],
            "description": "",
            "_model_name": "FloatProgressModel",
            "bar_style": "success",
            "max": 1403,
            "_view_module": "@jupyter-widgets/controls",
            "_model_module_version": "1.5.0",
            "value": 1403,
            "_view_count": null,
            "_view_module_version": "1.5.0",
            "orientation": "horizontal",
            "min": 0,
            "description_tooltip": null,
            "_model_module": "@jupyter-widgets/controls",
            "layout": "IPY_MODEL_76e3cd3878d34ecba0f01951213fb0c8"
          }
        },
        "e12713fc24824c12949c0448d9af8aed": {
          "model_module": "@jupyter-widgets/controls",
          "model_name": "HTMLModel",
          "model_module_version": "1.5.0",
          "state": {
            "_view_name": "HTMLView",
            "style": "IPY_MODEL_ebb5b392f11244cfa5fc6a7fc9efd4bb",
            "_dom_classes": [],
            "description": "",
            "_model_name": "HTMLModel",
            "placeholder": "​",
            "_view_module": "@jupyter-widgets/controls",
            "_model_module_version": "1.5.0",
            "value": " 1.37k/1.37k [00:00&lt;00:00, 60.6kB/s]",
            "_view_count": null,
            "_view_module_version": "1.5.0",
            "description_tooltip": null,
            "_model_module": "@jupyter-widgets/controls",
            "layout": "IPY_MODEL_011511fce0f44ebf92a873627afe6c3a"
          }
        },
        "3e7c8ff99b49480dad04579671c6ec66": {
          "model_module": "@jupyter-widgets/controls",
          "model_name": "DescriptionStyleModel",
          "model_module_version": "1.5.0",
          "state": {
            "_view_name": "StyleView",
            "_model_name": "DescriptionStyleModel",
            "description_width": "",
            "_view_module": "@jupyter-widgets/base",
            "_model_module_version": "1.5.0",
            "_view_count": null,
            "_view_module_version": "1.2.0",
            "_model_module": "@jupyter-widgets/controls"
          }
        },
        "5712d9ac885e4e3faaa6c12d81ac10bf": {
          "model_module": "@jupyter-widgets/base",
          "model_name": "LayoutModel",
          "model_module_version": "1.2.0",
          "state": {
            "_view_name": "LayoutView",
            "grid_template_rows": null,
            "right": null,
            "justify_content": null,
            "_view_module": "@jupyter-widgets/base",
            "overflow": null,
            "_model_module_version": "1.2.0",
            "_view_count": null,
            "flex_flow": null,
            "width": null,
            "min_width": null,
            "border": null,
            "align_items": null,
            "bottom": null,
            "_model_module": "@jupyter-widgets/base",
            "top": null,
            "grid_column": null,
            "overflow_y": null,
            "overflow_x": null,
            "grid_auto_flow": null,
            "grid_area": null,
            "grid_template_columns": null,
            "flex": null,
            "_model_name": "LayoutModel",
            "justify_items": null,
            "grid_row": null,
            "max_height": null,
            "align_content": null,
            "visibility": null,
            "align_self": null,
            "height": null,
            "min_height": null,
            "padding": null,
            "grid_auto_rows": null,
            "grid_gap": null,
            "max_width": null,
            "order": null,
            "_view_module_version": "1.2.0",
            "grid_template_areas": null,
            "object_position": null,
            "object_fit": null,
            "grid_auto_columns": null,
            "margin": null,
            "display": null,
            "left": null
          }
        },
        "2475f17b8ca04d8bb75df2a8e5231762": {
          "model_module": "@jupyter-widgets/controls",
          "model_name": "ProgressStyleModel",
          "model_module_version": "1.5.0",
          "state": {
            "_view_name": "StyleView",
            "_model_name": "ProgressStyleModel",
            "description_width": "",
            "_view_module": "@jupyter-widgets/base",
            "_model_module_version": "1.5.0",
            "_view_count": null,
            "_view_module_version": "1.2.0",
            "bar_color": null,
            "_model_module": "@jupyter-widgets/controls"
          }
        },
        "76e3cd3878d34ecba0f01951213fb0c8": {
          "model_module": "@jupyter-widgets/base",
          "model_name": "LayoutModel",
          "model_module_version": "1.2.0",
          "state": {
            "_view_name": "LayoutView",
            "grid_template_rows": null,
            "right": null,
            "justify_content": null,
            "_view_module": "@jupyter-widgets/base",
            "overflow": null,
            "_model_module_version": "1.2.0",
            "_view_count": null,
            "flex_flow": null,
            "width": null,
            "min_width": null,
            "border": null,
            "align_items": null,
            "bottom": null,
            "_model_module": "@jupyter-widgets/base",
            "top": null,
            "grid_column": null,
            "overflow_y": null,
            "overflow_x": null,
            "grid_auto_flow": null,
            "grid_area": null,
            "grid_template_columns": null,
            "flex": null,
            "_model_name": "LayoutModel",
            "justify_items": null,
            "grid_row": null,
            "max_height": null,
            "align_content": null,
            "visibility": null,
            "align_self": null,
            "height": null,
            "min_height": null,
            "padding": null,
            "grid_auto_rows": null,
            "grid_gap": null,
            "max_width": null,
            "order": null,
            "_view_module_version": "1.2.0",
            "grid_template_areas": null,
            "object_position": null,
            "object_fit": null,
            "grid_auto_columns": null,
            "margin": null,
            "display": null,
            "left": null
          }
        },
        "ebb5b392f11244cfa5fc6a7fc9efd4bb": {
          "model_module": "@jupyter-widgets/controls",
          "model_name": "DescriptionStyleModel",
          "model_module_version": "1.5.0",
          "state": {
            "_view_name": "StyleView",
            "_model_name": "DescriptionStyleModel",
            "description_width": "",
            "_view_module": "@jupyter-widgets/base",
            "_model_module_version": "1.5.0",
            "_view_count": null,
            "_view_module_version": "1.2.0",
            "_model_module": "@jupyter-widgets/controls"
          }
        },
        "011511fce0f44ebf92a873627afe6c3a": {
          "model_module": "@jupyter-widgets/base",
          "model_name": "LayoutModel",
          "model_module_version": "1.2.0",
          "state": {
            "_view_name": "LayoutView",
            "grid_template_rows": null,
            "right": null,
            "justify_content": null,
            "_view_module": "@jupyter-widgets/base",
            "overflow": null,
            "_model_module_version": "1.2.0",
            "_view_count": null,
            "flex_flow": null,
            "width": null,
            "min_width": null,
            "border": null,
            "align_items": null,
            "bottom": null,
            "_model_module": "@jupyter-widgets/base",
            "top": null,
            "grid_column": null,
            "overflow_y": null,
            "overflow_x": null,
            "grid_auto_flow": null,
            "grid_area": null,
            "grid_template_columns": null,
            "flex": null,
            "_model_name": "LayoutModel",
            "justify_items": null,
            "grid_row": null,
            "max_height": null,
            "align_content": null,
            "visibility": null,
            "align_self": null,
            "height": null,
            "min_height": null,
            "padding": null,
            "grid_auto_rows": null,
            "grid_gap": null,
            "max_width": null,
            "order": null,
            "_view_module_version": "1.2.0",
            "grid_template_areas": null,
            "object_position": null,
            "object_fit": null,
            "grid_auto_columns": null,
            "margin": null,
            "display": null,
            "left": null
          }
        },
        "c01102c6e8c94beb8eb5fff00ab4f3c7": {
          "model_module": "@jupyter-widgets/controls",
          "model_name": "HBoxModel",
          "model_module_version": "1.5.0",
          "state": {
            "_view_name": "HBoxView",
            "_dom_classes": [],
            "_model_name": "HBoxModel",
            "_view_module": "@jupyter-widgets/controls",
            "_model_module_version": "1.5.0",
            "_view_count": null,
            "_view_module_version": "1.5.0",
            "box_style": "",
            "layout": "IPY_MODEL_e10cd9c48ea14d90bdcd9de9a836be46",
            "_model_module": "@jupyter-widgets/controls",
            "children": [
              "IPY_MODEL_2c3edb7e0ae04b6aa7da8a6930c4e463",
              "IPY_MODEL_2695d6396f4e438a96b2939ca521c9f8",
              "IPY_MODEL_1337810a24924c2a924d5f4d98a499a3"
            ]
          }
        },
        "e10cd9c48ea14d90bdcd9de9a836be46": {
          "model_module": "@jupyter-widgets/base",
          "model_name": "LayoutModel",
          "model_module_version": "1.2.0",
          "state": {
            "_view_name": "LayoutView",
            "grid_template_rows": null,
            "right": null,
            "justify_content": null,
            "_view_module": "@jupyter-widgets/base",
            "overflow": null,
            "_model_module_version": "1.2.0",
            "_view_count": null,
            "flex_flow": null,
            "width": null,
            "min_width": null,
            "border": null,
            "align_items": null,
            "bottom": null,
            "_model_module": "@jupyter-widgets/base",
            "top": null,
            "grid_column": null,
            "overflow_y": null,
            "overflow_x": null,
            "grid_auto_flow": null,
            "grid_area": null,
            "grid_template_columns": null,
            "flex": null,
            "_model_name": "LayoutModel",
            "justify_items": null,
            "grid_row": null,
            "max_height": null,
            "align_content": null,
            "visibility": null,
            "align_self": null,
            "height": null,
            "min_height": null,
            "padding": null,
            "grid_auto_rows": null,
            "grid_gap": null,
            "max_width": null,
            "order": null,
            "_view_module_version": "1.2.0",
            "grid_template_areas": null,
            "object_position": null,
            "object_fit": null,
            "grid_auto_columns": null,
            "margin": null,
            "display": null,
            "left": null
          }
        },
        "2c3edb7e0ae04b6aa7da8a6930c4e463": {
          "model_module": "@jupyter-widgets/controls",
          "model_name": "HTMLModel",
          "model_module_version": "1.5.0",
          "state": {
            "_view_name": "HTMLView",
            "style": "IPY_MODEL_b9c87b19d6eb410b9a9bf673216d156f",
            "_dom_classes": [],
            "description": "",
            "_model_name": "HTMLModel",
            "placeholder": "​",
            "_view_module": "@jupyter-widgets/controls",
            "_model_module_version": "1.5.0",
            "value": "Downloading: 100%",
            "_view_count": null,
            "_view_module_version": "1.5.0",
            "description_tooltip": null,
            "_model_module": "@jupyter-widgets/controls",
            "layout": "IPY_MODEL_d09ae9a6f1aa4b9fb059ff35994ca33c"
          }
        },
        "2695d6396f4e438a96b2939ca521c9f8": {
          "model_module": "@jupyter-widgets/controls",
          "model_name": "FloatProgressModel",
          "model_module_version": "1.5.0",
          "state": {
            "_view_name": "ProgressView",
            "style": "IPY_MODEL_6ba28e56fb92456ab34035e4bba6a374",
            "_dom_classes": [],
            "description": "",
            "_model_name": "FloatProgressModel",
            "bar_style": "success",
            "max": 806435,
            "_view_module": "@jupyter-widgets/controls",
            "_model_module_version": "1.5.0",
            "value": 806435,
            "_view_count": null,
            "_view_module_version": "1.5.0",
            "orientation": "horizontal",
            "min": 0,
            "description_tooltip": null,
            "_model_module": "@jupyter-widgets/controls",
            "layout": "IPY_MODEL_c09c5476238646da97d531f646948fbd"
          }
        },
        "1337810a24924c2a924d5f4d98a499a3": {
          "model_module": "@jupyter-widgets/controls",
          "model_name": "HTMLModel",
          "model_module_version": "1.5.0",
          "state": {
            "_view_name": "HTMLView",
            "style": "IPY_MODEL_f417cc1d472e4fbc959e2195620c2453",
            "_dom_classes": [],
            "description": "",
            "_model_name": "HTMLModel",
            "placeholder": "​",
            "_view_module": "@jupyter-widgets/controls",
            "_model_module_version": "1.5.0",
            "value": " 788k/788k [00:00&lt;00:00, 617kB/s]",
            "_view_count": null,
            "_view_module_version": "1.5.0",
            "description_tooltip": null,
            "_model_module": "@jupyter-widgets/controls",
            "layout": "IPY_MODEL_dfe1389acce94cfd800cc849e0577a0d"
          }
        },
        "b9c87b19d6eb410b9a9bf673216d156f": {
          "model_module": "@jupyter-widgets/controls",
          "model_name": "DescriptionStyleModel",
          "model_module_version": "1.5.0",
          "state": {
            "_view_name": "StyleView",
            "_model_name": "DescriptionStyleModel",
            "description_width": "",
            "_view_module": "@jupyter-widgets/base",
            "_model_module_version": "1.5.0",
            "_view_count": null,
            "_view_module_version": "1.2.0",
            "_model_module": "@jupyter-widgets/controls"
          }
        },
        "d09ae9a6f1aa4b9fb059ff35994ca33c": {
          "model_module": "@jupyter-widgets/base",
          "model_name": "LayoutModel",
          "model_module_version": "1.2.0",
          "state": {
            "_view_name": "LayoutView",
            "grid_template_rows": null,
            "right": null,
            "justify_content": null,
            "_view_module": "@jupyter-widgets/base",
            "overflow": null,
            "_model_module_version": "1.2.0",
            "_view_count": null,
            "flex_flow": null,
            "width": null,
            "min_width": null,
            "border": null,
            "align_items": null,
            "bottom": null,
            "_model_module": "@jupyter-widgets/base",
            "top": null,
            "grid_column": null,
            "overflow_y": null,
            "overflow_x": null,
            "grid_auto_flow": null,
            "grid_area": null,
            "grid_template_columns": null,
            "flex": null,
            "_model_name": "LayoutModel",
            "justify_items": null,
            "grid_row": null,
            "max_height": null,
            "align_content": null,
            "visibility": null,
            "align_self": null,
            "height": null,
            "min_height": null,
            "padding": null,
            "grid_auto_rows": null,
            "grid_gap": null,
            "max_width": null,
            "order": null,
            "_view_module_version": "1.2.0",
            "grid_template_areas": null,
            "object_position": null,
            "object_fit": null,
            "grid_auto_columns": null,
            "margin": null,
            "display": null,
            "left": null
          }
        },
        "6ba28e56fb92456ab34035e4bba6a374": {
          "model_module": "@jupyter-widgets/controls",
          "model_name": "ProgressStyleModel",
          "model_module_version": "1.5.0",
          "state": {
            "_view_name": "StyleView",
            "_model_name": "ProgressStyleModel",
            "description_width": "",
            "_view_module": "@jupyter-widgets/base",
            "_model_module_version": "1.5.0",
            "_view_count": null,
            "_view_module_version": "1.2.0",
            "bar_color": null,
            "_model_module": "@jupyter-widgets/controls"
          }
        },
        "c09c5476238646da97d531f646948fbd": {
          "model_module": "@jupyter-widgets/base",
          "model_name": "LayoutModel",
          "model_module_version": "1.2.0",
          "state": {
            "_view_name": "LayoutView",
            "grid_template_rows": null,
            "right": null,
            "justify_content": null,
            "_view_module": "@jupyter-widgets/base",
            "overflow": null,
            "_model_module_version": "1.2.0",
            "_view_count": null,
            "flex_flow": null,
            "width": null,
            "min_width": null,
            "border": null,
            "align_items": null,
            "bottom": null,
            "_model_module": "@jupyter-widgets/base",
            "top": null,
            "grid_column": null,
            "overflow_y": null,
            "overflow_x": null,
            "grid_auto_flow": null,
            "grid_area": null,
            "grid_template_columns": null,
            "flex": null,
            "_model_name": "LayoutModel",
            "justify_items": null,
            "grid_row": null,
            "max_height": null,
            "align_content": null,
            "visibility": null,
            "align_self": null,
            "height": null,
            "min_height": null,
            "padding": null,
            "grid_auto_rows": null,
            "grid_gap": null,
            "max_width": null,
            "order": null,
            "_view_module_version": "1.2.0",
            "grid_template_areas": null,
            "object_position": null,
            "object_fit": null,
            "grid_auto_columns": null,
            "margin": null,
            "display": null,
            "left": null
          }
        },
        "f417cc1d472e4fbc959e2195620c2453": {
          "model_module": "@jupyter-widgets/controls",
          "model_name": "DescriptionStyleModel",
          "model_module_version": "1.5.0",
          "state": {
            "_view_name": "StyleView",
            "_model_name": "DescriptionStyleModel",
            "description_width": "",
            "_view_module": "@jupyter-widgets/base",
            "_model_module_version": "1.5.0",
            "_view_count": null,
            "_view_module_version": "1.2.0",
            "_model_module": "@jupyter-widgets/controls"
          }
        },
        "dfe1389acce94cfd800cc849e0577a0d": {
          "model_module": "@jupyter-widgets/base",
          "model_name": "LayoutModel",
          "model_module_version": "1.2.0",
          "state": {
            "_view_name": "LayoutView",
            "grid_template_rows": null,
            "right": null,
            "justify_content": null,
            "_view_module": "@jupyter-widgets/base",
            "overflow": null,
            "_model_module_version": "1.2.0",
            "_view_count": null,
            "flex_flow": null,
            "width": null,
            "min_width": null,
            "border": null,
            "align_items": null,
            "bottom": null,
            "_model_module": "@jupyter-widgets/base",
            "top": null,
            "grid_column": null,
            "overflow_y": null,
            "overflow_x": null,
            "grid_auto_flow": null,
            "grid_area": null,
            "grid_template_columns": null,
            "flex": null,
            "_model_name": "LayoutModel",
            "justify_items": null,
            "grid_row": null,
            "max_height": null,
            "align_content": null,
            "visibility": null,
            "align_self": null,
            "height": null,
            "min_height": null,
            "padding": null,
            "grid_auto_rows": null,
            "grid_gap": null,
            "max_width": null,
            "order": null,
            "_view_module_version": "1.2.0",
            "grid_template_areas": null,
            "object_position": null,
            "object_fit": null,
            "grid_auto_columns": null,
            "margin": null,
            "display": null,
            "left": null
          }
        },
        "4edcbc16dead428ca27dd981ecdec8a4": {
          "model_module": "@jupyter-widgets/controls",
          "model_name": "HBoxModel",
          "model_module_version": "1.5.0",
          "state": {
            "_view_name": "HBoxView",
            "_dom_classes": [],
            "_model_name": "HBoxModel",
            "_view_module": "@jupyter-widgets/controls",
            "_model_module_version": "1.5.0",
            "_view_count": null,
            "_view_module_version": "1.5.0",
            "box_style": "",
            "layout": "IPY_MODEL_0394344e5e7542b4a4e308e3ff2eda12",
            "_model_module": "@jupyter-widgets/controls",
            "children": [
              "IPY_MODEL_c5c91102c01a4e03ac1414d8f0a2c2c4",
              "IPY_MODEL_a33d4cc9459648899f36d38821a6904b",
              "IPY_MODEL_48b75720caa84f7f9cdad4d406e460c2"
            ]
          }
        },
        "0394344e5e7542b4a4e308e3ff2eda12": {
          "model_module": "@jupyter-widgets/base",
          "model_name": "LayoutModel",
          "model_module_version": "1.2.0",
          "state": {
            "_view_name": "LayoutView",
            "grid_template_rows": null,
            "right": null,
            "justify_content": null,
            "_view_module": "@jupyter-widgets/base",
            "overflow": null,
            "_model_module_version": "1.2.0",
            "_view_count": null,
            "flex_flow": null,
            "width": null,
            "min_width": null,
            "border": null,
            "align_items": null,
            "bottom": null,
            "_model_module": "@jupyter-widgets/base",
            "top": null,
            "grid_column": null,
            "overflow_y": null,
            "overflow_x": null,
            "grid_auto_flow": null,
            "grid_area": null,
            "grid_template_columns": null,
            "flex": null,
            "_model_name": "LayoutModel",
            "justify_items": null,
            "grid_row": null,
            "max_height": null,
            "align_content": null,
            "visibility": null,
            "align_self": null,
            "height": null,
            "min_height": null,
            "padding": null,
            "grid_auto_rows": null,
            "grid_gap": null,
            "max_width": null,
            "order": null,
            "_view_module_version": "1.2.0",
            "grid_template_areas": null,
            "object_position": null,
            "object_fit": null,
            "grid_auto_columns": null,
            "margin": null,
            "display": null,
            "left": null
          }
        },
        "c5c91102c01a4e03ac1414d8f0a2c2c4": {
          "model_module": "@jupyter-widgets/controls",
          "model_name": "HTMLModel",
          "model_module_version": "1.5.0",
          "state": {
            "_view_name": "HTMLView",
            "style": "IPY_MODEL_cf63ebe0c5464de4a2518245fe9fe87d",
            "_dom_classes": [],
            "description": "",
            "_model_name": "HTMLModel",
            "placeholder": "​",
            "_view_module": "@jupyter-widgets/controls",
            "_model_module_version": "1.5.0",
            "value": "Downloading: 100%",
            "_view_count": null,
            "_view_module_version": "1.5.0",
            "description_tooltip": null,
            "_model_module": "@jupyter-widgets/controls",
            "layout": "IPY_MODEL_779c662419294b01ba6e321ab8d8ecfe"
          }
        },
        "a33d4cc9459648899f36d38821a6904b": {
          "model_module": "@jupyter-widgets/controls",
          "model_name": "FloatProgressModel",
          "model_module_version": "1.5.0",
          "state": {
            "_view_name": "ProgressView",
            "style": "IPY_MODEL_8cbfaaf4e210478d8d84f4679a5eb6e6",
            "_dom_classes": [],
            "description": "",
            "_model_name": "FloatProgressModel",
            "bar_style": "success",
            "max": 804600,
            "_view_module": "@jupyter-widgets/controls",
            "_model_module_version": "1.5.0",
            "value": 804600,
            "_view_count": null,
            "_view_module_version": "1.5.0",
            "orientation": "horizontal",
            "min": 0,
            "description_tooltip": null,
            "_model_module": "@jupyter-widgets/controls",
            "layout": "IPY_MODEL_1c9143304e3149fbbc67c06c4f709038"
          }
        },
        "48b75720caa84f7f9cdad4d406e460c2": {
          "model_module": "@jupyter-widgets/controls",
          "model_name": "HTMLModel",
          "model_module_version": "1.5.0",
          "state": {
            "_view_name": "HTMLView",
            "style": "IPY_MODEL_7796b6ca14bd47a0be7846fbb2d93971",
            "_dom_classes": [],
            "description": "",
            "_model_name": "HTMLModel",
            "placeholder": "​",
            "_view_module": "@jupyter-widgets/controls",
            "_model_module_version": "1.5.0",
            "value": " 786k/786k [00:00&lt;00:00, 639kB/s]",
            "_view_count": null,
            "_view_module_version": "1.5.0",
            "description_tooltip": null,
            "_model_module": "@jupyter-widgets/controls",
            "layout": "IPY_MODEL_3b021fefe5014f58b2622db961f9108c"
          }
        },
        "cf63ebe0c5464de4a2518245fe9fe87d": {
          "model_module": "@jupyter-widgets/controls",
          "model_name": "DescriptionStyleModel",
          "model_module_version": "1.5.0",
          "state": {
            "_view_name": "StyleView",
            "_model_name": "DescriptionStyleModel",
            "description_width": "",
            "_view_module": "@jupyter-widgets/base",
            "_model_module_version": "1.5.0",
            "_view_count": null,
            "_view_module_version": "1.2.0",
            "_model_module": "@jupyter-widgets/controls"
          }
        },
        "779c662419294b01ba6e321ab8d8ecfe": {
          "model_module": "@jupyter-widgets/base",
          "model_name": "LayoutModel",
          "model_module_version": "1.2.0",
          "state": {
            "_view_name": "LayoutView",
            "grid_template_rows": null,
            "right": null,
            "justify_content": null,
            "_view_module": "@jupyter-widgets/base",
            "overflow": null,
            "_model_module_version": "1.2.0",
            "_view_count": null,
            "flex_flow": null,
            "width": null,
            "min_width": null,
            "border": null,
            "align_items": null,
            "bottom": null,
            "_model_module": "@jupyter-widgets/base",
            "top": null,
            "grid_column": null,
            "overflow_y": null,
            "overflow_x": null,
            "grid_auto_flow": null,
            "grid_area": null,
            "grid_template_columns": null,
            "flex": null,
            "_model_name": "LayoutModel",
            "justify_items": null,
            "grid_row": null,
            "max_height": null,
            "align_content": null,
            "visibility": null,
            "align_self": null,
            "height": null,
            "min_height": null,
            "padding": null,
            "grid_auto_rows": null,
            "grid_gap": null,
            "max_width": null,
            "order": null,
            "_view_module_version": "1.2.0",
            "grid_template_areas": null,
            "object_position": null,
            "object_fit": null,
            "grid_auto_columns": null,
            "margin": null,
            "display": null,
            "left": null
          }
        },
        "8cbfaaf4e210478d8d84f4679a5eb6e6": {
          "model_module": "@jupyter-widgets/controls",
          "model_name": "ProgressStyleModel",
          "model_module_version": "1.5.0",
          "state": {
            "_view_name": "StyleView",
            "_model_name": "ProgressStyleModel",
            "description_width": "",
            "_view_module": "@jupyter-widgets/base",
            "_model_module_version": "1.5.0",
            "_view_count": null,
            "_view_module_version": "1.2.0",
            "bar_color": null,
            "_model_module": "@jupyter-widgets/controls"
          }
        },
        "1c9143304e3149fbbc67c06c4f709038": {
          "model_module": "@jupyter-widgets/base",
          "model_name": "LayoutModel",
          "model_module_version": "1.2.0",
          "state": {
            "_view_name": "LayoutView",
            "grid_template_rows": null,
            "right": null,
            "justify_content": null,
            "_view_module": "@jupyter-widgets/base",
            "overflow": null,
            "_model_module_version": "1.2.0",
            "_view_count": null,
            "flex_flow": null,
            "width": null,
            "min_width": null,
            "border": null,
            "align_items": null,
            "bottom": null,
            "_model_module": "@jupyter-widgets/base",
            "top": null,
            "grid_column": null,
            "overflow_y": null,
            "overflow_x": null,
            "grid_auto_flow": null,
            "grid_area": null,
            "grid_template_columns": null,
            "flex": null,
            "_model_name": "LayoutModel",
            "justify_items": null,
            "grid_row": null,
            "max_height": null,
            "align_content": null,
            "visibility": null,
            "align_self": null,
            "height": null,
            "min_height": null,
            "padding": null,
            "grid_auto_rows": null,
            "grid_gap": null,
            "max_width": null,
            "order": null,
            "_view_module_version": "1.2.0",
            "grid_template_areas": null,
            "object_position": null,
            "object_fit": null,
            "grid_auto_columns": null,
            "margin": null,
            "display": null,
            "left": null
          }
        },
        "7796b6ca14bd47a0be7846fbb2d93971": {
          "model_module": "@jupyter-widgets/controls",
          "model_name": "DescriptionStyleModel",
          "model_module_version": "1.5.0",
          "state": {
            "_view_name": "StyleView",
            "_model_name": "DescriptionStyleModel",
            "description_width": "",
            "_view_module": "@jupyter-widgets/base",
            "_model_module_version": "1.5.0",
            "_view_count": null,
            "_view_module_version": "1.2.0",
            "_model_module": "@jupyter-widgets/controls"
          }
        },
        "3b021fefe5014f58b2622db961f9108c": {
          "model_module": "@jupyter-widgets/base",
          "model_name": "LayoutModel",
          "model_module_version": "1.2.0",
          "state": {
            "_view_name": "LayoutView",
            "grid_template_rows": null,
            "right": null,
            "justify_content": null,
            "_view_module": "@jupyter-widgets/base",
            "overflow": null,
            "_model_module_version": "1.2.0",
            "_view_count": null,
            "flex_flow": null,
            "width": null,
            "min_width": null,
            "border": null,
            "align_items": null,
            "bottom": null,
            "_model_module": "@jupyter-widgets/base",
            "top": null,
            "grid_column": null,
            "overflow_y": null,
            "overflow_x": null,
            "grid_auto_flow": null,
            "grid_area": null,
            "grid_template_columns": null,
            "flex": null,
            "_model_name": "LayoutModel",
            "justify_items": null,
            "grid_row": null,
            "max_height": null,
            "align_content": null,
            "visibility": null,
            "align_self": null,
            "height": null,
            "min_height": null,
            "padding": null,
            "grid_auto_rows": null,
            "grid_gap": null,
            "max_width": null,
            "order": null,
            "_view_module_version": "1.2.0",
            "grid_template_areas": null,
            "object_position": null,
            "object_fit": null,
            "grid_auto_columns": null,
            "margin": null,
            "display": null,
            "left": null
          }
        },
        "149b55cf537a4d2898efb72bfd48f817": {
          "model_module": "@jupyter-widgets/controls",
          "model_name": "HBoxModel",
          "model_module_version": "1.5.0",
          "state": {
            "_view_name": "HBoxView",
            "_dom_classes": [],
            "_model_name": "HBoxModel",
            "_view_module": "@jupyter-widgets/controls",
            "_model_module_version": "1.5.0",
            "_view_count": null,
            "_view_module_version": "1.5.0",
            "box_style": "",
            "layout": "IPY_MODEL_ac9c220c024c4cb79856a3a7ea621161",
            "_model_module": "@jupyter-widgets/controls",
            "children": [
              "IPY_MODEL_472dd08dbba64a9f9040c211d758dafa",
              "IPY_MODEL_1e68589fbf244a7bb98dcf33f3d59c76",
              "IPY_MODEL_b137fc55ae5b4beb8b8f63adc442c867"
            ]
          }
        },
        "ac9c220c024c4cb79856a3a7ea621161": {
          "model_module": "@jupyter-widgets/base",
          "model_name": "LayoutModel",
          "model_module_version": "1.2.0",
          "state": {
            "_view_name": "LayoutView",
            "grid_template_rows": null,
            "right": null,
            "justify_content": null,
            "_view_module": "@jupyter-widgets/base",
            "overflow": null,
            "_model_module_version": "1.2.0",
            "_view_count": null,
            "flex_flow": null,
            "width": null,
            "min_width": null,
            "border": null,
            "align_items": null,
            "bottom": null,
            "_model_module": "@jupyter-widgets/base",
            "top": null,
            "grid_column": null,
            "overflow_y": null,
            "overflow_x": null,
            "grid_auto_flow": null,
            "grid_area": null,
            "grid_template_columns": null,
            "flex": null,
            "_model_name": "LayoutModel",
            "justify_items": null,
            "grid_row": null,
            "max_height": null,
            "align_content": null,
            "visibility": null,
            "align_self": null,
            "height": null,
            "min_height": null,
            "padding": null,
            "grid_auto_rows": null,
            "grid_gap": null,
            "max_width": null,
            "order": null,
            "_view_module_version": "1.2.0",
            "grid_template_areas": null,
            "object_position": null,
            "object_fit": null,
            "grid_auto_columns": null,
            "margin": null,
            "display": null,
            "left": null
          }
        },
        "472dd08dbba64a9f9040c211d758dafa": {
          "model_module": "@jupyter-widgets/controls",
          "model_name": "HTMLModel",
          "model_module_version": "1.5.0",
          "state": {
            "_view_name": "HTMLView",
            "style": "IPY_MODEL_fb1a4223acb743f1a56ec1292425e728",
            "_dom_classes": [],
            "description": "",
            "_model_name": "HTMLModel",
            "placeholder": "​",
            "_view_module": "@jupyter-widgets/controls",
            "_model_module_version": "1.5.0",
            "value": "Downloading: 100%",
            "_view_count": null,
            "_view_module_version": "1.5.0",
            "description_tooltip": null,
            "_model_module": "@jupyter-widgets/controls",
            "layout": "IPY_MODEL_fcbd197418634d978169b569731b3f4c"
          }
        },
        "1e68589fbf244a7bb98dcf33f3d59c76": {
          "model_module": "@jupyter-widgets/controls",
          "model_name": "FloatProgressModel",
          "model_module_version": "1.5.0",
          "state": {
            "_view_name": "ProgressView",
            "style": "IPY_MODEL_e5a05f153d3645c9912f0ed32b639d41",
            "_dom_classes": [],
            "description": "",
            "_model_name": "FloatProgressModel",
            "bar_style": "success",
            "max": 1617791,
            "_view_module": "@jupyter-widgets/controls",
            "_model_module_version": "1.5.0",
            "value": 1617791,
            "_view_count": null,
            "_view_module_version": "1.5.0",
            "orientation": "horizontal",
            "min": 0,
            "description_tooltip": null,
            "_model_module": "@jupyter-widgets/controls",
            "layout": "IPY_MODEL_809cda20aff24cf3b1c4514e15dc7819"
          }
        },
        "b137fc55ae5b4beb8b8f63adc442c867": {
          "model_module": "@jupyter-widgets/controls",
          "model_name": "HTMLModel",
          "model_module_version": "1.5.0",
          "state": {
            "_view_name": "HTMLView",
            "style": "IPY_MODEL_b99d3d8ef5b84e96a0bb515027a24fd0",
            "_dom_classes": [],
            "description": "",
            "_model_name": "HTMLModel",
            "placeholder": "​",
            "_view_module": "@jupyter-widgets/controls",
            "_model_module_version": "1.5.0",
            "value": " 1.54M/1.54M [00:01&lt;00:00, 2.18MB/s]",
            "_view_count": null,
            "_view_module_version": "1.5.0",
            "description_tooltip": null,
            "_model_module": "@jupyter-widgets/controls",
            "layout": "IPY_MODEL_94e2a732807a407b8d491758a2491c52"
          }
        },
        "fb1a4223acb743f1a56ec1292425e728": {
          "model_module": "@jupyter-widgets/controls",
          "model_name": "DescriptionStyleModel",
          "model_module_version": "1.5.0",
          "state": {
            "_view_name": "StyleView",
            "_model_name": "DescriptionStyleModel",
            "description_width": "",
            "_view_module": "@jupyter-widgets/base",
            "_model_module_version": "1.5.0",
            "_view_count": null,
            "_view_module_version": "1.2.0",
            "_model_module": "@jupyter-widgets/controls"
          }
        },
        "fcbd197418634d978169b569731b3f4c": {
          "model_module": "@jupyter-widgets/base",
          "model_name": "LayoutModel",
          "model_module_version": "1.2.0",
          "state": {
            "_view_name": "LayoutView",
            "grid_template_rows": null,
            "right": null,
            "justify_content": null,
            "_view_module": "@jupyter-widgets/base",
            "overflow": null,
            "_model_module_version": "1.2.0",
            "_view_count": null,
            "flex_flow": null,
            "width": null,
            "min_width": null,
            "border": null,
            "align_items": null,
            "bottom": null,
            "_model_module": "@jupyter-widgets/base",
            "top": null,
            "grid_column": null,
            "overflow_y": null,
            "overflow_x": null,
            "grid_auto_flow": null,
            "grid_area": null,
            "grid_template_columns": null,
            "flex": null,
            "_model_name": "LayoutModel",
            "justify_items": null,
            "grid_row": null,
            "max_height": null,
            "align_content": null,
            "visibility": null,
            "align_self": null,
            "height": null,
            "min_height": null,
            "padding": null,
            "grid_auto_rows": null,
            "grid_gap": null,
            "max_width": null,
            "order": null,
            "_view_module_version": "1.2.0",
            "grid_template_areas": null,
            "object_position": null,
            "object_fit": null,
            "grid_auto_columns": null,
            "margin": null,
            "display": null,
            "left": null
          }
        },
        "e5a05f153d3645c9912f0ed32b639d41": {
          "model_module": "@jupyter-widgets/controls",
          "model_name": "ProgressStyleModel",
          "model_module_version": "1.5.0",
          "state": {
            "_view_name": "StyleView",
            "_model_name": "ProgressStyleModel",
            "description_width": "",
            "_view_module": "@jupyter-widgets/base",
            "_model_module_version": "1.5.0",
            "_view_count": null,
            "_view_module_version": "1.2.0",
            "bar_color": null,
            "_model_module": "@jupyter-widgets/controls"
          }
        },
        "809cda20aff24cf3b1c4514e15dc7819": {
          "model_module": "@jupyter-widgets/base",
          "model_name": "LayoutModel",
          "model_module_version": "1.2.0",
          "state": {
            "_view_name": "LayoutView",
            "grid_template_rows": null,
            "right": null,
            "justify_content": null,
            "_view_module": "@jupyter-widgets/base",
            "overflow": null,
            "_model_module_version": "1.2.0",
            "_view_count": null,
            "flex_flow": null,
            "width": null,
            "min_width": null,
            "border": null,
            "align_items": null,
            "bottom": null,
            "_model_module": "@jupyter-widgets/base",
            "top": null,
            "grid_column": null,
            "overflow_y": null,
            "overflow_x": null,
            "grid_auto_flow": null,
            "grid_area": null,
            "grid_template_columns": null,
            "flex": null,
            "_model_name": "LayoutModel",
            "justify_items": null,
            "grid_row": null,
            "max_height": null,
            "align_content": null,
            "visibility": null,
            "align_self": null,
            "height": null,
            "min_height": null,
            "padding": null,
            "grid_auto_rows": null,
            "grid_gap": null,
            "max_width": null,
            "order": null,
            "_view_module_version": "1.2.0",
            "grid_template_areas": null,
            "object_position": null,
            "object_fit": null,
            "grid_auto_columns": null,
            "margin": null,
            "display": null,
            "left": null
          }
        },
        "b99d3d8ef5b84e96a0bb515027a24fd0": {
          "model_module": "@jupyter-widgets/controls",
          "model_name": "DescriptionStyleModel",
          "model_module_version": "1.5.0",
          "state": {
            "_view_name": "StyleView",
            "_model_name": "DescriptionStyleModel",
            "description_width": "",
            "_view_module": "@jupyter-widgets/base",
            "_model_module_version": "1.5.0",
            "_view_count": null,
            "_view_module_version": "1.2.0",
            "_model_module": "@jupyter-widgets/controls"
          }
        },
        "94e2a732807a407b8d491758a2491c52": {
          "model_module": "@jupyter-widgets/base",
          "model_name": "LayoutModel",
          "model_module_version": "1.2.0",
          "state": {
            "_view_name": "LayoutView",
            "grid_template_rows": null,
            "right": null,
            "justify_content": null,
            "_view_module": "@jupyter-widgets/base",
            "overflow": null,
            "_model_module_version": "1.2.0",
            "_view_count": null,
            "flex_flow": null,
            "width": null,
            "min_width": null,
            "border": null,
            "align_items": null,
            "bottom": null,
            "_model_module": "@jupyter-widgets/base",
            "top": null,
            "grid_column": null,
            "overflow_y": null,
            "overflow_x": null,
            "grid_auto_flow": null,
            "grid_area": null,
            "grid_template_columns": null,
            "flex": null,
            "_model_name": "LayoutModel",
            "justify_items": null,
            "grid_row": null,
            "max_height": null,
            "align_content": null,
            "visibility": null,
            "align_self": null,
            "height": null,
            "min_height": null,
            "padding": null,
            "grid_auto_rows": null,
            "grid_gap": null,
            "max_width": null,
            "order": null,
            "_view_module_version": "1.2.0",
            "grid_template_areas": null,
            "object_position": null,
            "object_fit": null,
            "grid_auto_columns": null,
            "margin": null,
            "display": null,
            "left": null
          }
        },
        "38bcd30dc0444a728a9fcd53cfbb79c5": {
          "model_module": "@jupyter-widgets/controls",
          "model_name": "HBoxModel",
          "model_module_version": "1.5.0",
          "state": {
            "_view_name": "HBoxView",
            "_dom_classes": [],
            "_model_name": "HBoxModel",
            "_view_module": "@jupyter-widgets/controls",
            "_model_module_version": "1.5.0",
            "_view_count": null,
            "_view_module_version": "1.5.0",
            "box_style": "",
            "layout": "IPY_MODEL_8fe5346b67dc45ccacf7dfee1d9d0ae3",
            "_model_module": "@jupyter-widgets/controls",
            "children": [
              "IPY_MODEL_cc0a3c1b2238452ca2bd89ad73241ad8",
              "IPY_MODEL_3eb0bce68af34b3f857b72a28eeee8e2",
              "IPY_MODEL_04c2de6f57364a2d92a1279e0aa2eab4"
            ]
          }
        },
        "8fe5346b67dc45ccacf7dfee1d9d0ae3": {
          "model_module": "@jupyter-widgets/base",
          "model_name": "LayoutModel",
          "model_module_version": "1.2.0",
          "state": {
            "_view_name": "LayoutView",
            "grid_template_rows": null,
            "right": null,
            "justify_content": null,
            "_view_module": "@jupyter-widgets/base",
            "overflow": null,
            "_model_module_version": "1.2.0",
            "_view_count": null,
            "flex_flow": null,
            "width": null,
            "min_width": null,
            "border": null,
            "align_items": null,
            "bottom": null,
            "_model_module": "@jupyter-widgets/base",
            "top": null,
            "grid_column": null,
            "overflow_y": null,
            "overflow_x": null,
            "grid_auto_flow": null,
            "grid_area": null,
            "grid_template_columns": null,
            "flex": null,
            "_model_name": "LayoutModel",
            "justify_items": null,
            "grid_row": null,
            "max_height": null,
            "align_content": null,
            "visibility": null,
            "align_self": null,
            "height": null,
            "min_height": null,
            "padding": null,
            "grid_auto_rows": null,
            "grid_gap": null,
            "max_width": null,
            "order": null,
            "_view_module_version": "1.2.0",
            "grid_template_areas": null,
            "object_position": null,
            "object_fit": null,
            "grid_auto_columns": null,
            "margin": null,
            "display": null,
            "left": null
          }
        },
        "cc0a3c1b2238452ca2bd89ad73241ad8": {
          "model_module": "@jupyter-widgets/controls",
          "model_name": "HTMLModel",
          "model_module_version": "1.5.0",
          "state": {
            "_view_name": "HTMLView",
            "style": "IPY_MODEL_be45a7cf363f4ad8b70387d54bfeb568",
            "_dom_classes": [],
            "description": "",
            "_model_name": "HTMLModel",
            "placeholder": "​",
            "_view_module": "@jupyter-widgets/controls",
            "_model_module_version": "1.5.0",
            "value": "Downloading: 100%",
            "_view_count": null,
            "_view_module_version": "1.5.0",
            "description_tooltip": null,
            "_model_module": "@jupyter-widgets/controls",
            "layout": "IPY_MODEL_1b3e89c7dd274685b76aab1879975852"
          }
        },
        "3eb0bce68af34b3f857b72a28eeee8e2": {
          "model_module": "@jupyter-widgets/controls",
          "model_name": "FloatProgressModel",
          "model_module_version": "1.5.0",
          "state": {
            "_view_name": "ProgressView",
            "style": "IPY_MODEL_855bcfd8fee143a1b7329582d9edaf5f",
            "_dom_classes": [],
            "description": "",
            "_model_name": "FloatProgressModel",
            "bar_style": "success",
            "max": 312087009,
            "_view_module": "@jupyter-widgets/controls",
            "_model_module_version": "1.5.0",
            "value": 312087009,
            "_view_count": null,
            "_view_module_version": "1.5.0",
            "orientation": "horizontal",
            "min": 0,
            "description_tooltip": null,
            "_model_module": "@jupyter-widgets/controls",
            "layout": "IPY_MODEL_369cb25120014cbeb1f0367bd082665a"
          }
        },
        "04c2de6f57364a2d92a1279e0aa2eab4": {
          "model_module": "@jupyter-widgets/controls",
          "model_name": "HTMLModel",
          "model_module_version": "1.5.0",
          "state": {
            "_view_name": "HTMLView",
            "style": "IPY_MODEL_159bbef2c2884746a8078ef607df31c2",
            "_dom_classes": [],
            "description": "",
            "_model_name": "HTMLModel",
            "placeholder": "​",
            "_view_module": "@jupyter-widgets/controls",
            "_model_module_version": "1.5.0",
            "value": " 298M/298M [00:05&lt;00:00, 60.8MB/s]",
            "_view_count": null,
            "_view_module_version": "1.5.0",
            "description_tooltip": null,
            "_model_module": "@jupyter-widgets/controls",
            "layout": "IPY_MODEL_a4ffe7bcd5864a3485f4da6d0b7c9f28"
          }
        },
        "be45a7cf363f4ad8b70387d54bfeb568": {
          "model_module": "@jupyter-widgets/controls",
          "model_name": "DescriptionStyleModel",
          "model_module_version": "1.5.0",
          "state": {
            "_view_name": "StyleView",
            "_model_name": "DescriptionStyleModel",
            "description_width": "",
            "_view_module": "@jupyter-widgets/base",
            "_model_module_version": "1.5.0",
            "_view_count": null,
            "_view_module_version": "1.2.0",
            "_model_module": "@jupyter-widgets/controls"
          }
        },
        "1b3e89c7dd274685b76aab1879975852": {
          "model_module": "@jupyter-widgets/base",
          "model_name": "LayoutModel",
          "model_module_version": "1.2.0",
          "state": {
            "_view_name": "LayoutView",
            "grid_template_rows": null,
            "right": null,
            "justify_content": null,
            "_view_module": "@jupyter-widgets/base",
            "overflow": null,
            "_model_module_version": "1.2.0",
            "_view_count": null,
            "flex_flow": null,
            "width": null,
            "min_width": null,
            "border": null,
            "align_items": null,
            "bottom": null,
            "_model_module": "@jupyter-widgets/base",
            "top": null,
            "grid_column": null,
            "overflow_y": null,
            "overflow_x": null,
            "grid_auto_flow": null,
            "grid_area": null,
            "grid_template_columns": null,
            "flex": null,
            "_model_name": "LayoutModel",
            "justify_items": null,
            "grid_row": null,
            "max_height": null,
            "align_content": null,
            "visibility": null,
            "align_self": null,
            "height": null,
            "min_height": null,
            "padding": null,
            "grid_auto_rows": null,
            "grid_gap": null,
            "max_width": null,
            "order": null,
            "_view_module_version": "1.2.0",
            "grid_template_areas": null,
            "object_position": null,
            "object_fit": null,
            "grid_auto_columns": null,
            "margin": null,
            "display": null,
            "left": null
          }
        },
        "855bcfd8fee143a1b7329582d9edaf5f": {
          "model_module": "@jupyter-widgets/controls",
          "model_name": "ProgressStyleModel",
          "model_module_version": "1.5.0",
          "state": {
            "_view_name": "StyleView",
            "_model_name": "ProgressStyleModel",
            "description_width": "",
            "_view_module": "@jupyter-widgets/base",
            "_model_module_version": "1.5.0",
            "_view_count": null,
            "_view_module_version": "1.2.0",
            "bar_color": null,
            "_model_module": "@jupyter-widgets/controls"
          }
        },
        "369cb25120014cbeb1f0367bd082665a": {
          "model_module": "@jupyter-widgets/base",
          "model_name": "LayoutModel",
          "model_module_version": "1.2.0",
          "state": {
            "_view_name": "LayoutView",
            "grid_template_rows": null,
            "right": null,
            "justify_content": null,
            "_view_module": "@jupyter-widgets/base",
            "overflow": null,
            "_model_module_version": "1.2.0",
            "_view_count": null,
            "flex_flow": null,
            "width": null,
            "min_width": null,
            "border": null,
            "align_items": null,
            "bottom": null,
            "_model_module": "@jupyter-widgets/base",
            "top": null,
            "grid_column": null,
            "overflow_y": null,
            "overflow_x": null,
            "grid_auto_flow": null,
            "grid_area": null,
            "grid_template_columns": null,
            "flex": null,
            "_model_name": "LayoutModel",
            "justify_items": null,
            "grid_row": null,
            "max_height": null,
            "align_content": null,
            "visibility": null,
            "align_self": null,
            "height": null,
            "min_height": null,
            "padding": null,
            "grid_auto_rows": null,
            "grid_gap": null,
            "max_width": null,
            "order": null,
            "_view_module_version": "1.2.0",
            "grid_template_areas": null,
            "object_position": null,
            "object_fit": null,
            "grid_auto_columns": null,
            "margin": null,
            "display": null,
            "left": null
          }
        },
        "159bbef2c2884746a8078ef607df31c2": {
          "model_module": "@jupyter-widgets/controls",
          "model_name": "DescriptionStyleModel",
          "model_module_version": "1.5.0",
          "state": {
            "_view_name": "StyleView",
            "_model_name": "DescriptionStyleModel",
            "description_width": "",
            "_view_module": "@jupyter-widgets/base",
            "_model_module_version": "1.5.0",
            "_view_count": null,
            "_view_module_version": "1.2.0",
            "_model_module": "@jupyter-widgets/controls"
          }
        },
        "a4ffe7bcd5864a3485f4da6d0b7c9f28": {
          "model_module": "@jupyter-widgets/base",
          "model_name": "LayoutModel",
          "model_module_version": "1.2.0",
          "state": {
            "_view_name": "LayoutView",
            "grid_template_rows": null,
            "right": null,
            "justify_content": null,
            "_view_module": "@jupyter-widgets/base",
            "overflow": null,
            "_model_module_version": "1.2.0",
            "_view_count": null,
            "flex_flow": null,
            "width": null,
            "min_width": null,
            "border": null,
            "align_items": null,
            "bottom": null,
            "_model_module": "@jupyter-widgets/base",
            "top": null,
            "grid_column": null,
            "overflow_y": null,
            "overflow_x": null,
            "grid_auto_flow": null,
            "grid_area": null,
            "grid_template_columns": null,
            "flex": null,
            "_model_name": "LayoutModel",
            "justify_items": null,
            "grid_row": null,
            "max_height": null,
            "align_content": null,
            "visibility": null,
            "align_self": null,
            "height": null,
            "min_height": null,
            "padding": null,
            "grid_auto_rows": null,
            "grid_gap": null,
            "max_width": null,
            "order": null,
            "_view_module_version": "1.2.0",
            "grid_template_areas": null,
            "object_position": null,
            "object_fit": null,
            "grid_auto_columns": null,
            "margin": null,
            "display": null,
            "left": null
          }
        },
        "b7db1cc09c3748ddb8037fdb942ebed9": {
          "model_module": "@jupyter-widgets/controls",
          "model_name": "VBoxModel",
          "model_module_version": "1.5.0",
          "state": {
            "_view_name": "VBoxView",
            "_dom_classes": [],
            "_model_name": "VBoxModel",
            "_view_module": "@jupyter-widgets/controls",
            "_model_module_version": "1.5.0",
            "_view_count": null,
            "_view_module_version": "1.5.0",
            "box_style": "",
            "layout": "IPY_MODEL_c5dbb1e9c5ac4e0d99913aeb8ba2dbdd",
            "_model_module": "@jupyter-widgets/controls",
            "children": [
              "IPY_MODEL_2d8037939f3f4c1883de01aac7457c5e",
              "IPY_MODEL_0381b2fdbcbc4b6784c3d549b783e259",
              "IPY_MODEL_40e9c0db9095455b9e936034625c2801",
              "IPY_MODEL_c489f2c7fa0f4667a6904195e501993f",
              "IPY_MODEL_c261570fdd9e4763be157f44a651a7fc"
            ]
          }
        },
        "c5dbb1e9c5ac4e0d99913aeb8ba2dbdd": {
          "model_module": "@jupyter-widgets/base",
          "model_name": "LayoutModel",
          "model_module_version": "1.2.0",
          "state": {
            "_view_name": "LayoutView",
            "grid_template_rows": null,
            "right": null,
            "justify_content": null,
            "_view_module": "@jupyter-widgets/base",
            "overflow": null,
            "_model_module_version": "1.2.0",
            "_view_count": null,
            "flex_flow": "column",
            "width": "50%",
            "min_width": null,
            "border": null,
            "align_items": "center",
            "bottom": null,
            "_model_module": "@jupyter-widgets/base",
            "top": null,
            "grid_column": null,
            "overflow_y": null,
            "overflow_x": null,
            "grid_auto_flow": null,
            "grid_area": null,
            "grid_template_columns": null,
            "flex": null,
            "_model_name": "LayoutModel",
            "justify_items": null,
            "grid_row": null,
            "max_height": null,
            "align_content": null,
            "visibility": null,
            "align_self": null,
            "height": null,
            "min_height": null,
            "padding": null,
            "grid_auto_rows": null,
            "grid_gap": null,
            "max_width": null,
            "order": null,
            "_view_module_version": "1.2.0",
            "grid_template_areas": null,
            "object_position": null,
            "object_fit": null,
            "grid_auto_columns": null,
            "margin": null,
            "display": "flex",
            "left": null
          }
        },
        "2d8037939f3f4c1883de01aac7457c5e": {
          "model_module": "@jupyter-widgets/controls",
          "model_name": "HTMLModel",
          "model_module_version": "1.5.0",
          "state": {
            "_view_name": "HTMLView",
            "style": "IPY_MODEL_2e0c3e1052f741aba5249a73737b4d93",
            "_dom_classes": [],
            "description": "",
            "_model_name": "HTMLModel",
            "placeholder": "​",
            "_view_module": "@jupyter-widgets/controls",
            "_model_module_version": "1.5.0",
            "value": "<center>\n<img src=https://huggingface.co/front/assets/huggingface_logo-noborder.svg alt='Hugging Face'>\n<br>\nCopy a token from <a href=\"https://huggingface.co/settings/token\" target=\"_blank\">your Hugging Face tokens page</a> and paste it below.\n<br>\nImmediately click login after copying your token or it might be stored in plain text in this notebook file.\n</center>",
            "_view_count": null,
            "_view_module_version": "1.5.0",
            "description_tooltip": null,
            "_model_module": "@jupyter-widgets/controls",
            "layout": "IPY_MODEL_b4a0b40aa9d1441184a1b8372c0d0a56"
          }
        },
        "0381b2fdbcbc4b6784c3d549b783e259": {
          "model_module": "@jupyter-widgets/controls",
          "model_name": "PasswordModel",
          "model_module_version": "1.5.0",
          "state": {
            "_view_name": "PasswordView",
            "style": "IPY_MODEL_3cac1e826a2341748672d6023023f68c",
            "_dom_classes": [],
            "description": "Token:",
            "_model_name": "PasswordModel",
            "placeholder": "​",
            "_view_module": "@jupyter-widgets/controls",
            "_model_module_version": "1.5.0",
            "value": "",
            "_view_count": null,
            "disabled": false,
            "_view_module_version": "1.5.0",
            "continuous_update": true,
            "description_tooltip": null,
            "_model_module": "@jupyter-widgets/controls",
            "layout": "IPY_MODEL_c142ce49330d46c8b3be4479b8c198e0"
          }
        },
        "40e9c0db9095455b9e936034625c2801": {
          "model_module": "@jupyter-widgets/controls",
          "model_name": "ButtonModel",
          "model_module_version": "1.5.0",
          "state": {
            "_view_name": "ButtonView",
            "style": "IPY_MODEL_b0bc7f74b64a4d51ab0ae8fa9bf7eca6",
            "_dom_classes": [],
            "description": "Login",
            "_model_name": "ButtonModel",
            "button_style": "",
            "_view_module": "@jupyter-widgets/controls",
            "_model_module_version": "1.5.0",
            "tooltip": "",
            "_view_count": null,
            "disabled": false,
            "_view_module_version": "1.5.0",
            "layout": "IPY_MODEL_7568e654573d4ac2bf064f8238d7c159",
            "_model_module": "@jupyter-widgets/controls",
            "icon": ""
          }
        },
        "c489f2c7fa0f4667a6904195e501993f": {
          "model_module": "@jupyter-widgets/controls",
          "model_name": "HTMLModel",
          "model_module_version": "1.5.0",
          "state": {
            "_view_name": "HTMLView",
            "style": "IPY_MODEL_a76743642d9a4df78932e186e7be4c97",
            "_dom_classes": [],
            "description": "",
            "_model_name": "HTMLModel",
            "placeholder": "​",
            "_view_module": "@jupyter-widgets/controls",
            "_model_module_version": "1.5.0",
            "value": "\n<b>Pro Tip:</b> If you don't already have one, you can create a dedicated 'notebooks' token with 'write' access, that you can then easily reuse for all notebooks.\n<br>\n<i>Logging in with your username and password is deprecated and won't be possible anymore in the near future. You can still use them for now by clicking below.</i>\n</center>",
            "_view_count": null,
            "_view_module_version": "1.5.0",
            "description_tooltip": null,
            "_model_module": "@jupyter-widgets/controls",
            "layout": "IPY_MODEL_33965085d61648f7be92e2aa0e8e83dc"
          }
        },
        "c261570fdd9e4763be157f44a651a7fc": {
          "model_module": "@jupyter-widgets/controls",
          "model_name": "ButtonModel",
          "model_module_version": "1.5.0",
          "state": {
            "_view_name": "ButtonView",
            "style": "IPY_MODEL_b7fc8eebfca345a8af4bf424878107e2",
            "_dom_classes": [],
            "description": "Use password",
            "_model_name": "ButtonModel",
            "button_style": "",
            "_view_module": "@jupyter-widgets/controls",
            "_model_module_version": "1.5.0",
            "tooltip": "",
            "_view_count": null,
            "disabled": false,
            "_view_module_version": "1.5.0",
            "layout": "IPY_MODEL_13eb4382904647439f80f4a6eaad3ce9",
            "_model_module": "@jupyter-widgets/controls",
            "icon": ""
          }
        },
        "2e0c3e1052f741aba5249a73737b4d93": {
          "model_module": "@jupyter-widgets/controls",
          "model_name": "DescriptionStyleModel",
          "model_module_version": "1.5.0",
          "state": {
            "_view_name": "StyleView",
            "_model_name": "DescriptionStyleModel",
            "description_width": "",
            "_view_module": "@jupyter-widgets/base",
            "_model_module_version": "1.5.0",
            "_view_count": null,
            "_view_module_version": "1.2.0",
            "_model_module": "@jupyter-widgets/controls"
          }
        },
        "b4a0b40aa9d1441184a1b8372c0d0a56": {
          "model_module": "@jupyter-widgets/base",
          "model_name": "LayoutModel",
          "model_module_version": "1.2.0",
          "state": {
            "_view_name": "LayoutView",
            "grid_template_rows": null,
            "right": null,
            "justify_content": null,
            "_view_module": "@jupyter-widgets/base",
            "overflow": null,
            "_model_module_version": "1.2.0",
            "_view_count": null,
            "flex_flow": null,
            "width": null,
            "min_width": null,
            "border": null,
            "align_items": null,
            "bottom": null,
            "_model_module": "@jupyter-widgets/base",
            "top": null,
            "grid_column": null,
            "overflow_y": null,
            "overflow_x": null,
            "grid_auto_flow": null,
            "grid_area": null,
            "grid_template_columns": null,
            "flex": null,
            "_model_name": "LayoutModel",
            "justify_items": null,
            "grid_row": null,
            "max_height": null,
            "align_content": null,
            "visibility": null,
            "align_self": null,
            "height": null,
            "min_height": null,
            "padding": null,
            "grid_auto_rows": null,
            "grid_gap": null,
            "max_width": null,
            "order": null,
            "_view_module_version": "1.2.0",
            "grid_template_areas": null,
            "object_position": null,
            "object_fit": null,
            "grid_auto_columns": null,
            "margin": null,
            "display": null,
            "left": null
          }
        },
        "3cac1e826a2341748672d6023023f68c": {
          "model_module": "@jupyter-widgets/controls",
          "model_name": "DescriptionStyleModel",
          "model_module_version": "1.5.0",
          "state": {
            "_view_name": "StyleView",
            "_model_name": "DescriptionStyleModel",
            "description_width": "",
            "_view_module": "@jupyter-widgets/base",
            "_model_module_version": "1.5.0",
            "_view_count": null,
            "_view_module_version": "1.2.0",
            "_model_module": "@jupyter-widgets/controls"
          }
        },
        "c142ce49330d46c8b3be4479b8c198e0": {
          "model_module": "@jupyter-widgets/base",
          "model_name": "LayoutModel",
          "model_module_version": "1.2.0",
          "state": {
            "_view_name": "LayoutView",
            "grid_template_rows": null,
            "right": null,
            "justify_content": null,
            "_view_module": "@jupyter-widgets/base",
            "overflow": null,
            "_model_module_version": "1.2.0",
            "_view_count": null,
            "flex_flow": null,
            "width": null,
            "min_width": null,
            "border": null,
            "align_items": null,
            "bottom": null,
            "_model_module": "@jupyter-widgets/base",
            "top": null,
            "grid_column": null,
            "overflow_y": null,
            "overflow_x": null,
            "grid_auto_flow": null,
            "grid_area": null,
            "grid_template_columns": null,
            "flex": null,
            "_model_name": "LayoutModel",
            "justify_items": null,
            "grid_row": null,
            "max_height": null,
            "align_content": null,
            "visibility": null,
            "align_self": null,
            "height": null,
            "min_height": null,
            "padding": null,
            "grid_auto_rows": null,
            "grid_gap": null,
            "max_width": null,
            "order": null,
            "_view_module_version": "1.2.0",
            "grid_template_areas": null,
            "object_position": null,
            "object_fit": null,
            "grid_auto_columns": null,
            "margin": null,
            "display": null,
            "left": null
          }
        },
        "b0bc7f74b64a4d51ab0ae8fa9bf7eca6": {
          "model_module": "@jupyter-widgets/controls",
          "model_name": "ButtonStyleModel",
          "model_module_version": "1.5.0",
          "state": {
            "_view_name": "StyleView",
            "_model_name": "ButtonStyleModel",
            "_view_module": "@jupyter-widgets/base",
            "_model_module_version": "1.5.0",
            "_view_count": null,
            "button_color": null,
            "font_weight": "",
            "_view_module_version": "1.2.0",
            "_model_module": "@jupyter-widgets/controls"
          }
        },
        "7568e654573d4ac2bf064f8238d7c159": {
          "model_module": "@jupyter-widgets/base",
          "model_name": "LayoutModel",
          "model_module_version": "1.2.0",
          "state": {
            "_view_name": "LayoutView",
            "grid_template_rows": null,
            "right": null,
            "justify_content": null,
            "_view_module": "@jupyter-widgets/base",
            "overflow": null,
            "_model_module_version": "1.2.0",
            "_view_count": null,
            "flex_flow": null,
            "width": null,
            "min_width": null,
            "border": null,
            "align_items": null,
            "bottom": null,
            "_model_module": "@jupyter-widgets/base",
            "top": null,
            "grid_column": null,
            "overflow_y": null,
            "overflow_x": null,
            "grid_auto_flow": null,
            "grid_area": null,
            "grid_template_columns": null,
            "flex": null,
            "_model_name": "LayoutModel",
            "justify_items": null,
            "grid_row": null,
            "max_height": null,
            "align_content": null,
            "visibility": null,
            "align_self": null,
            "height": null,
            "min_height": null,
            "padding": null,
            "grid_auto_rows": null,
            "grid_gap": null,
            "max_width": null,
            "order": null,
            "_view_module_version": "1.2.0",
            "grid_template_areas": null,
            "object_position": null,
            "object_fit": null,
            "grid_auto_columns": null,
            "margin": null,
            "display": null,
            "left": null
          }
        },
        "a76743642d9a4df78932e186e7be4c97": {
          "model_module": "@jupyter-widgets/controls",
          "model_name": "DescriptionStyleModel",
          "model_module_version": "1.5.0",
          "state": {
            "_view_name": "StyleView",
            "_model_name": "DescriptionStyleModel",
            "description_width": "",
            "_view_module": "@jupyter-widgets/base",
            "_model_module_version": "1.5.0",
            "_view_count": null,
            "_view_module_version": "1.2.0",
            "_model_module": "@jupyter-widgets/controls"
          }
        },
        "33965085d61648f7be92e2aa0e8e83dc": {
          "model_module": "@jupyter-widgets/base",
          "model_name": "LayoutModel",
          "model_module_version": "1.2.0",
          "state": {
            "_view_name": "LayoutView",
            "grid_template_rows": null,
            "right": null,
            "justify_content": null,
            "_view_module": "@jupyter-widgets/base",
            "overflow": null,
            "_model_module_version": "1.2.0",
            "_view_count": null,
            "flex_flow": null,
            "width": null,
            "min_width": null,
            "border": null,
            "align_items": null,
            "bottom": null,
            "_model_module": "@jupyter-widgets/base",
            "top": null,
            "grid_column": null,
            "overflow_y": null,
            "overflow_x": null,
            "grid_auto_flow": null,
            "grid_area": null,
            "grid_template_columns": null,
            "flex": null,
            "_model_name": "LayoutModel",
            "justify_items": null,
            "grid_row": null,
            "max_height": null,
            "align_content": null,
            "visibility": null,
            "align_self": null,
            "height": null,
            "min_height": null,
            "padding": null,
            "grid_auto_rows": null,
            "grid_gap": null,
            "max_width": null,
            "order": null,
            "_view_module_version": "1.2.0",
            "grid_template_areas": null,
            "object_position": null,
            "object_fit": null,
            "grid_auto_columns": null,
            "margin": null,
            "display": null,
            "left": null
          }
        },
        "b7fc8eebfca345a8af4bf424878107e2": {
          "model_module": "@jupyter-widgets/controls",
          "model_name": "ButtonStyleModel",
          "model_module_version": "1.5.0",
          "state": {
            "_view_name": "StyleView",
            "_model_name": "ButtonStyleModel",
            "_view_module": "@jupyter-widgets/base",
            "_model_module_version": "1.5.0",
            "_view_count": null,
            "button_color": null,
            "font_weight": "",
            "_view_module_version": "1.2.0",
            "_model_module": "@jupyter-widgets/controls"
          }
        },
        "13eb4382904647439f80f4a6eaad3ce9": {
          "model_module": "@jupyter-widgets/base",
          "model_name": "LayoutModel",
          "model_module_version": "1.2.0",
          "state": {
            "_view_name": "LayoutView",
            "grid_template_rows": null,
            "right": null,
            "justify_content": null,
            "_view_module": "@jupyter-widgets/base",
            "overflow": null,
            "_model_module_version": "1.2.0",
            "_view_count": null,
            "flex_flow": null,
            "width": null,
            "min_width": null,
            "border": null,
            "align_items": null,
            "bottom": null,
            "_model_module": "@jupyter-widgets/base",
            "top": null,
            "grid_column": null,
            "overflow_y": null,
            "overflow_x": null,
            "grid_auto_flow": null,
            "grid_area": null,
            "grid_template_columns": null,
            "flex": null,
            "_model_name": "LayoutModel",
            "justify_items": null,
            "grid_row": null,
            "max_height": null,
            "align_content": null,
            "visibility": null,
            "align_self": null,
            "height": null,
            "min_height": null,
            "padding": null,
            "grid_auto_rows": null,
            "grid_gap": null,
            "max_width": null,
            "order": null,
            "_view_module_version": "1.2.0",
            "grid_template_areas": null,
            "object_position": null,
            "object_fit": null,
            "grid_auto_columns": null,
            "margin": null,
            "display": null,
            "left": null
          }
        },
        "6c079008c21c428fbbcd73020981532d": {
          "model_module": "@jupyter-widgets/controls",
          "model_name": "VBoxModel",
          "model_module_version": "1.5.0",
          "state": {
            "_view_name": "VBoxView",
            "_dom_classes": [],
            "_model_name": "VBoxModel",
            "_view_module": "@jupyter-widgets/controls",
            "_model_module_version": "1.5.0",
            "_view_count": null,
            "_view_module_version": "1.5.0",
            "box_style": "",
            "layout": "IPY_MODEL_c5dbb1e9c5ac4e0d99913aeb8ba2dbdd",
            "_model_module": "@jupyter-widgets/controls",
            "children": [
              "IPY_MODEL_7396a159901741ea8052081e3d96d278",
              "IPY_MODEL_f0ad386fef6b4c0898940948825268f8",
              "IPY_MODEL_b7ce95dd06a841ea81079fc81e80ec66"
            ]
          }
        },
        "7396a159901741ea8052081e3d96d278": {
          "model_module": "@jupyter-widgets/controls",
          "model_name": "HTMLModel",
          "model_module_version": "1.5.0",
          "state": {
            "_view_name": "HTMLView",
            "style": "IPY_MODEL_3f2c7a3afd564b34a42d364b2e503da9",
            "_dom_classes": [],
            "description": "",
            "_model_name": "HTMLModel",
            "placeholder": "​",
            "_view_module": "@jupyter-widgets/controls",
            "_model_module_version": "1.5.0",
            "value": "<center>\n<img src=https://huggingface.co/front/assets/huggingface_logo-noborder.svg alt='Hugging Face'>\n<br>\nImmediately click login after typing your password or it might be stored in plain text in this notebook file.\n</center>",
            "_view_count": null,
            "_view_module_version": "1.5.0",
            "description_tooltip": null,
            "_model_module": "@jupyter-widgets/controls",
            "layout": "IPY_MODEL_32444d541e534b2cb5d6152b7e46f145"
          }
        },
        "f0ad386fef6b4c0898940948825268f8": {
          "model_module": "@jupyter-widgets/controls",
          "model_name": "HBoxModel",
          "model_module_version": "1.5.0",
          "state": {
            "_view_name": "HBoxView",
            "_dom_classes": [],
            "_model_name": "HBoxModel",
            "_view_module": "@jupyter-widgets/controls",
            "_model_module_version": "1.5.0",
            "_view_count": null,
            "_view_module_version": "1.5.0",
            "box_style": "",
            "layout": "IPY_MODEL_a1c6b6ac05a94fe2b126362fb12ef17f",
            "_model_module": "@jupyter-widgets/controls",
            "children": [
              "IPY_MODEL_0595a57619014384837c8ed3eb5e193d",
              "IPY_MODEL_1c0145d2c8ce43ba8d46ef8d4290e1a4"
            ]
          }
        },
        "b7ce95dd06a841ea81079fc81e80ec66": {
          "model_module": "@jupyter-widgets/controls",
          "model_name": "ButtonModel",
          "model_module_version": "1.5.0",
          "state": {
            "_view_name": "ButtonView",
            "style": "IPY_MODEL_ab1e641495454c67b6ed8a8a57f10832",
            "_dom_classes": [],
            "description": "Login",
            "_model_name": "ButtonModel",
            "button_style": "",
            "_view_module": "@jupyter-widgets/controls",
            "_model_module_version": "1.5.0",
            "tooltip": "",
            "_view_count": null,
            "disabled": false,
            "_view_module_version": "1.5.0",
            "layout": "IPY_MODEL_bb42d5df4bc541aaa2e40757352ae7dd",
            "_model_module": "@jupyter-widgets/controls",
            "icon": ""
          }
        },
        "3f2c7a3afd564b34a42d364b2e503da9": {
          "model_module": "@jupyter-widgets/controls",
          "model_name": "DescriptionStyleModel",
          "model_module_version": "1.5.0",
          "state": {
            "_view_name": "StyleView",
            "_model_name": "DescriptionStyleModel",
            "description_width": "",
            "_view_module": "@jupyter-widgets/base",
            "_model_module_version": "1.5.0",
            "_view_count": null,
            "_view_module_version": "1.2.0",
            "_model_module": "@jupyter-widgets/controls"
          }
        },
        "32444d541e534b2cb5d6152b7e46f145": {
          "model_module": "@jupyter-widgets/base",
          "model_name": "LayoutModel",
          "model_module_version": "1.2.0",
          "state": {
            "_view_name": "LayoutView",
            "grid_template_rows": null,
            "right": null,
            "justify_content": null,
            "_view_module": "@jupyter-widgets/base",
            "overflow": null,
            "_model_module_version": "1.2.0",
            "_view_count": null,
            "flex_flow": null,
            "width": null,
            "min_width": null,
            "border": null,
            "align_items": null,
            "bottom": null,
            "_model_module": "@jupyter-widgets/base",
            "top": null,
            "grid_column": null,
            "overflow_y": null,
            "overflow_x": null,
            "grid_auto_flow": null,
            "grid_area": null,
            "grid_template_columns": null,
            "flex": null,
            "_model_name": "LayoutModel",
            "justify_items": null,
            "grid_row": null,
            "max_height": null,
            "align_content": null,
            "visibility": null,
            "align_self": null,
            "height": null,
            "min_height": null,
            "padding": null,
            "grid_auto_rows": null,
            "grid_gap": null,
            "max_width": null,
            "order": null,
            "_view_module_version": "1.2.0",
            "grid_template_areas": null,
            "object_position": null,
            "object_fit": null,
            "grid_auto_columns": null,
            "margin": null,
            "display": null,
            "left": null
          }
        },
        "a1c6b6ac05a94fe2b126362fb12ef17f": {
          "model_module": "@jupyter-widgets/base",
          "model_name": "LayoutModel",
          "model_module_version": "1.2.0",
          "state": {
            "_view_name": "LayoutView",
            "grid_template_rows": null,
            "right": null,
            "justify_content": null,
            "_view_module": "@jupyter-widgets/base",
            "overflow": null,
            "_model_module_version": "1.2.0",
            "_view_count": null,
            "flex_flow": null,
            "width": null,
            "min_width": null,
            "border": null,
            "align_items": null,
            "bottom": null,
            "_model_module": "@jupyter-widgets/base",
            "top": null,
            "grid_column": null,
            "overflow_y": null,
            "overflow_x": null,
            "grid_auto_flow": null,
            "grid_area": null,
            "grid_template_columns": null,
            "flex": null,
            "_model_name": "LayoutModel",
            "justify_items": null,
            "grid_row": null,
            "max_height": null,
            "align_content": null,
            "visibility": null,
            "align_self": null,
            "height": null,
            "min_height": null,
            "padding": null,
            "grid_auto_rows": null,
            "grid_gap": null,
            "max_width": null,
            "order": null,
            "_view_module_version": "1.2.0",
            "grid_template_areas": null,
            "object_position": null,
            "object_fit": null,
            "grid_auto_columns": null,
            "margin": null,
            "display": null,
            "left": null
          }
        },
        "0595a57619014384837c8ed3eb5e193d": {
          "model_module": "@jupyter-widgets/controls",
          "model_name": "TextModel",
          "model_module_version": "1.5.0",
          "state": {
            "_view_name": "TextView",
            "style": "IPY_MODEL_b34bb2384f7b43e78f4fac83a5656dba",
            "_dom_classes": [],
            "description": "Username:",
            "_model_name": "TextModel",
            "placeholder": "​",
            "_view_module": "@jupyter-widgets/controls",
            "_model_module_version": "1.5.0",
            "value": "fweital@gmail.com",
            "_view_count": null,
            "disabled": false,
            "_view_module_version": "1.5.0",
            "continuous_update": true,
            "description_tooltip": null,
            "_model_module": "@jupyter-widgets/controls",
            "layout": "IPY_MODEL_80aa34fa59254bb08e565a859bb07b1f"
          }
        },
        "1c0145d2c8ce43ba8d46ef8d4290e1a4": {
          "model_module": "@jupyter-widgets/controls",
          "model_name": "PasswordModel",
          "model_module_version": "1.5.0",
          "state": {
            "_view_name": "PasswordView",
            "style": "IPY_MODEL_59a4d3e85af6431dbc231d5e940d4029",
            "_dom_classes": [],
            "description": "Password:",
            "_model_name": "PasswordModel",
            "placeholder": "​",
            "_view_module": "@jupyter-widgets/controls",
            "_model_module_version": "1.5.0",
            "value": "",
            "_view_count": null,
            "disabled": false,
            "_view_module_version": "1.5.0",
            "continuous_update": true,
            "description_tooltip": null,
            "_model_module": "@jupyter-widgets/controls",
            "layout": "IPY_MODEL_42d991aefda54c25bd47d0387649d262"
          }
        },
        "ab1e641495454c67b6ed8a8a57f10832": {
          "model_module": "@jupyter-widgets/controls",
          "model_name": "ButtonStyleModel",
          "model_module_version": "1.5.0",
          "state": {
            "_view_name": "StyleView",
            "_model_name": "ButtonStyleModel",
            "_view_module": "@jupyter-widgets/base",
            "_model_module_version": "1.5.0",
            "_view_count": null,
            "button_color": null,
            "font_weight": "",
            "_view_module_version": "1.2.0",
            "_model_module": "@jupyter-widgets/controls"
          }
        },
        "bb42d5df4bc541aaa2e40757352ae7dd": {
          "model_module": "@jupyter-widgets/base",
          "model_name": "LayoutModel",
          "model_module_version": "1.2.0",
          "state": {
            "_view_name": "LayoutView",
            "grid_template_rows": null,
            "right": null,
            "justify_content": null,
            "_view_module": "@jupyter-widgets/base",
            "overflow": null,
            "_model_module_version": "1.2.0",
            "_view_count": null,
            "flex_flow": null,
            "width": null,
            "min_width": null,
            "border": null,
            "align_items": null,
            "bottom": null,
            "_model_module": "@jupyter-widgets/base",
            "top": null,
            "grid_column": null,
            "overflow_y": null,
            "overflow_x": null,
            "grid_auto_flow": null,
            "grid_area": null,
            "grid_template_columns": null,
            "flex": null,
            "_model_name": "LayoutModel",
            "justify_items": null,
            "grid_row": null,
            "max_height": null,
            "align_content": null,
            "visibility": null,
            "align_self": null,
            "height": null,
            "min_height": null,
            "padding": null,
            "grid_auto_rows": null,
            "grid_gap": null,
            "max_width": null,
            "order": null,
            "_view_module_version": "1.2.0",
            "grid_template_areas": null,
            "object_position": null,
            "object_fit": null,
            "grid_auto_columns": null,
            "margin": null,
            "display": null,
            "left": null
          }
        },
        "b34bb2384f7b43e78f4fac83a5656dba": {
          "model_module": "@jupyter-widgets/controls",
          "model_name": "DescriptionStyleModel",
          "model_module_version": "1.5.0",
          "state": {
            "_view_name": "StyleView",
            "_model_name": "DescriptionStyleModel",
            "description_width": "",
            "_view_module": "@jupyter-widgets/base",
            "_model_module_version": "1.5.0",
            "_view_count": null,
            "_view_module_version": "1.2.0",
            "_model_module": "@jupyter-widgets/controls"
          }
        },
        "80aa34fa59254bb08e565a859bb07b1f": {
          "model_module": "@jupyter-widgets/base",
          "model_name": "LayoutModel",
          "model_module_version": "1.2.0",
          "state": {
            "_view_name": "LayoutView",
            "grid_template_rows": null,
            "right": null,
            "justify_content": null,
            "_view_module": "@jupyter-widgets/base",
            "overflow": null,
            "_model_module_version": "1.2.0",
            "_view_count": null,
            "flex_flow": null,
            "width": null,
            "min_width": null,
            "border": null,
            "align_items": null,
            "bottom": null,
            "_model_module": "@jupyter-widgets/base",
            "top": null,
            "grid_column": null,
            "overflow_y": null,
            "overflow_x": null,
            "grid_auto_flow": null,
            "grid_area": null,
            "grid_template_columns": null,
            "flex": null,
            "_model_name": "LayoutModel",
            "justify_items": null,
            "grid_row": null,
            "max_height": null,
            "align_content": null,
            "visibility": null,
            "align_self": null,
            "height": null,
            "min_height": null,
            "padding": null,
            "grid_auto_rows": null,
            "grid_gap": null,
            "max_width": null,
            "order": null,
            "_view_module_version": "1.2.0",
            "grid_template_areas": null,
            "object_position": null,
            "object_fit": null,
            "grid_auto_columns": null,
            "margin": null,
            "display": null,
            "left": null
          }
        },
        "59a4d3e85af6431dbc231d5e940d4029": {
          "model_module": "@jupyter-widgets/controls",
          "model_name": "DescriptionStyleModel",
          "model_module_version": "1.5.0",
          "state": {
            "_view_name": "StyleView",
            "_model_name": "DescriptionStyleModel",
            "description_width": "",
            "_view_module": "@jupyter-widgets/base",
            "_model_module_version": "1.5.0",
            "_view_count": null,
            "_view_module_version": "1.2.0",
            "_model_module": "@jupyter-widgets/controls"
          }
        },
        "42d991aefda54c25bd47d0387649d262": {
          "model_module": "@jupyter-widgets/base",
          "model_name": "LayoutModel",
          "model_module_version": "1.2.0",
          "state": {
            "_view_name": "LayoutView",
            "grid_template_rows": null,
            "right": null,
            "justify_content": null,
            "_view_module": "@jupyter-widgets/base",
            "overflow": null,
            "_model_module_version": "1.2.0",
            "_view_count": null,
            "flex_flow": null,
            "width": null,
            "min_width": null,
            "border": null,
            "align_items": null,
            "bottom": null,
            "_model_module": "@jupyter-widgets/base",
            "top": null,
            "grid_column": null,
            "overflow_y": null,
            "overflow_x": null,
            "grid_auto_flow": null,
            "grid_area": null,
            "grid_template_columns": null,
            "flex": null,
            "_model_name": "LayoutModel",
            "justify_items": null,
            "grid_row": null,
            "max_height": null,
            "align_content": null,
            "visibility": null,
            "align_self": null,
            "height": null,
            "min_height": null,
            "padding": null,
            "grid_auto_rows": null,
            "grid_gap": null,
            "max_width": null,
            "order": null,
            "_view_module_version": "1.2.0",
            "grid_template_areas": null,
            "object_position": null,
            "object_fit": null,
            "grid_auto_columns": null,
            "margin": null,
            "display": null,
            "left": null
          }
        },
        "48d390bbcc1b49abaebf5c2bdbed7763": {
          "model_module": "@jupyter-widgets/controls",
          "model_name": "HBoxModel",
          "model_module_version": "1.5.0",
          "state": {
            "_view_name": "HBoxView",
            "_dom_classes": [],
            "_model_name": "HBoxModel",
            "_view_module": "@jupyter-widgets/controls",
            "_model_module_version": "1.5.0",
            "_view_count": null,
            "_view_module_version": "1.5.0",
            "box_style": "",
            "layout": "IPY_MODEL_b13f3fb35e6441bfa7ac0d3d5c445454",
            "_model_module": "@jupyter-widgets/controls",
            "children": [
              "IPY_MODEL_30a40b78343a4163818d4cf190bcc696",
              "IPY_MODEL_062c16bee16f4af1878b68f36adf55fa",
              "IPY_MODEL_1268f0fd3c9345b49465be8a9923ba29"
            ]
          }
        },
        "b13f3fb35e6441bfa7ac0d3d5c445454": {
          "model_module": "@jupyter-widgets/base",
          "model_name": "LayoutModel",
          "model_module_version": "1.2.0",
          "state": {
            "_view_name": "LayoutView",
            "grid_template_rows": null,
            "right": null,
            "justify_content": null,
            "_view_module": "@jupyter-widgets/base",
            "overflow": null,
            "_model_module_version": "1.2.0",
            "_view_count": null,
            "flex_flow": null,
            "width": null,
            "min_width": null,
            "border": null,
            "align_items": null,
            "bottom": null,
            "_model_module": "@jupyter-widgets/base",
            "top": null,
            "grid_column": null,
            "overflow_y": null,
            "overflow_x": null,
            "grid_auto_flow": null,
            "grid_area": null,
            "grid_template_columns": null,
            "flex": null,
            "_model_name": "LayoutModel",
            "justify_items": null,
            "grid_row": null,
            "max_height": null,
            "align_content": null,
            "visibility": null,
            "align_self": null,
            "height": null,
            "min_height": null,
            "padding": null,
            "grid_auto_rows": null,
            "grid_gap": null,
            "max_width": null,
            "order": null,
            "_view_module_version": "1.2.0",
            "grid_template_areas": null,
            "object_position": null,
            "object_fit": null,
            "grid_auto_columns": null,
            "margin": null,
            "display": null,
            "left": null
          }
        },
        "30a40b78343a4163818d4cf190bcc696": {
          "model_module": "@jupyter-widgets/controls",
          "model_name": "HTMLModel",
          "model_module_version": "1.5.0",
          "state": {
            "_view_name": "HTMLView",
            "style": "IPY_MODEL_a466b20120a04415ac35db29ade8397a",
            "_dom_classes": [],
            "description": "",
            "_model_name": "HTMLModel",
            "placeholder": "​",
            "_view_module": "@jupyter-widgets/controls",
            "_model_module_version": "1.5.0",
            "value": "Upload file pytorch_model.bin: 100%",
            "_view_count": null,
            "_view_module_version": "1.5.0",
            "description_tooltip": null,
            "_model_module": "@jupyter-widgets/controls",
            "layout": "IPY_MODEL_19c7dc0f0c2b4b8aa797531d03193edc"
          }
        },
        "062c16bee16f4af1878b68f36adf55fa": {
          "model_module": "@jupyter-widgets/controls",
          "model_name": "FloatProgressModel",
          "model_module_version": "1.5.0",
          "state": {
            "_view_name": "ProgressView",
            "style": "IPY_MODEL_c8737d1547af4239a5bcd019ae5de89d",
            "_dom_classes": [],
            "description": "",
            "_model_name": "FloatProgressModel",
            "bar_style": "success",
            "max": 310030405,
            "_view_module": "@jupyter-widgets/controls",
            "_model_module_version": "1.5.0",
            "value": 310030405,
            "_view_count": null,
            "_view_module_version": "1.5.0",
            "orientation": "horizontal",
            "min": 0,
            "description_tooltip": null,
            "_model_module": "@jupyter-widgets/controls",
            "layout": "IPY_MODEL_b7b800391ceb4d2f8dce60f361c841c6"
          }
        },
        "1268f0fd3c9345b49465be8a9923ba29": {
          "model_module": "@jupyter-widgets/controls",
          "model_name": "HTMLModel",
          "model_module_version": "1.5.0",
          "state": {
            "_view_name": "HTMLView",
            "style": "IPY_MODEL_fc301f5e5e5546bb825f5de91342e835",
            "_dom_classes": [],
            "description": "",
            "_model_name": "HTMLModel",
            "placeholder": "​",
            "_view_module": "@jupyter-widgets/controls",
            "_model_module_version": "1.5.0",
            "value": " 296M/296M [03:26&lt;00:00, 1.21MB/s]",
            "_view_count": null,
            "_view_module_version": "1.5.0",
            "description_tooltip": null,
            "_model_module": "@jupyter-widgets/controls",
            "layout": "IPY_MODEL_e9b2298cbb2440ee8e29c5f1d84b4374"
          }
        },
        "a466b20120a04415ac35db29ade8397a": {
          "model_module": "@jupyter-widgets/controls",
          "model_name": "DescriptionStyleModel",
          "model_module_version": "1.5.0",
          "state": {
            "_view_name": "StyleView",
            "_model_name": "DescriptionStyleModel",
            "description_width": "",
            "_view_module": "@jupyter-widgets/base",
            "_model_module_version": "1.5.0",
            "_view_count": null,
            "_view_module_version": "1.2.0",
            "_model_module": "@jupyter-widgets/controls"
          }
        },
        "19c7dc0f0c2b4b8aa797531d03193edc": {
          "model_module": "@jupyter-widgets/base",
          "model_name": "LayoutModel",
          "model_module_version": "1.2.0",
          "state": {
            "_view_name": "LayoutView",
            "grid_template_rows": null,
            "right": null,
            "justify_content": null,
            "_view_module": "@jupyter-widgets/base",
            "overflow": null,
            "_model_module_version": "1.2.0",
            "_view_count": null,
            "flex_flow": null,
            "width": null,
            "min_width": null,
            "border": null,
            "align_items": null,
            "bottom": null,
            "_model_module": "@jupyter-widgets/base",
            "top": null,
            "grid_column": null,
            "overflow_y": null,
            "overflow_x": null,
            "grid_auto_flow": null,
            "grid_area": null,
            "grid_template_columns": null,
            "flex": null,
            "_model_name": "LayoutModel",
            "justify_items": null,
            "grid_row": null,
            "max_height": null,
            "align_content": null,
            "visibility": null,
            "align_self": null,
            "height": null,
            "min_height": null,
            "padding": null,
            "grid_auto_rows": null,
            "grid_gap": null,
            "max_width": null,
            "order": null,
            "_view_module_version": "1.2.0",
            "grid_template_areas": null,
            "object_position": null,
            "object_fit": null,
            "grid_auto_columns": null,
            "margin": null,
            "display": null,
            "left": null
          }
        },
        "c8737d1547af4239a5bcd019ae5de89d": {
          "model_module": "@jupyter-widgets/controls",
          "model_name": "ProgressStyleModel",
          "model_module_version": "1.5.0",
          "state": {
            "_view_name": "StyleView",
            "_model_name": "ProgressStyleModel",
            "description_width": "",
            "_view_module": "@jupyter-widgets/base",
            "_model_module_version": "1.5.0",
            "_view_count": null,
            "_view_module_version": "1.2.0",
            "bar_color": null,
            "_model_module": "@jupyter-widgets/controls"
          }
        },
        "b7b800391ceb4d2f8dce60f361c841c6": {
          "model_module": "@jupyter-widgets/base",
          "model_name": "LayoutModel",
          "model_module_version": "1.2.0",
          "state": {
            "_view_name": "LayoutView",
            "grid_template_rows": null,
            "right": null,
            "justify_content": null,
            "_view_module": "@jupyter-widgets/base",
            "overflow": null,
            "_model_module_version": "1.2.0",
            "_view_count": null,
            "flex_flow": null,
            "width": null,
            "min_width": null,
            "border": null,
            "align_items": null,
            "bottom": null,
            "_model_module": "@jupyter-widgets/base",
            "top": null,
            "grid_column": null,
            "overflow_y": null,
            "overflow_x": null,
            "grid_auto_flow": null,
            "grid_area": null,
            "grid_template_columns": null,
            "flex": null,
            "_model_name": "LayoutModel",
            "justify_items": null,
            "grid_row": null,
            "max_height": null,
            "align_content": null,
            "visibility": null,
            "align_self": null,
            "height": null,
            "min_height": null,
            "padding": null,
            "grid_auto_rows": null,
            "grid_gap": null,
            "max_width": null,
            "order": null,
            "_view_module_version": "1.2.0",
            "grid_template_areas": null,
            "object_position": null,
            "object_fit": null,
            "grid_auto_columns": null,
            "margin": null,
            "display": null,
            "left": null
          }
        },
        "fc301f5e5e5546bb825f5de91342e835": {
          "model_module": "@jupyter-widgets/controls",
          "model_name": "DescriptionStyleModel",
          "model_module_version": "1.5.0",
          "state": {
            "_view_name": "StyleView",
            "_model_name": "DescriptionStyleModel",
            "description_width": "",
            "_view_module": "@jupyter-widgets/base",
            "_model_module_version": "1.5.0",
            "_view_count": null,
            "_view_module_version": "1.2.0",
            "_model_module": "@jupyter-widgets/controls"
          }
        },
        "e9b2298cbb2440ee8e29c5f1d84b4374": {
          "model_module": "@jupyter-widgets/base",
          "model_name": "LayoutModel",
          "model_module_version": "1.2.0",
          "state": {
            "_view_name": "LayoutView",
            "grid_template_rows": null,
            "right": null,
            "justify_content": null,
            "_view_module": "@jupyter-widgets/base",
            "overflow": null,
            "_model_module_version": "1.2.0",
            "_view_count": null,
            "flex_flow": null,
            "width": null,
            "min_width": null,
            "border": null,
            "align_items": null,
            "bottom": null,
            "_model_module": "@jupyter-widgets/base",
            "top": null,
            "grid_column": null,
            "overflow_y": null,
            "overflow_x": null,
            "grid_auto_flow": null,
            "grid_area": null,
            "grid_template_columns": null,
            "flex": null,
            "_model_name": "LayoutModel",
            "justify_items": null,
            "grid_row": null,
            "max_height": null,
            "align_content": null,
            "visibility": null,
            "align_self": null,
            "height": null,
            "min_height": null,
            "padding": null,
            "grid_auto_rows": null,
            "grid_gap": null,
            "max_width": null,
            "order": null,
            "_view_module_version": "1.2.0",
            "grid_template_areas": null,
            "object_position": null,
            "object_fit": null,
            "grid_auto_columns": null,
            "margin": null,
            "display": null,
            "left": null
          }
        },
        "4b6d6ba175d34fd09b5de8b2020895cf": {
          "model_module": "@jupyter-widgets/controls",
          "model_name": "HBoxModel",
          "model_module_version": "1.5.0",
          "state": {
            "_view_name": "HBoxView",
            "_dom_classes": [],
            "_model_name": "HBoxModel",
            "_view_module": "@jupyter-widgets/controls",
            "_model_module_version": "1.5.0",
            "_view_count": null,
            "_view_module_version": "1.5.0",
            "box_style": "",
            "layout": "IPY_MODEL_f35a7cb59aa5471bbdeda4b297d9737e",
            "_model_module": "@jupyter-widgets/controls",
            "children": [
              "IPY_MODEL_5114272114b0480ab8af3f044af50da1",
              "IPY_MODEL_54c448dd40e34f5ebfa5dff3af1d39be",
              "IPY_MODEL_e8cea75911f34ca9890a393535b6f58a"
            ]
          }
        },
        "f35a7cb59aa5471bbdeda4b297d9737e": {
          "model_module": "@jupyter-widgets/base",
          "model_name": "LayoutModel",
          "model_module_version": "1.2.0",
          "state": {
            "_view_name": "LayoutView",
            "grid_template_rows": null,
            "right": null,
            "justify_content": null,
            "_view_module": "@jupyter-widgets/base",
            "overflow": null,
            "_model_module_version": "1.2.0",
            "_view_count": null,
            "flex_flow": null,
            "width": null,
            "min_width": null,
            "border": null,
            "align_items": null,
            "bottom": null,
            "_model_module": "@jupyter-widgets/base",
            "top": null,
            "grid_column": null,
            "overflow_y": null,
            "overflow_x": null,
            "grid_auto_flow": null,
            "grid_area": null,
            "grid_template_columns": null,
            "flex": null,
            "_model_name": "LayoutModel",
            "justify_items": null,
            "grid_row": null,
            "max_height": null,
            "align_content": null,
            "visibility": null,
            "align_self": null,
            "height": null,
            "min_height": null,
            "padding": null,
            "grid_auto_rows": null,
            "grid_gap": null,
            "max_width": null,
            "order": null,
            "_view_module_version": "1.2.0",
            "grid_template_areas": null,
            "object_position": null,
            "object_fit": null,
            "grid_auto_columns": null,
            "margin": null,
            "display": null,
            "left": null
          }
        },
        "5114272114b0480ab8af3f044af50da1": {
          "model_module": "@jupyter-widgets/controls",
          "model_name": "HTMLModel",
          "model_module_version": "1.5.0",
          "state": {
            "_view_name": "HTMLView",
            "style": "IPY_MODEL_eaeb79d8c2cb48438a1ab6f9813ce33b",
            "_dom_classes": [],
            "description": "",
            "_model_name": "HTMLModel",
            "placeholder": "​",
            "_view_module": "@jupyter-widgets/controls",
            "_model_module_version": "1.5.0",
            "value": "Downloading: 100%",
            "_view_count": null,
            "_view_module_version": "1.5.0",
            "description_tooltip": null,
            "_model_module": "@jupyter-widgets/controls",
            "layout": "IPY_MODEL_752c4ec8a00649559eea2c5b006eb708"
          }
        },
        "54c448dd40e34f5ebfa5dff3af1d39be": {
          "model_module": "@jupyter-widgets/controls",
          "model_name": "FloatProgressModel",
          "model_module_version": "1.5.0",
          "state": {
            "_view_name": "ProgressView",
            "style": "IPY_MODEL_63bfd4fcc26b4feb88d3b364f601100f",
            "_dom_classes": [],
            "description": "",
            "_model_name": "FloatProgressModel",
            "bar_style": "success",
            "max": 1451,
            "_view_module": "@jupyter-widgets/controls",
            "_model_module_version": "1.5.0",
            "value": 1451,
            "_view_count": null,
            "_view_module_version": "1.5.0",
            "orientation": "horizontal",
            "min": 0,
            "description_tooltip": null,
            "_model_module": "@jupyter-widgets/controls",
            "layout": "IPY_MODEL_d3de8e1e19d144fcb7f35a7f0833ab3c"
          }
        },
        "e8cea75911f34ca9890a393535b6f58a": {
          "model_module": "@jupyter-widgets/controls",
          "model_name": "HTMLModel",
          "model_module_version": "1.5.0",
          "state": {
            "_view_name": "HTMLView",
            "style": "IPY_MODEL_2bd4e3cdcb3247eeaf7e7d8ab7fa86f6",
            "_dom_classes": [],
            "description": "",
            "_model_name": "HTMLModel",
            "placeholder": "​",
            "_view_module": "@jupyter-widgets/controls",
            "_model_module_version": "1.5.0",
            "value": " 1.42k/1.42k [00:00&lt;00:00, 58.8kB/s]",
            "_view_count": null,
            "_view_module_version": "1.5.0",
            "description_tooltip": null,
            "_model_module": "@jupyter-widgets/controls",
            "layout": "IPY_MODEL_c43aecd177e54c3cbb3b847de036c8fe"
          }
        },
        "eaeb79d8c2cb48438a1ab6f9813ce33b": {
          "model_module": "@jupyter-widgets/controls",
          "model_name": "DescriptionStyleModel",
          "model_module_version": "1.5.0",
          "state": {
            "_view_name": "StyleView",
            "_model_name": "DescriptionStyleModel",
            "description_width": "",
            "_view_module": "@jupyter-widgets/base",
            "_model_module_version": "1.5.0",
            "_view_count": null,
            "_view_module_version": "1.2.0",
            "_model_module": "@jupyter-widgets/controls"
          }
        },
        "752c4ec8a00649559eea2c5b006eb708": {
          "model_module": "@jupyter-widgets/base",
          "model_name": "LayoutModel",
          "model_module_version": "1.2.0",
          "state": {
            "_view_name": "LayoutView",
            "grid_template_rows": null,
            "right": null,
            "justify_content": null,
            "_view_module": "@jupyter-widgets/base",
            "overflow": null,
            "_model_module_version": "1.2.0",
            "_view_count": null,
            "flex_flow": null,
            "width": null,
            "min_width": null,
            "border": null,
            "align_items": null,
            "bottom": null,
            "_model_module": "@jupyter-widgets/base",
            "top": null,
            "grid_column": null,
            "overflow_y": null,
            "overflow_x": null,
            "grid_auto_flow": null,
            "grid_area": null,
            "grid_template_columns": null,
            "flex": null,
            "_model_name": "LayoutModel",
            "justify_items": null,
            "grid_row": null,
            "max_height": null,
            "align_content": null,
            "visibility": null,
            "align_self": null,
            "height": null,
            "min_height": null,
            "padding": null,
            "grid_auto_rows": null,
            "grid_gap": null,
            "max_width": null,
            "order": null,
            "_view_module_version": "1.2.0",
            "grid_template_areas": null,
            "object_position": null,
            "object_fit": null,
            "grid_auto_columns": null,
            "margin": null,
            "display": null,
            "left": null
          }
        },
        "63bfd4fcc26b4feb88d3b364f601100f": {
          "model_module": "@jupyter-widgets/controls",
          "model_name": "ProgressStyleModel",
          "model_module_version": "1.5.0",
          "state": {
            "_view_name": "StyleView",
            "_model_name": "ProgressStyleModel",
            "description_width": "",
            "_view_module": "@jupyter-widgets/base",
            "_model_module_version": "1.5.0",
            "_view_count": null,
            "_view_module_version": "1.2.0",
            "bar_color": null,
            "_model_module": "@jupyter-widgets/controls"
          }
        },
        "d3de8e1e19d144fcb7f35a7f0833ab3c": {
          "model_module": "@jupyter-widgets/base",
          "model_name": "LayoutModel",
          "model_module_version": "1.2.0",
          "state": {
            "_view_name": "LayoutView",
            "grid_template_rows": null,
            "right": null,
            "justify_content": null,
            "_view_module": "@jupyter-widgets/base",
            "overflow": null,
            "_model_module_version": "1.2.0",
            "_view_count": null,
            "flex_flow": null,
            "width": null,
            "min_width": null,
            "border": null,
            "align_items": null,
            "bottom": null,
            "_model_module": "@jupyter-widgets/base",
            "top": null,
            "grid_column": null,
            "overflow_y": null,
            "overflow_x": null,
            "grid_auto_flow": null,
            "grid_area": null,
            "grid_template_columns": null,
            "flex": null,
            "_model_name": "LayoutModel",
            "justify_items": null,
            "grid_row": null,
            "max_height": null,
            "align_content": null,
            "visibility": null,
            "align_self": null,
            "height": null,
            "min_height": null,
            "padding": null,
            "grid_auto_rows": null,
            "grid_gap": null,
            "max_width": null,
            "order": null,
            "_view_module_version": "1.2.0",
            "grid_template_areas": null,
            "object_position": null,
            "object_fit": null,
            "grid_auto_columns": null,
            "margin": null,
            "display": null,
            "left": null
          }
        },
        "2bd4e3cdcb3247eeaf7e7d8ab7fa86f6": {
          "model_module": "@jupyter-widgets/controls",
          "model_name": "DescriptionStyleModel",
          "model_module_version": "1.5.0",
          "state": {
            "_view_name": "StyleView",
            "_model_name": "DescriptionStyleModel",
            "description_width": "",
            "_view_module": "@jupyter-widgets/base",
            "_model_module_version": "1.5.0",
            "_view_count": null,
            "_view_module_version": "1.2.0",
            "_model_module": "@jupyter-widgets/controls"
          }
        },
        "c43aecd177e54c3cbb3b847de036c8fe": {
          "model_module": "@jupyter-widgets/base",
          "model_name": "LayoutModel",
          "model_module_version": "1.2.0",
          "state": {
            "_view_name": "LayoutView",
            "grid_template_rows": null,
            "right": null,
            "justify_content": null,
            "_view_module": "@jupyter-widgets/base",
            "overflow": null,
            "_model_module_version": "1.2.0",
            "_view_count": null,
            "flex_flow": null,
            "width": null,
            "min_width": null,
            "border": null,
            "align_items": null,
            "bottom": null,
            "_model_module": "@jupyter-widgets/base",
            "top": null,
            "grid_column": null,
            "overflow_y": null,
            "overflow_x": null,
            "grid_auto_flow": null,
            "grid_area": null,
            "grid_template_columns": null,
            "flex": null,
            "_model_name": "LayoutModel",
            "justify_items": null,
            "grid_row": null,
            "max_height": null,
            "align_content": null,
            "visibility": null,
            "align_self": null,
            "height": null,
            "min_height": null,
            "padding": null,
            "grid_auto_rows": null,
            "grid_gap": null,
            "max_width": null,
            "order": null,
            "_view_module_version": "1.2.0",
            "grid_template_areas": null,
            "object_position": null,
            "object_fit": null,
            "grid_auto_columns": null,
            "margin": null,
            "display": null,
            "left": null
          }
        },
        "aa648893056049ffbc49f2f032c3b512": {
          "model_module": "@jupyter-widgets/controls",
          "model_name": "HBoxModel",
          "model_module_version": "1.5.0",
          "state": {
            "_view_name": "HBoxView",
            "_dom_classes": [],
            "_model_name": "HBoxModel",
            "_view_module": "@jupyter-widgets/controls",
            "_model_module_version": "1.5.0",
            "_view_count": null,
            "_view_module_version": "1.5.0",
            "box_style": "",
            "layout": "IPY_MODEL_d8a84aa1e41042cf8b1e8ca676670e5e",
            "_model_module": "@jupyter-widgets/controls",
            "children": [
              "IPY_MODEL_e8f57a5dca7f4967b7f141bb7cab1ee1",
              "IPY_MODEL_3c09705d5abc49aabdfc833ccf8282aa",
              "IPY_MODEL_b8f260879a4a4b0187242a95e87d8109"
            ]
          }
        },
        "d8a84aa1e41042cf8b1e8ca676670e5e": {
          "model_module": "@jupyter-widgets/base",
          "model_name": "LayoutModel",
          "model_module_version": "1.2.0",
          "state": {
            "_view_name": "LayoutView",
            "grid_template_rows": null,
            "right": null,
            "justify_content": null,
            "_view_module": "@jupyter-widgets/base",
            "overflow": null,
            "_model_module_version": "1.2.0",
            "_view_count": null,
            "flex_flow": null,
            "width": null,
            "min_width": null,
            "border": null,
            "align_items": null,
            "bottom": null,
            "_model_module": "@jupyter-widgets/base",
            "top": null,
            "grid_column": null,
            "overflow_y": null,
            "overflow_x": null,
            "grid_auto_flow": null,
            "grid_area": null,
            "grid_template_columns": null,
            "flex": null,
            "_model_name": "LayoutModel",
            "justify_items": null,
            "grid_row": null,
            "max_height": null,
            "align_content": null,
            "visibility": null,
            "align_self": null,
            "height": null,
            "min_height": null,
            "padding": null,
            "grid_auto_rows": null,
            "grid_gap": null,
            "max_width": null,
            "order": null,
            "_view_module_version": "1.2.0",
            "grid_template_areas": null,
            "object_position": null,
            "object_fit": null,
            "grid_auto_columns": null,
            "margin": null,
            "display": null,
            "left": null
          }
        },
        "e8f57a5dca7f4967b7f141bb7cab1ee1": {
          "model_module": "@jupyter-widgets/controls",
          "model_name": "HTMLModel",
          "model_module_version": "1.5.0",
          "state": {
            "_view_name": "HTMLView",
            "style": "IPY_MODEL_4aa3ebaf4c404cd7a00484570735dfa4",
            "_dom_classes": [],
            "description": "",
            "_model_name": "HTMLModel",
            "placeholder": "​",
            "_view_module": "@jupyter-widgets/controls",
            "_model_module_version": "1.5.0",
            "value": "Downloading: 100%",
            "_view_count": null,
            "_view_module_version": "1.5.0",
            "description_tooltip": null,
            "_model_module": "@jupyter-widgets/controls",
            "layout": "IPY_MODEL_c56b74be1b144a329ea2d7d6af5d1f55"
          }
        },
        "3c09705d5abc49aabdfc833ccf8282aa": {
          "model_module": "@jupyter-widgets/controls",
          "model_name": "FloatProgressModel",
          "model_module_version": "1.5.0",
          "state": {
            "_view_name": "ProgressView",
            "style": "IPY_MODEL_10f589f55b73494ab639869a9112ed85",
            "_dom_classes": [],
            "description": "",
            "_model_name": "FloatProgressModel",
            "bar_style": "success",
            "max": 310030405,
            "_view_module": "@jupyter-widgets/controls",
            "_model_module_version": "1.5.0",
            "value": 310030405,
            "_view_count": null,
            "_view_module_version": "1.5.0",
            "orientation": "horizontal",
            "min": 0,
            "description_tooltip": null,
            "_model_module": "@jupyter-widgets/controls",
            "layout": "IPY_MODEL_b3720d574add4485b67686c4baba996e"
          }
        },
        "b8f260879a4a4b0187242a95e87d8109": {
          "model_module": "@jupyter-widgets/controls",
          "model_name": "HTMLModel",
          "model_module_version": "1.5.0",
          "state": {
            "_view_name": "HTMLView",
            "style": "IPY_MODEL_9978a437018d4454b91a0335624015bd",
            "_dom_classes": [],
            "description": "",
            "_model_name": "HTMLModel",
            "placeholder": "​",
            "_view_module": "@jupyter-widgets/controls",
            "_model_module_version": "1.5.0",
            "value": " 296M/296M [00:16&lt;00:00, 22.7MB/s]",
            "_view_count": null,
            "_view_module_version": "1.5.0",
            "description_tooltip": null,
            "_model_module": "@jupyter-widgets/controls",
            "layout": "IPY_MODEL_b681cbc46aed489ea3d312b2e85dfc52"
          }
        },
        "4aa3ebaf4c404cd7a00484570735dfa4": {
          "model_module": "@jupyter-widgets/controls",
          "model_name": "DescriptionStyleModel",
          "model_module_version": "1.5.0",
          "state": {
            "_view_name": "StyleView",
            "_model_name": "DescriptionStyleModel",
            "description_width": "",
            "_view_module": "@jupyter-widgets/base",
            "_model_module_version": "1.5.0",
            "_view_count": null,
            "_view_module_version": "1.2.0",
            "_model_module": "@jupyter-widgets/controls"
          }
        },
        "c56b74be1b144a329ea2d7d6af5d1f55": {
          "model_module": "@jupyter-widgets/base",
          "model_name": "LayoutModel",
          "model_module_version": "1.2.0",
          "state": {
            "_view_name": "LayoutView",
            "grid_template_rows": null,
            "right": null,
            "justify_content": null,
            "_view_module": "@jupyter-widgets/base",
            "overflow": null,
            "_model_module_version": "1.2.0",
            "_view_count": null,
            "flex_flow": null,
            "width": null,
            "min_width": null,
            "border": null,
            "align_items": null,
            "bottom": null,
            "_model_module": "@jupyter-widgets/base",
            "top": null,
            "grid_column": null,
            "overflow_y": null,
            "overflow_x": null,
            "grid_auto_flow": null,
            "grid_area": null,
            "grid_template_columns": null,
            "flex": null,
            "_model_name": "LayoutModel",
            "justify_items": null,
            "grid_row": null,
            "max_height": null,
            "align_content": null,
            "visibility": null,
            "align_self": null,
            "height": null,
            "min_height": null,
            "padding": null,
            "grid_auto_rows": null,
            "grid_gap": null,
            "max_width": null,
            "order": null,
            "_view_module_version": "1.2.0",
            "grid_template_areas": null,
            "object_position": null,
            "object_fit": null,
            "grid_auto_columns": null,
            "margin": null,
            "display": null,
            "left": null
          }
        },
        "10f589f55b73494ab639869a9112ed85": {
          "model_module": "@jupyter-widgets/controls",
          "model_name": "ProgressStyleModel",
          "model_module_version": "1.5.0",
          "state": {
            "_view_name": "StyleView",
            "_model_name": "ProgressStyleModel",
            "description_width": "",
            "_view_module": "@jupyter-widgets/base",
            "_model_module_version": "1.5.0",
            "_view_count": null,
            "_view_module_version": "1.2.0",
            "bar_color": null,
            "_model_module": "@jupyter-widgets/controls"
          }
        },
        "b3720d574add4485b67686c4baba996e": {
          "model_module": "@jupyter-widgets/base",
          "model_name": "LayoutModel",
          "model_module_version": "1.2.0",
          "state": {
            "_view_name": "LayoutView",
            "grid_template_rows": null,
            "right": null,
            "justify_content": null,
            "_view_module": "@jupyter-widgets/base",
            "overflow": null,
            "_model_module_version": "1.2.0",
            "_view_count": null,
            "flex_flow": null,
            "width": null,
            "min_width": null,
            "border": null,
            "align_items": null,
            "bottom": null,
            "_model_module": "@jupyter-widgets/base",
            "top": null,
            "grid_column": null,
            "overflow_y": null,
            "overflow_x": null,
            "grid_auto_flow": null,
            "grid_area": null,
            "grid_template_columns": null,
            "flex": null,
            "_model_name": "LayoutModel",
            "justify_items": null,
            "grid_row": null,
            "max_height": null,
            "align_content": null,
            "visibility": null,
            "align_self": null,
            "height": null,
            "min_height": null,
            "padding": null,
            "grid_auto_rows": null,
            "grid_gap": null,
            "max_width": null,
            "order": null,
            "_view_module_version": "1.2.0",
            "grid_template_areas": null,
            "object_position": null,
            "object_fit": null,
            "grid_auto_columns": null,
            "margin": null,
            "display": null,
            "left": null
          }
        },
        "9978a437018d4454b91a0335624015bd": {
          "model_module": "@jupyter-widgets/controls",
          "model_name": "DescriptionStyleModel",
          "model_module_version": "1.5.0",
          "state": {
            "_view_name": "StyleView",
            "_model_name": "DescriptionStyleModel",
            "description_width": "",
            "_view_module": "@jupyter-widgets/base",
            "_model_module_version": "1.5.0",
            "_view_count": null,
            "_view_module_version": "1.2.0",
            "_model_module": "@jupyter-widgets/controls"
          }
        },
        "b681cbc46aed489ea3d312b2e85dfc52": {
          "model_module": "@jupyter-widgets/base",
          "model_name": "LayoutModel",
          "model_module_version": "1.2.0",
          "state": {
            "_view_name": "LayoutView",
            "grid_template_rows": null,
            "right": null,
            "justify_content": null,
            "_view_module": "@jupyter-widgets/base",
            "overflow": null,
            "_model_module_version": "1.2.0",
            "_view_count": null,
            "flex_flow": null,
            "width": null,
            "min_width": null,
            "border": null,
            "align_items": null,
            "bottom": null,
            "_model_module": "@jupyter-widgets/base",
            "top": null,
            "grid_column": null,
            "overflow_y": null,
            "overflow_x": null,
            "grid_auto_flow": null,
            "grid_area": null,
            "grid_template_columns": null,
            "flex": null,
            "_model_name": "LayoutModel",
            "justify_items": null,
            "grid_row": null,
            "max_height": null,
            "align_content": null,
            "visibility": null,
            "align_self": null,
            "height": null,
            "min_height": null,
            "padding": null,
            "grid_auto_rows": null,
            "grid_gap": null,
            "max_width": null,
            "order": null,
            "_view_module_version": "1.2.0",
            "grid_template_areas": null,
            "object_position": null,
            "object_fit": null,
            "grid_auto_columns": null,
            "margin": null,
            "display": null,
            "left": null
          }
        }
      }
    }
  },
  "cells": [
    {
      "cell_type": "markdown",
      "source": [
        "## Install packages and handle environment"
      ],
      "metadata": {
        "id": "AQ1jEcuzcdam"
      }
    },
    {
      "cell_type": "code",
      "source": [
        "# !pip install git+https://github.com/huggingface/transformers\n",
        "! pip install transformers[sentencepiece] datasets sacrebleu\n",
        "# !pip install sentencepiece\n",
        "# !pip install datasets\n",
        "# !pip install sacrebleu\n",
        "!apt install git-lfs\n",
        "# !pip install apex\n",
        "# !pip install transformers\n",
        "# !git clone https://github.com/NVIDIA/apex\n",
        "# !cd apex\n",
        "# !pip install -v --disable-pip-version-check --no-cache-dir --global-option=\"--cpp_ext\" --global-option=\"--cuda_ext\" ./"
      ],
      "metadata": {
        "colab": {
          "base_uri": "https://localhost:8080/"
        },
        "id": "C3qZCdvJPfpU",
        "outputId": "9c9ea0c9-1f52-418d-89b0-8f15d65a3ba9"
      },
      "execution_count": 1,
      "outputs": [
        {
          "output_type": "stream",
          "name": "stdout",
          "text": [
            "Collecting transformers[sentencepiece]\n",
            "  Downloading transformers-4.16.2-py3-none-any.whl (3.5 MB)\n",
            "\u001b[K     |████████████████████████████████| 3.5 MB 4.1 MB/s \n",
            "\u001b[?25hCollecting datasets\n",
            "  Downloading datasets-1.18.3-py3-none-any.whl (311 kB)\n",
            "\u001b[K     |████████████████████████████████| 311 kB 73.4 MB/s \n",
            "\u001b[?25hCollecting sacrebleu\n",
            "  Downloading sacrebleu-2.0.0-py3-none-any.whl (90 kB)\n",
            "\u001b[K     |████████████████████████████████| 90 kB 14.8 MB/s \n",
            "\u001b[?25hRequirement already satisfied: pandas in /usr/local/lib/python3.7/dist-packages (from datasets) (1.3.5)\n",
            "Collecting xxhash\n",
            "  Downloading xxhash-2.0.2-cp37-cp37m-manylinux2010_x86_64.whl (243 kB)\n",
            "\u001b[K     |████████████████████████████████| 243 kB 82.4 MB/s \n",
            "\u001b[?25hRequirement already satisfied: pyarrow!=4.0.0,>=3.0.0 in /usr/local/lib/python3.7/dist-packages (from datasets) (6.0.1)\n",
            "Requirement already satisfied: requests>=2.19.0 in /usr/local/lib/python3.7/dist-packages (from datasets) (2.23.0)\n",
            "Requirement already satisfied: multiprocess in /usr/local/lib/python3.7/dist-packages (from datasets) (0.70.12.2)\n",
            "Requirement already satisfied: dill in /usr/local/lib/python3.7/dist-packages (from datasets) (0.3.4)\n",
            "Collecting huggingface-hub<1.0.0,>=0.1.0\n",
            "  Downloading huggingface_hub-0.4.0-py3-none-any.whl (67 kB)\n",
            "\u001b[K     |████████████████████████████████| 67 kB 8.2 MB/s \n",
            "\u001b[?25hCollecting aiohttp\n",
            "  Downloading aiohttp-3.8.1-cp37-cp37m-manylinux_2_5_x86_64.manylinux1_x86_64.manylinux_2_12_x86_64.manylinux2010_x86_64.whl (1.1 MB)\n",
            "\u001b[K     |████████████████████████████████| 1.1 MB 66.0 MB/s \n",
            "\u001b[?25hRequirement already satisfied: importlib-metadata in /usr/local/lib/python3.7/dist-packages (from datasets) (4.10.1)\n",
            "Requirement already satisfied: tqdm>=4.62.1 in /usr/local/lib/python3.7/dist-packages (from datasets) (4.62.3)\n",
            "Requirement already satisfied: packaging in /usr/local/lib/python3.7/dist-packages (from datasets) (21.3)\n",
            "Requirement already satisfied: numpy>=1.17 in /usr/local/lib/python3.7/dist-packages (from datasets) (1.19.5)\n",
            "Collecting fsspec[http]>=2021.05.0\n",
            "  Downloading fsspec-2022.1.0-py3-none-any.whl (133 kB)\n",
            "\u001b[K     |████████████████████████████████| 133 kB 77.7 MB/s \n",
            "\u001b[?25hRequirement already satisfied: pyyaml in /usr/local/lib/python3.7/dist-packages (from huggingface-hub<1.0.0,>=0.1.0->datasets) (3.13)\n",
            "Requirement already satisfied: filelock in /usr/local/lib/python3.7/dist-packages (from huggingface-hub<1.0.0,>=0.1.0->datasets) (3.4.2)\n",
            "Requirement already satisfied: typing-extensions>=3.7.4.3 in /usr/local/lib/python3.7/dist-packages (from huggingface-hub<1.0.0,>=0.1.0->datasets) (3.10.0.2)\n",
            "Requirement already satisfied: pyparsing!=3.0.5,>=2.0.2 in /usr/local/lib/python3.7/dist-packages (from packaging->datasets) (3.0.7)\n",
            "Requirement already satisfied: idna<3,>=2.5 in /usr/local/lib/python3.7/dist-packages (from requests>=2.19.0->datasets) (2.10)\n",
            "Requirement already satisfied: urllib3!=1.25.0,!=1.25.1,<1.26,>=1.21.1 in /usr/local/lib/python3.7/dist-packages (from requests>=2.19.0->datasets) (1.24.3)\n",
            "Requirement already satisfied: chardet<4,>=3.0.2 in /usr/local/lib/python3.7/dist-packages (from requests>=2.19.0->datasets) (3.0.4)\n",
            "Requirement already satisfied: certifi>=2017.4.17 in /usr/local/lib/python3.7/dist-packages (from requests>=2.19.0->datasets) (2021.10.8)\n",
            "Collecting colorama\n",
            "  Downloading colorama-0.4.4-py2.py3-none-any.whl (16 kB)\n",
            "Collecting portalocker\n",
            "  Downloading portalocker-2.3.2-py2.py3-none-any.whl (15 kB)\n",
            "Requirement already satisfied: regex in /usr/local/lib/python3.7/dist-packages (from sacrebleu) (2019.12.20)\n",
            "Requirement already satisfied: tabulate>=0.8.9 in /usr/local/lib/python3.7/dist-packages (from sacrebleu) (0.8.9)\n",
            "Collecting frozenlist>=1.1.1\n",
            "  Downloading frozenlist-1.3.0-cp37-cp37m-manylinux_2_5_x86_64.manylinux1_x86_64.manylinux_2_17_x86_64.manylinux2014_x86_64.whl (144 kB)\n",
            "\u001b[K     |████████████████████████████████| 144 kB 88.4 MB/s \n",
            "\u001b[?25hRequirement already satisfied: attrs>=17.3.0 in /usr/local/lib/python3.7/dist-packages (from aiohttp->datasets) (21.4.0)\n",
            "Collecting async-timeout<5.0,>=4.0.0a3\n",
            "  Downloading async_timeout-4.0.2-py3-none-any.whl (5.8 kB)\n",
            "Collecting aiosignal>=1.1.2\n",
            "  Downloading aiosignal-1.2.0-py3-none-any.whl (8.2 kB)\n",
            "Collecting yarl<2.0,>=1.0\n",
            "  Downloading yarl-1.7.2-cp37-cp37m-manylinux_2_5_x86_64.manylinux1_x86_64.manylinux_2_12_x86_64.manylinux2010_x86_64.whl (271 kB)\n",
            "\u001b[K     |████████████████████████████████| 271 kB 98.7 MB/s \n",
            "\u001b[?25hCollecting asynctest==0.13.0\n",
            "  Downloading asynctest-0.13.0-py3-none-any.whl (26 kB)\n",
            "Collecting multidict<7.0,>=4.5\n",
            "  Downloading multidict-6.0.2-cp37-cp37m-manylinux_2_17_x86_64.manylinux2014_x86_64.whl (94 kB)\n",
            "\u001b[K     |████████████████████████████████| 94 kB 5.1 MB/s \n",
            "\u001b[?25hRequirement already satisfied: charset-normalizer<3.0,>=2.0 in /usr/local/lib/python3.7/dist-packages (from aiohttp->datasets) (2.0.11)\n",
            "Requirement already satisfied: zipp>=0.5 in /usr/local/lib/python3.7/dist-packages (from importlib-metadata->datasets) (3.7.0)\n",
            "Requirement already satisfied: pytz>=2017.3 in /usr/local/lib/python3.7/dist-packages (from pandas->datasets) (2018.9)\n",
            "Requirement already satisfied: python-dateutil>=2.7.3 in /usr/local/lib/python3.7/dist-packages (from pandas->datasets) (2.8.2)\n",
            "Requirement already satisfied: six>=1.5 in /usr/local/lib/python3.7/dist-packages (from python-dateutil>=2.7.3->pandas->datasets) (1.15.0)\n",
            "Collecting sacremoses\n",
            "  Downloading sacremoses-0.0.47-py2.py3-none-any.whl (895 kB)\n",
            "\u001b[K     |████████████████████████████████| 895 kB 71.0 MB/s \n",
            "\u001b[?25hCollecting tokenizers!=0.11.3,>=0.10.1\n",
            "  Downloading tokenizers-0.11.4-cp37-cp37m-manylinux_2_12_x86_64.manylinux2010_x86_64.whl (6.8 MB)\n",
            "\u001b[K     |████████████████████████████████| 6.8 MB 53.0 MB/s \n",
            "\u001b[?25hCollecting pyyaml\n",
            "  Downloading PyYAML-6.0-cp37-cp37m-manylinux_2_5_x86_64.manylinux1_x86_64.manylinux_2_12_x86_64.manylinux2010_x86_64.whl (596 kB)\n",
            "\u001b[K     |████████████████████████████████| 596 kB 74.3 MB/s \n",
            "\u001b[?25hRequirement already satisfied: protobuf in /usr/local/lib/python3.7/dist-packages (from transformers[sentencepiece]) (3.17.3)\n",
            "Collecting sentencepiece!=0.1.92,>=0.1.91\n",
            "  Downloading sentencepiece-0.1.96-cp37-cp37m-manylinux_2_17_x86_64.manylinux2014_x86_64.whl (1.2 MB)\n",
            "\u001b[K     |████████████████████████████████| 1.2 MB 56.3 MB/s \n",
            "\u001b[?25hRequirement already satisfied: joblib in /usr/local/lib/python3.7/dist-packages (from sacremoses->transformers[sentencepiece]) (1.1.0)\n",
            "Requirement already satisfied: click in /usr/local/lib/python3.7/dist-packages (from sacremoses->transformers[sentencepiece]) (7.1.2)\n",
            "Installing collected packages: multidict, frozenlist, yarl, pyyaml, asynctest, async-timeout, aiosignal, tokenizers, sacremoses, huggingface-hub, fsspec, aiohttp, xxhash, transformers, sentencepiece, portalocker, colorama, sacrebleu, datasets\n",
            "  Attempting uninstall: pyyaml\n",
            "    Found existing installation: PyYAML 3.13\n",
            "    Uninstalling PyYAML-3.13:\n",
            "      Successfully uninstalled PyYAML-3.13\n",
            "Successfully installed aiohttp-3.8.1 aiosignal-1.2.0 async-timeout-4.0.2 asynctest-0.13.0 colorama-0.4.4 datasets-1.18.3 frozenlist-1.3.0 fsspec-2022.1.0 huggingface-hub-0.4.0 multidict-6.0.2 portalocker-2.3.2 pyyaml-6.0 sacrebleu-2.0.0 sacremoses-0.0.47 sentencepiece-0.1.96 tokenizers-0.11.4 transformers-4.16.2 xxhash-2.0.2 yarl-1.7.2\n",
            "Reading package lists... Done\n",
            "Building dependency tree       \n",
            "Reading state information... Done\n",
            "The following packages were automatically installed and are no longer required:\n",
            "  cuda-command-line-tools-10-0 cuda-command-line-tools-10-1\n",
            "  cuda-command-line-tools-11-0 cuda-compiler-10-0 cuda-compiler-10-1\n",
            "  cuda-compiler-11-0 cuda-cuobjdump-10-0 cuda-cuobjdump-10-1\n",
            "  cuda-cuobjdump-11-0 cuda-cupti-10-0 cuda-cupti-10-1 cuda-cupti-11-0\n",
            "  cuda-cupti-dev-11-0 cuda-documentation-10-0 cuda-documentation-10-1\n",
            "  cuda-documentation-11-0 cuda-documentation-11-1 cuda-gdb-10-0 cuda-gdb-10-1\n",
            "  cuda-gdb-11-0 cuda-gpu-library-advisor-10-0 cuda-gpu-library-advisor-10-1\n",
            "  cuda-libraries-10-0 cuda-libraries-10-1 cuda-libraries-11-0\n",
            "  cuda-memcheck-10-0 cuda-memcheck-10-1 cuda-memcheck-11-0 cuda-nsight-10-0\n",
            "  cuda-nsight-10-1 cuda-nsight-11-0 cuda-nsight-11-1 cuda-nsight-compute-10-0\n",
            "  cuda-nsight-compute-10-1 cuda-nsight-compute-11-0 cuda-nsight-compute-11-1\n",
            "  cuda-nsight-systems-10-1 cuda-nsight-systems-11-0 cuda-nsight-systems-11-1\n",
            "  cuda-nvcc-10-0 cuda-nvcc-10-1 cuda-nvcc-11-0 cuda-nvdisasm-10-0\n",
            "  cuda-nvdisasm-10-1 cuda-nvdisasm-11-0 cuda-nvml-dev-10-0 cuda-nvml-dev-10-1\n",
            "  cuda-nvml-dev-11-0 cuda-nvprof-10-0 cuda-nvprof-10-1 cuda-nvprof-11-0\n",
            "  cuda-nvprune-10-0 cuda-nvprune-10-1 cuda-nvprune-11-0 cuda-nvtx-10-0\n",
            "  cuda-nvtx-10-1 cuda-nvtx-11-0 cuda-nvvp-10-0 cuda-nvvp-10-1 cuda-nvvp-11-0\n",
            "  cuda-nvvp-11-1 cuda-samples-10-0 cuda-samples-10-1 cuda-samples-11-0\n",
            "  cuda-samples-11-1 cuda-sanitizer-11-0 cuda-sanitizer-api-10-1\n",
            "  cuda-toolkit-10-0 cuda-toolkit-10-1 cuda-toolkit-11-0 cuda-toolkit-11-1\n",
            "  cuda-tools-10-0 cuda-tools-10-1 cuda-tools-11-0 cuda-tools-11-1\n",
            "  cuda-visual-tools-10-0 cuda-visual-tools-10-1 cuda-visual-tools-11-0\n",
            "  cuda-visual-tools-11-1 default-jre dkms freeglut3 freeglut3-dev\n",
            "  keyboard-configuration libargon2-0 libcap2 libcryptsetup12\n",
            "  libdevmapper1.02.1 libfontenc1 libidn11 libip4tc0 libjansson4\n",
            "  libnvidia-cfg1-510 libnvidia-common-460 libnvidia-common-510\n",
            "  libnvidia-extra-510 libnvidia-fbc1-510 libnvidia-gl-510 libpam-systemd\n",
            "  libpolkit-agent-1-0 libpolkit-backend-1-0 libpolkit-gobject-1-0 libxfont2\n",
            "  libxi-dev libxkbfile1 libxmu-dev libxmu-headers libxnvctrl0 libxtst6\n",
            "  nsight-compute-2020.2.1 nsight-compute-2022.1.0 nsight-systems-2020.3.2\n",
            "  nsight-systems-2020.3.4 nsight-systems-2021.5.2 nvidia-dkms-510\n",
            "  nvidia-kernel-common-510 nvidia-kernel-source-510 nvidia-modprobe\n",
            "  nvidia-settings openjdk-11-jre policykit-1 policykit-1-gnome python3-xkit\n",
            "  screen-resolution-extra systemd systemd-sysv udev x11-xkb-utils\n",
            "  xserver-common xserver-xorg-core-hwe-18.04 xserver-xorg-video-nvidia-510\n",
            "Use 'apt autoremove' to remove them.\n",
            "The following NEW packages will be installed:\n",
            "  git-lfs\n",
            "0 upgraded, 1 newly installed, 0 to remove and 39 not upgraded.\n",
            "Need to get 2,129 kB of archives.\n",
            "After this operation, 7,662 kB of additional disk space will be used.\n",
            "Get:1 http://archive.ubuntu.com/ubuntu bionic/universe amd64 git-lfs amd64 2.3.4-1 [2,129 kB]\n",
            "Fetched 2,129 kB in 2s (928 kB/s)\n",
            "Selecting previously unselected package git-lfs.\n",
            "(Reading database ... 155113 files and directories currently installed.)\n",
            "Preparing to unpack .../git-lfs_2.3.4-1_amd64.deb ...\n",
            "Unpacking git-lfs (2.3.4-1) ...\n",
            "Setting up git-lfs (2.3.4-1) ...\n",
            "Processing triggers for man-db (2.8.3-2ubuntu0.1) ...\n"
          ]
        }
      ]
    },
    {
      "cell_type": "code",
      "source": [
        "from google.colab import drive\n",
        "drive.mount('/content/gdrive')"
      ],
      "metadata": {
        "colab": {
          "base_uri": "https://localhost:8080/"
        },
        "id": "-iogD-kWPksg",
        "outputId": "ab133e3d-5e23-4d0e-d7f5-c3f2906b93aa"
      },
      "execution_count": 2,
      "outputs": [
        {
          "output_type": "stream",
          "name": "stdout",
          "text": [
            "Mounted at /content/gdrive\n"
          ]
        }
      ]
    },
    {
      "cell_type": "markdown",
      "source": [
        "#### Extact all files from the zip file"
      ],
      "metadata": {
        "id": "g0SZfxtymv9H"
      }
    },
    {
      "cell_type": "code",
      "execution_count": 3,
      "metadata": {
        "id": "bn_zQs_wPaBp"
      },
      "outputs": [],
      "source": [
        "# importing required modules\n",
        "import tarfile\n",
        "  \n",
        "# specifying the zip file name\n",
        "file_name = \"/content/gdrive/MyDrive/Colab Notebooks/Data/medical/full_data.tar.gz\"\n",
        "  \n",
        "\n",
        "tar = tarfile.open(file_name, \"r:gz\")\n",
        "tar.extractall()"
      ]
    },
    {
      "cell_type": "markdown",
      "source": [
        "## Data exploration"
      ],
      "metadata": {
        "id": "MJbqGr4DRMdn"
      }
    },
    {
      "cell_type": "code",
      "source": [
        "import pandas as pd\n",
        "medEnTrPath = '/content/gdrive/MyDrive/Colab Notebooks/Data/medical/nejm.train.en'\n",
        "medZhTrPath = '/content/gdrive/MyDrive/Colab Notebooks/Data/medical/nejm.train.zh'\n",
        "\n",
        "medEnValPath = '/content/gdrive/MyDrive/Colab Notebooks/Data/medical/nejm.dev.en'\n",
        "medZhValPath = '/content/gdrive/MyDrive/Colab Notebooks/Data/medical/nejm.dev.zh'\n",
        "\n",
        "medEnTestPath = '/content/gdrive/MyDrive/Colab Notebooks/Data/medical/nejm.test.en'\n",
        "medZhTestPath = '/content/gdrive/MyDrive/Colab Notebooks/Data/medical/nejm.test.zh'\n",
        "\n",
        "def read_file(path):\n",
        "  fileObject = open(path, 'r')\n",
        "  file_contents = fileObject.read()\n",
        "  result = file_contents.splitlines()\n",
        "  return result\n",
        "\n",
        "medEnTr,medZhTr = read_file(medEnTrPath), read_file(medZhTrPath)\n",
        "medEnVal,medZhVal = read_file(medEnValPath), read_file(medZhValPath)\n",
        "medEnTest,medZhTest = read_file(medEnTestPath), read_file(medZhTestPath)\n",
        "\n"
      ],
      "metadata": {
        "id": "dKCNZI8_Qa-t"
      },
      "execution_count": 10,
      "outputs": []
    },
    {
      "cell_type": "code",
      "source": [
        "# Check # of lines in english and chinese\n",
        "\n",
        "len(medEnTr), len(medZhTr), len(medEnVal), len(medZhVal), len(medEnTest), len(medZhTest)"
      ],
      "metadata": {
        "colab": {
          "base_uri": "https://localhost:8080/"
        },
        "id": "GLYuRceORPPe",
        "outputId": "fe9d5a5e-d492-4235-d9b4-0e988041a012"
      },
      "execution_count": 5,
      "outputs": [
        {
          "output_type": "execute_result",
          "data": {
            "text/plain": [
              "(62127, 62127, 2036, 2036, 2102, 2102)"
            ]
          },
          "metadata": {},
          "execution_count": 5
        }
      ]
    },
    {
      "cell_type": "code",
      "source": [
        "medEnTr[:5]"
      ],
      "metadata": {
        "colab": {
          "base_uri": "https://localhost:8080/"
        },
        "id": "f8CsOX-PRQn4",
        "outputId": "b9da69ed-2fd7-48b4-ecab-2c4157d9e92c"
      },
      "execution_count": 6,
      "outputs": [
        {
          "output_type": "execute_result",
          "data": {
            "text/plain": [
              "['probably not : analysis suggests minimal effect of HT in maintaining lean body mass .',\n",
              " 'age @-@ related loss of muscle mass ( sarcopenia ) is an important predictor of impaired mobility .',\n",
              " 'investigators identified 12 randomized trials of menopausal HT in which changes in LBM were assessed .',\n",
              " 'among 4474 participants , mean age was 58 and median follow @-@ up was 2 years .',\n",
              " 'Intensifying blood pressure regimens at discharge in older adults was associated with excess readmissions and serious adverse events .']"
            ]
          },
          "metadata": {},
          "execution_count": 6
        }
      ]
    },
    {
      "cell_type": "code",
      "source": [
        "medZhTr[:10]\n",
        "\n",
        "# In the 4th row, apparently the tokenize does not work very well"
      ],
      "metadata": {
        "colab": {
          "base_uri": "https://localhost:8080/"
        },
        "id": "5miBfhlgS-sq",
        "outputId": "7c2412e9-e749-4537-b26b-90778f5619f1"
      },
      "execution_count": 7,
      "outputs": [
        {
          "output_type": "execute_result",
          "data": {
            "text/plain": [
              "['也许 不能 : 分析 结果 提示 激素 疗法 在 维持 去 脂 体重 方面 作用 很小 .',\n",
              " '与 衰老 相关 的 肌肉 萎缩 是 活动 能力 下降 的 重要 预测 因素 .',\n",
              " '研究者 确定 了 12 项 评估 去 脂 体重 变化 情况 的 绝经期 激素 疗法 随机 试验 .',\n",
              " '4 , 474 名 参与者 的 平均年龄 为 58 岁 , 平均 随访 时间 为 2 年 .',\n",
              " '强化 老年人 出院 时 的 血压 控制 方案 与 再 入院 和 严重 不良 事件 增加 相关 .',\n",
              " '住院 期间 , 患者 常 出现 血压 暂时 升高 , 因而 导致 医师 在 患者 出院 时 调整 其 门诊 抗 高血压 方案 .',\n",
              " '尚无 任何 研究 评估 这一 做法 可否 改善 患者 结局 .',\n",
              " '1 年时 , 两组 的 平均 收缩压 和 心脏 不良 事件 发生率 相似 .',\n",
              " '在 出院 时 接受 强化 抗 高血压 方案 的 患者 中 , 住院 前 一半 以上 的 门诊 血压 控制 状况良好 .',\n",
              " '这项 研究 凸显 了 住院 患者 的 一种 常见 临床 状况 .']"
            ]
          },
          "metadata": {},
          "execution_count": 7
        }
      ]
    },
    {
      "cell_type": "code",
      "source": [
        "# Distribution of length of the sentence\n",
        "EnLenTr, ZhLenTr = [len(i.split(' ')) for i in medEnTr], [len(i.split(' ')) for i in medZhTr]\n",
        "EnLenVal, ZhLenVal = [len(i.split(' ')) for i in medEnVal], [len(i.split(' ')) for i in medZhVal]\n",
        "EnLenTest, ZhLenTest = [len(i.split(' ')) for i in medEnTest], [len(i.split(' ')) for i in medZhTest]\n",
        "\n",
        "import matplotlib.pyplot as plt\n",
        "import numpy as np\n",
        "from matplotlib.pyplot import figure\n",
        "\n",
        "%matplotlib inline\n",
        "\n",
        "# plt.hist(EnLenTr,  bins=30)  # density=False would make counts\n",
        "# plt.ylabel('Count')\n",
        "# plt.xlabel('Length');\n",
        "# plt.title('EnLength')\n",
        "# plt.hist(EnLenTr,  bins=30)  # density=False would make counts\n",
        "# plt.ylabel('Count')\n",
        "# plt.xlabel('Length');\n",
        "# plt.title('EnLength')\n",
        "figure(figsize=(10, 20), dpi=80)\n",
        "\n",
        "fig, axis = plt.subplots(3, 2, figsize=(15,15))\n",
        "\n",
        "# For train\n",
        "axis[0, 0].hist(EnLenTr,  bins=30)\n",
        "axis[0, 0].set_title(\"En Train\")\n",
        "  \n",
        "# For train\n",
        "axis[0, 1].hist(ZhLenTr,  bins=30)\n",
        "axis[0, 1].set_title(\"Zh Train\")\n",
        "\n",
        "# For Val\n",
        "axis[1, 0].hist(EnLenVal,  bins=30)\n",
        "axis[1, 0].set_title(\"En Val\")\n",
        "  \n",
        "# For Val\n",
        "axis[1, 1].hist(ZhLenVal,  bins=30)\n",
        "axis[1, 1].set_title(\"Zh Val\")\n",
        "\n",
        "# For Test\n",
        "axis[2, 0].hist(EnLenTest,  bins=30)\n",
        "axis[2, 0].set_title(\"En Test\")\n",
        "  \n",
        "# For Test\n",
        "axis[2, 1].hist(ZhLenTest,  bins=30)\n",
        "axis[2, 1].set_title(\"Zh Test\")\n",
        "\n",
        "plt.show()\n"
      ],
      "metadata": {
        "colab": {
          "base_uri": "https://localhost:8080/",
          "height": 644
        },
        "id": "Gab1rKJ9THeI",
        "outputId": "304fb39e-3f35-4313-d7c7-250ca4b28602"
      },
      "execution_count": 8,
      "outputs": [
        {
          "output_type": "display_data",
          "data": {
            "text/plain": [
              "<Figure size 800x1600 with 0 Axes>"
            ]
          },
          "metadata": {}
        },
        {
          "output_type": "display_data",
          "data": {
            "image/png": "[encoded data removed]",
            "text/plain": [
              "<Figure size 1080x1080 with 6 Axes>"
            ]
          },
          "metadata": {
            "needs_background": "light"
          }
        }
      ]
    },
    {
      "cell_type": "markdown",
      "source": [
        "## Benchmark"
      ],
      "metadata": {
        "id": "fAX6PikOYOu1"
      }
    },
    {
      "cell_type": "markdown",
      "source": [
        "#### import model and tokenizer"
      ],
      "metadata": {
        "id": "8EIPg4JBcrNf"
      }
    },
    {
      "cell_type": "code",
      "source": [
        "# medEnTr,medZhTr = read_file(medEnTrPath), read_file(medZhTrPath)\n",
        "# medEnVal,medZhVal = read_file(medEnValPath), read_file(medZhValPath)\n",
        "# medEnTest,medZhTest = read_file(medEnTestPath), read_file(medZhTestPath)\n",
        "\n",
        "from transformers import MarianMTModel, MarianTokenizer\n",
        "import sentencepiece\n",
        "from datasets import load_metric\n",
        "from nltk.translate.bleu_score import sentence_bleu\n",
        "\n",
        "metric = load_metric(\"bleu\")\n",
        "\n",
        "model_name = 'Helsinki-NLP/opus-mt-en-zh'\n",
        "# model_name = 'Helsinki-NLP/opus-mt-en-ROMANCE'\n",
        "tokenizer = MarianTokenizer.from_pretrained(model_name)"
      ],
      "metadata": {
        "id": "7wzWkSFiUhL4"
      },
      "execution_count": 4,
      "outputs": []
    },
    {
      "cell_type": "markdown",
      "source": [
        "#### Evaluate"
      ],
      "metadata": {
        "id": "0k6vVHWyc2nT"
      }
    },
    {
      "cell_type": "code",
      "source": [
        "# Evaluate\n",
        "# model = MarianMTModel.from_pretrained(model_name)\n",
        "# translated = model.generate(**tokenizer(medEnTest[:5], return_tensors=\"pt\", padding=True))\n",
        "\n",
        "# hyps = tokenizer.batch_decode(translated, skip_special_tokens=True)\n",
        "# refs = medZhTest[:5]\n",
        "\n",
        "model = MarianMTModel.from_pretrained(model_name)\n",
        "translated = []\n",
        "for i in [medEnTest[:400], medEnTest[400:800], medEnTest[800:1200], medEnTest[1200:1600], medEnTest[1600:2000], medEnTest[2000:]]:\n",
        "  tmp = model.generate(**tokenizer(i, return_tensors=\"pt\", padding=True))\n",
        "  translated += tmp\n",
        "\n",
        "hyps = tokenizer.batch_decode(translated, skip_special_tokens=True)\n",
        "refs = medZhTest"
      ],
      "metadata": {
        "colab": {
          "base_uri": "https://localhost:8080/",
          "height": 433
        },
        "id": "KdPJCbmtpZnH",
        "outputId": "8603276b-fb4a-4a86-acd4-4172ece59a2a"
      },
      "execution_count": 6,
      "outputs": [
        {
          "output_type": "error",
          "ename": "KeyboardInterrupt",
          "evalue": "ignored",
          "traceback": [
            "\u001b[0;31m---------------------------------------------------------------------------\u001b[0m",
            "\u001b[0;31mKeyboardInterrupt\u001b[0m                         Traceback (most recent call last)",
            "\u001b[0;32m<ipython-input-6-ca3012751f25>\u001b[0m in \u001b[0;36m<module>\u001b[0;34m()\u001b[0m\n\u001b[1;32m      9\u001b[0m \u001b[0mtranslated\u001b[0m \u001b[0;34m=\u001b[0m \u001b[0;34m[\u001b[0m\u001b[0;34m]\u001b[0m\u001b[0;34m\u001b[0m\u001b[0;34m\u001b[0m\u001b[0m\n\u001b[1;32m     10\u001b[0m \u001b[0;32mfor\u001b[0m \u001b[0mi\u001b[0m \u001b[0;32min\u001b[0m \u001b[0;34m[\u001b[0m\u001b[0mmedEnTest\u001b[0m\u001b[0;34m[\u001b[0m\u001b[0;34m:\u001b[0m\u001b[0;36m400\u001b[0m\u001b[0;34m]\u001b[0m\u001b[0;34m,\u001b[0m \u001b[0mmedEnTest\u001b[0m\u001b[0;34m[\u001b[0m\u001b[0;36m400\u001b[0m\u001b[0;34m:\u001b[0m\u001b[0;36m800\u001b[0m\u001b[0;34m]\u001b[0m\u001b[0;34m,\u001b[0m \u001b[0mmedEnTest\u001b[0m\u001b[0;34m[\u001b[0m\u001b[0;36m800\u001b[0m\u001b[0;34m:\u001b[0m\u001b[0;36m1200\u001b[0m\u001b[0;34m]\u001b[0m\u001b[0;34m,\u001b[0m \u001b[0mmedEnTest\u001b[0m\u001b[0;34m[\u001b[0m\u001b[0;36m1200\u001b[0m\u001b[0;34m:\u001b[0m\u001b[0;36m1600\u001b[0m\u001b[0;34m]\u001b[0m\u001b[0;34m,\u001b[0m \u001b[0mmedEnTest\u001b[0m\u001b[0;34m[\u001b[0m\u001b[0;36m1600\u001b[0m\u001b[0;34m:\u001b[0m\u001b[0;36m2000\u001b[0m\u001b[0;34m]\u001b[0m\u001b[0;34m,\u001b[0m \u001b[0mmedEnTest\u001b[0m\u001b[0;34m[\u001b[0m\u001b[0;36m2000\u001b[0m\u001b[0;34m:\u001b[0m\u001b[0;34m]\u001b[0m\u001b[0;34m]\u001b[0m\u001b[0;34m:\u001b[0m\u001b[0;34m\u001b[0m\u001b[0;34m\u001b[0m\u001b[0m\n\u001b[0;32m---> 11\u001b[0;31m   \u001b[0mtmp\u001b[0m \u001b[0;34m=\u001b[0m \u001b[0mmodel\u001b[0m\u001b[0;34m.\u001b[0m\u001b[0mgenerate\u001b[0m\u001b[0;34m(\u001b[0m\u001b[0;34m**\u001b[0m\u001b[0mtokenizer\u001b[0m\u001b[0;34m(\u001b[0m\u001b[0mi\u001b[0m\u001b[0;34m,\u001b[0m \u001b[0mreturn_tensors\u001b[0m\u001b[0;34m=\u001b[0m\u001b[0;34m\"pt\"\u001b[0m\u001b[0;34m,\u001b[0m \u001b[0mpadding\u001b[0m\u001b[0;34m=\u001b[0m\u001b[0;32mTrue\u001b[0m\u001b[0;34m)\u001b[0m\u001b[0;34m)\u001b[0m\u001b[0;34m\u001b[0m\u001b[0;34m\u001b[0m\u001b[0m\n\u001b[0m\u001b[1;32m     12\u001b[0m   \u001b[0mtranslated\u001b[0m \u001b[0;34m+=\u001b[0m \u001b[0mtmp\u001b[0m\u001b[0;34m\u001b[0m\u001b[0;34m\u001b[0m\u001b[0m\n\u001b[1;32m     13\u001b[0m \u001b[0;34m\u001b[0m\u001b[0m\n",
            "\u001b[0;32m/usr/local/lib/python3.7/dist-packages/torch/autograd/grad_mode.py\u001b[0m in \u001b[0;36mdecorate_context\u001b[0;34m(*args, **kwargs)\u001b[0m\n\u001b[1;32m     26\u001b[0m         \u001b[0;32mdef\u001b[0m \u001b[0mdecorate_context\u001b[0m\u001b[0;34m(\u001b[0m\u001b[0;34m*\u001b[0m\u001b[0margs\u001b[0m\u001b[0;34m,\u001b[0m \u001b[0;34m**\u001b[0m\u001b[0mkwargs\u001b[0m\u001b[0;34m)\u001b[0m\u001b[0;34m:\u001b[0m\u001b[0;34m\u001b[0m\u001b[0;34m\u001b[0m\u001b[0m\n\u001b[1;32m     27\u001b[0m             \u001b[0;32mwith\u001b[0m \u001b[0mself\u001b[0m\u001b[0;34m.\u001b[0m\u001b[0m__class__\u001b[0m\u001b[0;34m(\u001b[0m\u001b[0;34m)\u001b[0m\u001b[0;34m:\u001b[0m\u001b[0;34m\u001b[0m\u001b[0;34m\u001b[0m\u001b[0m\n\u001b[0;32m---> 28\u001b[0;31m                 \u001b[0;32mreturn\u001b[0m \u001b[0mfunc\u001b[0m\u001b[0;34m(\u001b[0m\u001b[0;34m*\u001b[0m\u001b[0margs\u001b[0m\u001b[0;34m,\u001b[0m \u001b[0;34m**\u001b[0m\u001b[0mkwargs\u001b[0m\u001b[0;34m)\u001b[0m\u001b[0;34m\u001b[0m\u001b[0;34m\u001b[0m\u001b[0m\n\u001b[0m\u001b[1;32m     29\u001b[0m         \u001b[0;32mreturn\u001b[0m \u001b[0mcast\u001b[0m\u001b[0;34m(\u001b[0m\u001b[0mF\u001b[0m\u001b[0;34m,\u001b[0m \u001b[0mdecorate_context\u001b[0m\u001b[0;34m)\u001b[0m\u001b[0;34m\u001b[0m\u001b[0;34m\u001b[0m\u001b[0m\n\u001b[1;32m     30\u001b[0m \u001b[0;34m\u001b[0m\u001b[0m\n",
            "\u001b[0;32m/usr/local/lib/python3.7/dist-packages/transformers/generation_utils.py\u001b[0m in \u001b[0;36mgenerate\u001b[0;34m(self, inputs, max_length, min_length, do_sample, early_stopping, num_beams, temperature, top_k, top_p, typical_p, repetition_penalty, bad_words_ids, bos_token_id, pad_token_id, eos_token_id, length_penalty, no_repeat_ngram_size, encoder_no_repeat_ngram_size, num_return_sequences, max_time, max_new_tokens, decoder_start_token_id, use_cache, num_beam_groups, diversity_penalty, prefix_allowed_tokens_fn, logits_processor, stopping_criteria, constraints, output_attentions, output_hidden_states, output_scores, return_dict_in_generate, forced_bos_token_id, forced_eos_token_id, remove_invalid_values, synced_gpus, **model_kwargs)\u001b[0m\n\u001b[1;32m   1101\u001b[0m             \u001b[0;31m# and added to `model_kwargs`\u001b[0m\u001b[0;34m\u001b[0m\u001b[0;34m\u001b[0m\u001b[0;34m\u001b[0m\u001b[0m\n\u001b[1;32m   1102\u001b[0m             model_kwargs = self._prepare_encoder_decoder_kwargs_for_generation(\n\u001b[0;32m-> 1103\u001b[0;31m                 \u001b[0minputs_tensor\u001b[0m\u001b[0;34m,\u001b[0m \u001b[0mmodel_kwargs\u001b[0m\u001b[0;34m,\u001b[0m \u001b[0mmodel_input_name\u001b[0m\u001b[0;34m\u001b[0m\u001b[0;34m\u001b[0m\u001b[0m\n\u001b[0m\u001b[1;32m   1104\u001b[0m             )\n\u001b[1;32m   1105\u001b[0m \u001b[0;34m\u001b[0m\u001b[0m\n",
            "\u001b[0;32m/usr/local/lib/python3.7/dist-packages/transformers/generation_utils.py\u001b[0m in \u001b[0;36m_prepare_encoder_decoder_kwargs_for_generation\u001b[0;34m(self, inputs_tensor, model_kwargs, model_input_name)\u001b[0m\n\u001b[1;32m    508\u001b[0m         \u001b[0mencoder_kwargs\u001b[0m\u001b[0;34m[\u001b[0m\u001b[0;34m\"return_dict\"\u001b[0m\u001b[0;34m]\u001b[0m \u001b[0;34m=\u001b[0m \u001b[0;32mTrue\u001b[0m\u001b[0;34m\u001b[0m\u001b[0;34m\u001b[0m\u001b[0m\n\u001b[1;32m    509\u001b[0m         \u001b[0mencoder_kwargs\u001b[0m\u001b[0;34m[\u001b[0m\u001b[0mmodel_input_name\u001b[0m\u001b[0;34m]\u001b[0m \u001b[0;34m=\u001b[0m \u001b[0minputs_tensor\u001b[0m\u001b[0;34m\u001b[0m\u001b[0;34m\u001b[0m\u001b[0m\n\u001b[0;32m--> 510\u001b[0;31m         \u001b[0mmodel_kwargs\u001b[0m\u001b[0;34m[\u001b[0m\u001b[0;34m\"encoder_outputs\"\u001b[0m\u001b[0;34m]\u001b[0m\u001b[0;34m:\u001b[0m \u001b[0mModelOutput\u001b[0m \u001b[0;34m=\u001b[0m \u001b[0mencoder\u001b[0m\u001b[0;34m(\u001b[0m\u001b[0;34m**\u001b[0m\u001b[0mencoder_kwargs\u001b[0m\u001b[0;34m)\u001b[0m\u001b[0;34m\u001b[0m\u001b[0;34m\u001b[0m\u001b[0m\n\u001b[0m\u001b[1;32m    511\u001b[0m \u001b[0;34m\u001b[0m\u001b[0m\n\u001b[1;32m    512\u001b[0m         \u001b[0;32mreturn\u001b[0m \u001b[0mmodel_kwargs\u001b[0m\u001b[0;34m\u001b[0m\u001b[0;34m\u001b[0m\u001b[0m\n",
            "\u001b[0;32m/usr/local/lib/python3.7/dist-packages/torch/nn/modules/module.py\u001b[0m in \u001b[0;36m_call_impl\u001b[0;34m(self, *input, **kwargs)\u001b[0m\n\u001b[1;32m   1100\u001b[0m         if not (self._backward_hooks or self._forward_hooks or self._forward_pre_hooks or _global_backward_hooks\n\u001b[1;32m   1101\u001b[0m                 or _global_forward_hooks or _global_forward_pre_hooks):\n\u001b[0;32m-> 1102\u001b[0;31m             \u001b[0;32mreturn\u001b[0m \u001b[0mforward_call\u001b[0m\u001b[0;34m(\u001b[0m\u001b[0;34m*\u001b[0m\u001b[0minput\u001b[0m\u001b[0;34m,\u001b[0m \u001b[0;34m**\u001b[0m\u001b[0mkwargs\u001b[0m\u001b[0;34m)\u001b[0m\u001b[0;34m\u001b[0m\u001b[0;34m\u001b[0m\u001b[0m\n\u001b[0m\u001b[1;32m   1103\u001b[0m         \u001b[0;31m# Do not call functions when jit is used\u001b[0m\u001b[0;34m\u001b[0m\u001b[0;34m\u001b[0m\u001b[0;34m\u001b[0m\u001b[0m\n\u001b[1;32m   1104\u001b[0m         \u001b[0mfull_backward_hooks\u001b[0m\u001b[0;34m,\u001b[0m \u001b[0mnon_full_backward_hooks\u001b[0m \u001b[0;34m=\u001b[0m \u001b[0;34m[\u001b[0m\u001b[0;34m]\u001b[0m\u001b[0;34m,\u001b[0m \u001b[0;34m[\u001b[0m\u001b[0;34m]\u001b[0m\u001b[0;34m\u001b[0m\u001b[0;34m\u001b[0m\u001b[0m\n",
            "\u001b[0;32m/usr/local/lib/python3.7/dist-packages/transformers/models/marian/modeling_marian.py\u001b[0m in \u001b[0;36mforward\u001b[0;34m(self, input_ids, attention_mask, head_mask, inputs_embeds, output_attentions, output_hidden_states, return_dict)\u001b[0m\n\u001b[1;32m    786\u001b[0m                         \u001b[0mattention_mask\u001b[0m\u001b[0;34m,\u001b[0m\u001b[0;34m\u001b[0m\u001b[0;34m\u001b[0m\u001b[0m\n\u001b[1;32m    787\u001b[0m                         \u001b[0mlayer_head_mask\u001b[0m\u001b[0;34m=\u001b[0m\u001b[0;34m(\u001b[0m\u001b[0mhead_mask\u001b[0m\u001b[0;34m[\u001b[0m\u001b[0midx\u001b[0m\u001b[0;34m]\u001b[0m \u001b[0;32mif\u001b[0m \u001b[0mhead_mask\u001b[0m \u001b[0;32mis\u001b[0m \u001b[0;32mnot\u001b[0m \u001b[0;32mNone\u001b[0m \u001b[0;32melse\u001b[0m \u001b[0;32mNone\u001b[0m\u001b[0;34m)\u001b[0m\u001b[0;34m,\u001b[0m\u001b[0;34m\u001b[0m\u001b[0;34m\u001b[0m\u001b[0m\n\u001b[0;32m--> 788\u001b[0;31m                         \u001b[0moutput_attentions\u001b[0m\u001b[0;34m=\u001b[0m\u001b[0moutput_attentions\u001b[0m\u001b[0;34m,\u001b[0m\u001b[0;34m\u001b[0m\u001b[0;34m\u001b[0m\u001b[0m\n\u001b[0m\u001b[1;32m    789\u001b[0m                     )\n\u001b[1;32m    790\u001b[0m \u001b[0;34m\u001b[0m\u001b[0m\n",
            "\u001b[0;32m/usr/local/lib/python3.7/dist-packages/torch/nn/modules/module.py\u001b[0m in \u001b[0;36m_call_impl\u001b[0;34m(self, *input, **kwargs)\u001b[0m\n\u001b[1;32m   1100\u001b[0m         if not (self._backward_hooks or self._forward_hooks or self._forward_pre_hooks or _global_backward_hooks\n\u001b[1;32m   1101\u001b[0m                 or _global_forward_hooks or _global_forward_pre_hooks):\n\u001b[0;32m-> 1102\u001b[0;31m             \u001b[0;32mreturn\u001b[0m \u001b[0mforward_call\u001b[0m\u001b[0;34m(\u001b[0m\u001b[0;34m*\u001b[0m\u001b[0minput\u001b[0m\u001b[0;34m,\u001b[0m \u001b[0;34m**\u001b[0m\u001b[0mkwargs\u001b[0m\u001b[0;34m)\u001b[0m\u001b[0;34m\u001b[0m\u001b[0;34m\u001b[0m\u001b[0m\n\u001b[0m\u001b[1;32m   1103\u001b[0m         \u001b[0;31m# Do not call functions when jit is used\u001b[0m\u001b[0;34m\u001b[0m\u001b[0;34m\u001b[0m\u001b[0;34m\u001b[0m\u001b[0m\n\u001b[1;32m   1104\u001b[0m         \u001b[0mfull_backward_hooks\u001b[0m\u001b[0;34m,\u001b[0m \u001b[0mnon_full_backward_hooks\u001b[0m \u001b[0;34m=\u001b[0m \u001b[0;34m[\u001b[0m\u001b[0;34m]\u001b[0m\u001b[0;34m,\u001b[0m \u001b[0;34m[\u001b[0m\u001b[0;34m]\u001b[0m\u001b[0;34m\u001b[0m\u001b[0;34m\u001b[0m\u001b[0m\n",
            "\u001b[0;32m/usr/local/lib/python3.7/dist-packages/transformers/models/marian/modeling_marian.py\u001b[0m in \u001b[0;36mforward\u001b[0;34m(self, hidden_states, attention_mask, layer_head_mask, output_attentions)\u001b[0m\n\u001b[1;32m    336\u001b[0m         \u001b[0mhidden_states\u001b[0m \u001b[0;34m=\u001b[0m \u001b[0mself\u001b[0m\u001b[0;34m.\u001b[0m\u001b[0mactivation_fn\u001b[0m\u001b[0;34m(\u001b[0m\u001b[0mself\u001b[0m\u001b[0;34m.\u001b[0m\u001b[0mfc1\u001b[0m\u001b[0;34m(\u001b[0m\u001b[0mhidden_states\u001b[0m\u001b[0;34m)\u001b[0m\u001b[0;34m)\u001b[0m\u001b[0;34m\u001b[0m\u001b[0;34m\u001b[0m\u001b[0m\n\u001b[1;32m    337\u001b[0m         \u001b[0mhidden_states\u001b[0m \u001b[0;34m=\u001b[0m \u001b[0mnn\u001b[0m\u001b[0;34m.\u001b[0m\u001b[0mfunctional\u001b[0m\u001b[0;34m.\u001b[0m\u001b[0mdropout\u001b[0m\u001b[0;34m(\u001b[0m\u001b[0mhidden_states\u001b[0m\u001b[0;34m,\u001b[0m \u001b[0mp\u001b[0m\u001b[0;34m=\u001b[0m\u001b[0mself\u001b[0m\u001b[0;34m.\u001b[0m\u001b[0mactivation_dropout\u001b[0m\u001b[0;34m,\u001b[0m \u001b[0mtraining\u001b[0m\u001b[0;34m=\u001b[0m\u001b[0mself\u001b[0m\u001b[0;34m.\u001b[0m\u001b[0mtraining\u001b[0m\u001b[0;34m)\u001b[0m\u001b[0;34m\u001b[0m\u001b[0;34m\u001b[0m\u001b[0m\n\u001b[0;32m--> 338\u001b[0;31m         \u001b[0mhidden_states\u001b[0m \u001b[0;34m=\u001b[0m \u001b[0mself\u001b[0m\u001b[0;34m.\u001b[0m\u001b[0mfc2\u001b[0m\u001b[0;34m(\u001b[0m\u001b[0mhidden_states\u001b[0m\u001b[0;34m)\u001b[0m\u001b[0;34m\u001b[0m\u001b[0;34m\u001b[0m\u001b[0m\n\u001b[0m\u001b[1;32m    339\u001b[0m         \u001b[0mhidden_states\u001b[0m \u001b[0;34m=\u001b[0m \u001b[0mnn\u001b[0m\u001b[0;34m.\u001b[0m\u001b[0mfunctional\u001b[0m\u001b[0;34m.\u001b[0m\u001b[0mdropout\u001b[0m\u001b[0;34m(\u001b[0m\u001b[0mhidden_states\u001b[0m\u001b[0;34m,\u001b[0m \u001b[0mp\u001b[0m\u001b[0;34m=\u001b[0m\u001b[0mself\u001b[0m\u001b[0;34m.\u001b[0m\u001b[0mdropout\u001b[0m\u001b[0;34m,\u001b[0m \u001b[0mtraining\u001b[0m\u001b[0;34m=\u001b[0m\u001b[0mself\u001b[0m\u001b[0;34m.\u001b[0m\u001b[0mtraining\u001b[0m\u001b[0;34m)\u001b[0m\u001b[0;34m\u001b[0m\u001b[0;34m\u001b[0m\u001b[0m\n\u001b[1;32m    340\u001b[0m         \u001b[0mhidden_states\u001b[0m \u001b[0;34m=\u001b[0m \u001b[0mresidual\u001b[0m \u001b[0;34m+\u001b[0m \u001b[0mhidden_states\u001b[0m\u001b[0;34m\u001b[0m\u001b[0;34m\u001b[0m\u001b[0m\n",
            "\u001b[0;32m/usr/local/lib/python3.7/dist-packages/torch/nn/modules/module.py\u001b[0m in \u001b[0;36m_call_impl\u001b[0;34m(self, *input, **kwargs)\u001b[0m\n\u001b[1;32m   1100\u001b[0m         if not (self._backward_hooks or self._forward_hooks or self._forward_pre_hooks or _global_backward_hooks\n\u001b[1;32m   1101\u001b[0m                 or _global_forward_hooks or _global_forward_pre_hooks):\n\u001b[0;32m-> 1102\u001b[0;31m             \u001b[0;32mreturn\u001b[0m \u001b[0mforward_call\u001b[0m\u001b[0;34m(\u001b[0m\u001b[0;34m*\u001b[0m\u001b[0minput\u001b[0m\u001b[0;34m,\u001b[0m \u001b[0;34m**\u001b[0m\u001b[0mkwargs\u001b[0m\u001b[0;34m)\u001b[0m\u001b[0;34m\u001b[0m\u001b[0;34m\u001b[0m\u001b[0m\n\u001b[0m\u001b[1;32m   1103\u001b[0m         \u001b[0;31m# Do not call functions when jit is used\u001b[0m\u001b[0;34m\u001b[0m\u001b[0;34m\u001b[0m\u001b[0;34m\u001b[0m\u001b[0m\n\u001b[1;32m   1104\u001b[0m         \u001b[0mfull_backward_hooks\u001b[0m\u001b[0;34m,\u001b[0m \u001b[0mnon_full_backward_hooks\u001b[0m \u001b[0;34m=\u001b[0m \u001b[0;34m[\u001b[0m\u001b[0;34m]\u001b[0m\u001b[0;34m,\u001b[0m \u001b[0;34m[\u001b[0m\u001b[0;34m]\u001b[0m\u001b[0;34m\u001b[0m\u001b[0;34m\u001b[0m\u001b[0m\n",
            "\u001b[0;32m/usr/local/lib/python3.7/dist-packages/torch/nn/modules/linear.py\u001b[0m in \u001b[0;36mforward\u001b[0;34m(self, input)\u001b[0m\n\u001b[1;32m    101\u001b[0m \u001b[0;34m\u001b[0m\u001b[0m\n\u001b[1;32m    102\u001b[0m     \u001b[0;32mdef\u001b[0m \u001b[0mforward\u001b[0m\u001b[0;34m(\u001b[0m\u001b[0mself\u001b[0m\u001b[0;34m,\u001b[0m \u001b[0minput\u001b[0m\u001b[0;34m:\u001b[0m \u001b[0mTensor\u001b[0m\u001b[0;34m)\u001b[0m \u001b[0;34m->\u001b[0m \u001b[0mTensor\u001b[0m\u001b[0;34m:\u001b[0m\u001b[0;34m\u001b[0m\u001b[0;34m\u001b[0m\u001b[0m\n\u001b[0;32m--> 103\u001b[0;31m         \u001b[0;32mreturn\u001b[0m \u001b[0mF\u001b[0m\u001b[0;34m.\u001b[0m\u001b[0mlinear\u001b[0m\u001b[0;34m(\u001b[0m\u001b[0minput\u001b[0m\u001b[0;34m,\u001b[0m \u001b[0mself\u001b[0m\u001b[0;34m.\u001b[0m\u001b[0mweight\u001b[0m\u001b[0;34m,\u001b[0m \u001b[0mself\u001b[0m\u001b[0;34m.\u001b[0m\u001b[0mbias\u001b[0m\u001b[0;34m)\u001b[0m\u001b[0;34m\u001b[0m\u001b[0;34m\u001b[0m\u001b[0m\n\u001b[0m\u001b[1;32m    104\u001b[0m \u001b[0;34m\u001b[0m\u001b[0m\n\u001b[1;32m    105\u001b[0m     \u001b[0;32mdef\u001b[0m \u001b[0mextra_repr\u001b[0m\u001b[0;34m(\u001b[0m\u001b[0mself\u001b[0m\u001b[0;34m)\u001b[0m \u001b[0;34m->\u001b[0m \u001b[0mstr\u001b[0m\u001b[0;34m:\u001b[0m\u001b[0;34m\u001b[0m\u001b[0;34m\u001b[0m\u001b[0m\n",
            "\u001b[0;32m/usr/local/lib/python3.7/dist-packages/torch/nn/functional.py\u001b[0m in \u001b[0;36mlinear\u001b[0;34m(input, weight, bias)\u001b[0m\n\u001b[1;32m   1846\u001b[0m     \u001b[0;32mif\u001b[0m \u001b[0mhas_torch_function_variadic\u001b[0m\u001b[0;34m(\u001b[0m\u001b[0minput\u001b[0m\u001b[0;34m,\u001b[0m \u001b[0mweight\u001b[0m\u001b[0;34m,\u001b[0m \u001b[0mbias\u001b[0m\u001b[0;34m)\u001b[0m\u001b[0;34m:\u001b[0m\u001b[0;34m\u001b[0m\u001b[0;34m\u001b[0m\u001b[0m\n\u001b[1;32m   1847\u001b[0m         \u001b[0;32mreturn\u001b[0m \u001b[0mhandle_torch_function\u001b[0m\u001b[0;34m(\u001b[0m\u001b[0mlinear\u001b[0m\u001b[0;34m,\u001b[0m \u001b[0;34m(\u001b[0m\u001b[0minput\u001b[0m\u001b[0;34m,\u001b[0m \u001b[0mweight\u001b[0m\u001b[0;34m,\u001b[0m \u001b[0mbias\u001b[0m\u001b[0;34m)\u001b[0m\u001b[0;34m,\u001b[0m \u001b[0minput\u001b[0m\u001b[0;34m,\u001b[0m \u001b[0mweight\u001b[0m\u001b[0;34m,\u001b[0m \u001b[0mbias\u001b[0m\u001b[0;34m=\u001b[0m\u001b[0mbias\u001b[0m\u001b[0;34m)\u001b[0m\u001b[0;34m\u001b[0m\u001b[0;34m\u001b[0m\u001b[0m\n\u001b[0;32m-> 1848\u001b[0;31m     \u001b[0;32mreturn\u001b[0m \u001b[0mtorch\u001b[0m\u001b[0;34m.\u001b[0m\u001b[0m_C\u001b[0m\u001b[0;34m.\u001b[0m\u001b[0m_nn\u001b[0m\u001b[0;34m.\u001b[0m\u001b[0mlinear\u001b[0m\u001b[0;34m(\u001b[0m\u001b[0minput\u001b[0m\u001b[0;34m,\u001b[0m \u001b[0mweight\u001b[0m\u001b[0;34m,\u001b[0m \u001b[0mbias\u001b[0m\u001b[0;34m)\u001b[0m\u001b[0;34m\u001b[0m\u001b[0;34m\u001b[0m\u001b[0m\n\u001b[0m\u001b[1;32m   1849\u001b[0m \u001b[0;34m\u001b[0m\u001b[0m\n\u001b[1;32m   1850\u001b[0m \u001b[0;34m\u001b[0m\u001b[0m\n",
            "\u001b[0;31mKeyboardInterrupt\u001b[0m: "
          ]
        }
      ]
    },
    {
      "cell_type": "code",
      "source": [
        "translated[:2]"
      ],
      "metadata": {
        "id": "FOX0vmfNovha"
      },
      "execution_count": null,
      "outputs": []
    },
    {
      "cell_type": "code",
      "source": [
        "# Define evaluation metric\n",
        "\n",
        "import sacrebleu\n",
        "\n",
        "blue_scorer = sacrebleu.metrics.bleu.BLEU(\n",
        "\n",
        "        lowercase = False,\n",
        "\n",
        "        force = True,\n",
        "\n",
        "        tokenize = 'none',\n",
        "\n",
        "        smooth_method = 'exp',\n",
        "\n",
        "        smooth_value = None,\n",
        "\n",
        "        max_ngram_order = 4,\n",
        "\n",
        "        effective_order = False,\n",
        "\n",
        "    )\n"
      ],
      "metadata": {
        "id": "AxWthY5a7mkZ"
      },
      "execution_count": null,
      "outputs": []
    },
    {
      "cell_type": "code",
      "source": [
        "hyps[0]"
      ],
      "metadata": {
        "colab": {
          "base_uri": "https://localhost:8080/",
          "height": 52
        },
        "id": "bSHcixC4JVzE",
        "outputId": "7f16ff30-8d86-4698-f1ed-6a73ba0b5af0"
      },
      "execution_count": 15,
      "outputs": [
        {
          "output_type": "execute_result",
          "data": {
            "application/vnd.google.colaboratory.intrinsic+json": {
              "type": "string"
            },
            "text/plain": [
              "'asciminib是一种止血抑制剂,它将BCR@-@ABL1蛋白质的神基网站捆绑在一起,将BCR@-@ABL1锁定为不活动配方,通过不同于所有其他ABL的顺带抑制剂的机制。'"
            ]
          },
          "metadata": {},
          "execution_count": 15
        }
      ]
    },
    {
      "cell_type": "code",
      "source": [
        "refs[0]"
      ],
      "metadata": {
        "colab": {
          "base_uri": "https://localhost:8080/",
          "height": 52
        },
        "id": "ciFzt2I8LXh2",
        "outputId": "5fd6c91b-7481-4c0e-c808-2d1a13ae4a09"
      },
      "execution_count": 16,
      "outputs": [
        {
          "output_type": "execute_result",
          "data": {
            "application/vnd.google.colaboratory.intrinsic+json": {
              "type": "string"
            },
            "text/plain": [
              "'asciminib 是 与 BCR - ABL1 蛋白 的 豆蔻 酰 位点 相结合 的 别构抑制 剂 , 它 可 通过 不同于 所有 其他 ABL 激酶 抑制剂 的 机制 将 BCR - ABL1 锁定 在 非 活性 构象 .'"
            ]
          },
          "metadata": {},
          "execution_count": 16
        }
      ]
    },
    {
      "cell_type": "code",
      "source": [
        "blue_scorer.corpus_score(hyps[0], [refs[0]])"
      ],
      "metadata": {
        "colab": {
          "base_uri": "https://localhost:8080/"
        },
        "id": "pqL1Soh9Lavd",
        "outputId": "6b78242c-80b0-4977-91ad-9fb695172f5d"
      },
      "execution_count": 19,
      "outputs": [
        {
          "output_type": "execute_result",
          "data": {
            "text/plain": [
              "BLEU = 0.00 12.8/0.0/0.0/0.0 (BP = 1.000 ratio = 1.458 hyp_len = 86 ref_len = 59)"
            ]
          },
          "metadata": {},
          "execution_count": 19
        }
      ]
    },
    {
      "cell_type": "markdown",
      "source": [
        "#### Apparently, they are differently. We need to transform the two result into the same form to compare"
      ],
      "metadata": {
        "id": "Wjg-ZSwrhNjV"
      }
    },
    {
      "cell_type": "code",
      "source": [
        "import re\n",
        "def seg_char(sent):\n",
        "    \"\"\"\n",
        "    Split the sentence based on words without destroying english and symbol\n",
        "    \"\"\"\n",
        "    # First split english and symbol\n",
        "    pattern_char_1 = re.compile(r'([\\W])')\n",
        "    parts = pattern_char_1.split(sent)\n",
        "    parts = [p for p in parts if len(p.strip())>0]\n",
        "    # Split Chinese\n",
        "    pattern = re.compile(r'([\\u4e00-\\u9fa5])')\n",
        "    chars = pattern.split(sent)\n",
        "    chars = [w.strip() for w in chars if len(w.strip())>0]\n",
        "    chars = ' '.join(chars)\n",
        "    return chars\n",
        "\n",
        "# blue_scorer.corpus_score(hyps[0], [refs[0]])\n",
        "seg_char(hyps[0]), seg_char(refs[0])"
      ],
      "metadata": {
        "id": "YCQ1wSSrLlzE"
      },
      "execution_count": null,
      "outputs": []
    },
    {
      "cell_type": "code",
      "source": [
        "[[seg_char(i) for i in refs[:2]]]"
      ],
      "metadata": {
        "colab": {
          "base_uri": "https://localhost:8080/"
        },
        "id": "HPS3d-y8ckmQ",
        "outputId": "eac54647-7f32-4fca-a440-42939cf659c6"
      },
      "execution_count": 33,
      "outputs": [
        {
          "output_type": "execute_result",
          "data": {
            "text/plain": [
              "[['asciminib 是 与 BCR - ABL1 蛋 白 的 豆 蔻 酰 位 点 相 结 合 的 别 构 抑 制 剂 , 它 可 通 过 不 同 于 所 有 其 他 ABL 激 酶 抑 制 剂 的 机 制 将 BCR - ABL1 锁 定 在 非 活 性 构 象 .',\n",
              "  'asciminib 同 时 靶 向 作 用 于 天 然 和 突 变 的 BCR - ABL1 , 包 括 看 门 基 因 ( gatekeeper ) T315I 突 变 体 .']]"
            ]
          },
          "metadata": {},
          "execution_count": 33
        }
      ]
    },
    {
      "cell_type": "markdown",
      "source": [
        "#### Let's evaluate on the entire test dataset"
      ],
      "metadata": {
        "id": "A9h-heHdhpNT"
      }
    },
    {
      "cell_type": "code",
      "source": [
        "MarianMT_blue = blue_scorer.corpus_score([seg_char(i) for i in hyps], [[seg_char(i) for i in refs]])\n",
        "MarianMT_blue, MarianMT_blue.score"
      ],
      "metadata": {
        "colab": {
          "base_uri": "https://localhost:8080/"
        },
        "id": "9xSz4SEZbs_Q",
        "outputId": "56455e12-14e3-409b-a5ae-408251119744"
      },
      "execution_count": 37,
      "outputs": [
        {
          "output_type": "execute_result",
          "data": {
            "text/plain": [
              "BLEU = 15.45 53.9/33.1/20.8/15.5 (BP = 0.561 ratio = 0.634 hyp_len = 128 ref_len = 202)"
            ]
          },
          "metadata": {},
          "execution_count": 37
        }
      ]
    },
    {
      "cell_type": "code",
      "source": [
        "MarianMT_blue = blue_scorer.corpus_score([seg_char(i) for i in hyps], [[seg_char(i) for i in refs]])\n",
        "MarianMT_blue, MarianMT_blue.score"
      ],
      "metadata": {
        "id": "fG1XXn5WfTda"
      },
      "execution_count": null,
      "outputs": []
    },
    {
      "cell_type": "markdown",
      "source": [
        "#### Finetune and Re-evaluate"
      ],
      "metadata": {
        "id": "3oezi3KHOLxR"
      }
    },
    {
      "cell_type": "markdown",
      "source": [
        "##### Import tokenizer"
      ],
      "metadata": {
        "id": "hTETcF_4kuDo"
      }
    },
    {
      "cell_type": "code",
      "source": [
        "from transformers import AutoTokenizer\n",
        "\n",
        "model_checkpoint = 'Helsinki-NLP/opus-mt-en-zh'\n",
        "    \n",
        "tokenizer = AutoTokenizer.from_pretrained(model_checkpoint)\n",
        "\n",
        "# model_name = 'Helsinki-NLP/opus-mt-en-zh'\n",
        "# # model_name = 'Helsinki-NLP/opus-mt-en-ROMANCE'\n",
        "# tokenizer = MarianTokenizer.from_pretrained(model_name)"
      ],
      "metadata": {
        "colab": {
          "base_uri": "https://localhost:8080/",
          "height": 0,
          "referenced_widgets": [
            "73141be2049544a7a08f66706215fa6c",
            "7f6b897613b74cec8124aa2ad949d868",
            "8d721d3b92ea4927a8e897d0130bfa72",
            "405a7964b4bb48c2a48723f23c50b33e",
            "fadfc05e2f624a3fa061e5539b885e3c",
            "d8afaa42872a4d859cd2d6ed8719d4fc",
            "4fef7877c43c42478c7ed96a3f411670",
            "8f875350c58a4a0a82495ca19723f3fc",
            "ebc7c676cdc747b49fdcc8ccbddbe53a",
            "389a0d3d3cd54327af920f837fe727aa",
            "18ae3c66aa32403cbf5e25fde7e0e63a",
            "6f719b62d08344cb8d2aed6222c1fcd1",
            "620afdf623d04a8b8d7015c7bf15efb9",
            "517890c1e0a04828b3417b38fd813b2f",
            "487eeed53d7d4346adc199003eb8d528",
            "e12713fc24824c12949c0448d9af8aed",
            "3e7c8ff99b49480dad04579671c6ec66",
            "5712d9ac885e4e3faaa6c12d81ac10bf",
            "2475f17b8ca04d8bb75df2a8e5231762",
            "76e3cd3878d34ecba0f01951213fb0c8",
            "ebb5b392f11244cfa5fc6a7fc9efd4bb",
            "011511fce0f44ebf92a873627afe6c3a",
            "c01102c6e8c94beb8eb5fff00ab4f3c7",
            "e10cd9c48ea14d90bdcd9de9a836be46",
            "2c3edb7e0ae04b6aa7da8a6930c4e463",
            "2695d6396f4e438a96b2939ca521c9f8",
            "1337810a24924c2a924d5f4d98a499a3",
            "b9c87b19d6eb410b9a9bf673216d156f",
            "d09ae9a6f1aa4b9fb059ff35994ca33c",
            "6ba28e56fb92456ab34035e4bba6a374",
            "c09c5476238646da97d531f646948fbd",
            "f417cc1d472e4fbc959e2195620c2453",
            "dfe1389acce94cfd800cc849e0577a0d",
            "4edcbc16dead428ca27dd981ecdec8a4",
            "0394344e5e7542b4a4e308e3ff2eda12",
            "c5c91102c01a4e03ac1414d8f0a2c2c4",
            "a33d4cc9459648899f36d38821a6904b",
            "48b75720caa84f7f9cdad4d406e460c2",
            "cf63ebe0c5464de4a2518245fe9fe87d",
            "779c662419294b01ba6e321ab8d8ecfe",
            "8cbfaaf4e210478d8d84f4679a5eb6e6",
            "1c9143304e3149fbbc67c06c4f709038",
            "7796b6ca14bd47a0be7846fbb2d93971",
            "3b021fefe5014f58b2622db961f9108c",
            "149b55cf537a4d2898efb72bfd48f817",
            "ac9c220c024c4cb79856a3a7ea621161",
            "472dd08dbba64a9f9040c211d758dafa",
            "1e68589fbf244a7bb98dcf33f3d59c76",
            "b137fc55ae5b4beb8b8f63adc442c867",
            "fb1a4223acb743f1a56ec1292425e728",
            "fcbd197418634d978169b569731b3f4c",
            "e5a05f153d3645c9912f0ed32b639d41",
            "809cda20aff24cf3b1c4514e15dc7819",
            "b99d3d8ef5b84e96a0bb515027a24fd0",
            "94e2a732807a407b8d491758a2491c52"
          ]
        },
        "id": "QkeM08CkOoAC",
        "outputId": "f2dec3eb-12ee-4756-d5f9-10649cf10339"
      },
      "execution_count": 4,
      "outputs": [
        {
          "output_type": "display_data",
          "data": {
            "application/vnd.jupyter.widget-view+json": {
              "model_id": "73141be2049544a7a08f66706215fa6c",
              "version_minor": 0,
              "version_major": 2
            },
            "text/plain": [
              "Downloading:   0%|          | 0.00/44.0 [00:00<?, ?B/s]"
            ]
          },
          "metadata": {}
        },
        {
          "output_type": "display_data",
          "data": {
            "application/vnd.jupyter.widget-view+json": {
              "model_id": "6f719b62d08344cb8d2aed6222c1fcd1",
              "version_minor": 0,
              "version_major": 2
            },
            "text/plain": [
              "Downloading:   0%|          | 0.00/1.37k [00:00<?, ?B/s]"
            ]
          },
          "metadata": {}
        },
        {
          "output_type": "display_data",
          "data": {
            "application/vnd.jupyter.widget-view+json": {
              "model_id": "c01102c6e8c94beb8eb5fff00ab4f3c7",
              "version_minor": 0,
              "version_major": 2
            },
            "text/plain": [
              "Downloading:   0%|          | 0.00/788k [00:00<?, ?B/s]"
            ]
          },
          "metadata": {}
        },
        {
          "output_type": "display_data",
          "data": {
            "application/vnd.jupyter.widget-view+json": {
              "model_id": "4edcbc16dead428ca27dd981ecdec8a4",
              "version_minor": 0,
              "version_major": 2
            },
            "text/plain": [
              "Downloading:   0%|          | 0.00/786k [00:00<?, ?B/s]"
            ]
          },
          "metadata": {}
        },
        {
          "output_type": "display_data",
          "data": {
            "application/vnd.jupyter.widget-view+json": {
              "model_id": "149b55cf537a4d2898efb72bfd48f817",
              "version_minor": 0,
              "version_major": 2
            },
            "text/plain": [
              "Downloading:   0%|          | 0.00/1.54M [00:00<?, ?B/s]"
            ]
          },
          "metadata": {}
        }
      ]
    },
    {
      "cell_type": "code",
      "source": [
        "tokenizer('hello')"
      ],
      "metadata": {
        "colab": {
          "base_uri": "https://localhost:8080/"
        },
        "id": "psxmESTgm-A0",
        "outputId": "1f4981c3-e66e-4b66-a110-47095460584b"
      },
      "execution_count": 5,
      "outputs": [
        {
          "output_type": "execute_result",
          "data": {
            "text/plain": [
              "{'input_ids': [23675, 0], 'attention_mask': [1, 1]}"
            ]
          },
          "metadata": {},
          "execution_count": 5
        }
      ]
    },
    {
      "cell_type": "code",
      "source": [
        "!pip3 install torch torchvision"
      ],
      "metadata": {
        "colab": {
          "base_uri": "https://localhost:8080/"
        },
        "id": "H-olEwARsYyk",
        "outputId": "aba417ce-a03b-4d8c-9c72-e57ace5689b5"
      },
      "execution_count": 6,
      "outputs": [
        {
          "output_type": "stream",
          "name": "stdout",
          "text": [
            "Requirement already satisfied: torch in /usr/local/lib/python3.7/dist-packages (1.10.0)\n",
            "Requirement already satisfied: torchvision in /usr/local/lib/python3.7/dist-packages (0.11.1)\n",
            "Requirement already satisfied: typing-extensions in /usr/local/lib/python3.7/dist-packages (from torch) (3.10.0.2)\n",
            "Requirement already satisfied: pillow!=8.3.0,>=5.3.0 in /usr/local/lib/python3.7/dist-packages (from torchvision) (7.1.2)\n",
            "Requirement already satisfied: numpy in /usr/local/lib/python3.7/dist-packages (from torchvision) (1.19.5)\n"
          ]
        }
      ]
    },
    {
      "cell_type": "code",
      "source": [
        "medEnTr[:2]"
      ],
      "metadata": {
        "colab": {
          "base_uri": "https://localhost:8080/"
        },
        "id": "fO3l8-ontLd1",
        "outputId": "41ff9553-0f80-46c7-cfb5-738550999854"
      },
      "execution_count": 24,
      "outputs": [
        {
          "output_type": "execute_result",
          "data": {
            "text/plain": [
              "['probably not : analysis suggests minimal effect of HT in maintaining lean body mass .',\n",
              " 'age @-@ related loss of muscle mass ( sarcopenia ) is an important predictor of impaired mobility .']"
            ]
          },
          "metadata": {},
          "execution_count": 24
        }
      ]
    },
    {
      "cell_type": "code",
      "source": [
        "max_input_length = 128\n",
        "max_target_length = 128\n",
        "source_lang = \"en\"\n",
        "target_lang = \"zh\"\n",
        "\n",
        "def preprocess_function(inputs, targets):\n",
        "    # inputs = [prefix + ex[source_lang] for ex in examples[\"translation\"]]\n",
        "    # targets = [ex[target_lang] for ex in examples[\"translation\"]]\n",
        "    model_inputs = tokenizer(inputs, max_length=max_input_length, truncation=True)\n",
        "\n",
        "    # Setup the tokenizer for targets\n",
        "    with tokenizer.as_target_tokenizer():\n",
        "        labels = tokenizer(targets, max_length=max_target_length, truncation=True)\n",
        "\n",
        "    model_inputs[\"labels\"] = labels[\"input_ids\"]\n",
        "    return model_inputs"
      ],
      "metadata": {
        "id": "uo6Sg5E_n0j_"
      },
      "execution_count": 6,
      "outputs": []
    },
    {
      "cell_type": "code",
      "source": [
        "\n",
        "import torch\n",
        "# Create torch dataset\n",
        "class Dataset(torch.utils.data.Dataset):\n",
        "    def __init__(self, inputs):\n",
        "        self.inputs = inputs['input_ids']\n",
        "        self.targets = inputs['labels']\n",
        "        self.mask = inputs['attention_mask']\n",
        "\n",
        "    # def __getitem__(self, idx):\n",
        "    #     item = {key: torch.tensor(val[idx]) for key, val in self.encodings.items()}\n",
        "    #     item['labels'] = torch.tensor(self.labels[idx])\n",
        "    #     return item\n",
        "\n",
        "    def __len__(self):\n",
        "        return len(self.targets) \n",
        "\n",
        "    def __getitem__(self, index):\n",
        "        input_ids = torch.tensor(self.inputs[index]).squeeze()\n",
        "        target_ids = torch.tensor(self.targets[index]).squeeze()\n",
        "        mask_ids = torch.tensor(self.mask[index]).squeeze()\n",
        "        \n",
        "        return {\"input_ids\": input_ids, \"labels\": target_ids, 'attention_mask':mask_ids}\n",
        "\n",
        "# tokenized_datasets = preprocess_function(medEnTr[:100], medZhTr[:100])\n",
        "tokenized_datasets = preprocess_function(medEnTr, medZhTr)\n",
        "TrainDf = Dataset(tokenized_datasets)\n",
        "\n",
        "ValDf = Dataset(preprocess_function(medEnVal, medZhVal))\n",
        "\n",
        "TestDf = Dataset(preprocess_function(medEnTest, medZhTest))\n",
        "# training_set = Dataset(X_train_tokenized, y_train_tokenized)\n",
        "# validation_set = Dataset(X_val_tokenized, y_val_tokenized)"
      ],
      "metadata": {
        "id": "0Pt3OX3SydOi"
      },
      "execution_count": 19,
      "outputs": []
    },
    {
      "cell_type": "code",
      "source": [
        "# tokenized_datasets = raw_datasets.map(preprocess_function, batched=True)\n",
        "# tokenized_datasets = preprocess_function(medEnTr[:100], medZhTr[:100])"
      ],
      "metadata": {
        "id": "tS9yMkcDqQt_"
      },
      "execution_count": 54,
      "outputs": []
    },
    {
      "cell_type": "code",
      "source": [
        "preprocess_function(medEnTr[:2], medZhTr[:2])"
      ],
      "metadata": {
        "colab": {
          "base_uri": "https://localhost:8080/"
        },
        "id": "HjO9Pjl-xfOg",
        "outputId": "c62d75a8-395b-4780-f952-ab4597063325"
      },
      "execution_count": 40,
      "outputs": [
        {
          "output_type": "execute_result",
          "data": {
            "text/plain": [
              "{'input_ids': [[5961, 56, 8, 37, 1550, 11931, 22602, 1766, 4, 1541, 1582, 11, 5119, 44083, 1669, 3196, 8, 6, 0], [1557, 8, 3376, 16, 3376, 465, 2686, 4, 42731, 3196, 22, 98, 2725, 149, 38435, 5097, 8, 17, 32, 59, 435, 30222, 695, 4, 37399, 9608, 8, 6, 0]], 'attention_mask': [[1, 1, 1, 1, 1, 1, 1, 1, 1, 1, 1, 1, 1, 1, 1, 1, 1, 1, 1], [1, 1, 1, 1, 1, 1, 1, 1, 1, 1, 1, 1, 1, 1, 1, 1, 1, 1, 1, 1, 1, 1, 1, 1, 1, 1, 1, 1, 1]], 'labels': [[7057, 10373, 8, 37, 8, 1390, 12363, 8, 33392, 8, 16334, 9019, 8, 24383, 106, 8, 2039, 4734, 8, 33164, 8, 26456, 8, 199, 8, 1402, 8, 21767, 8, 6, 0], [8, 67, 8, 22249, 2554, 8, 1189, 8, 12, 8, 42544, 8, 42508, 13859, 1098, 8, 295, 8, 848, 8, 3940, 8, 12, 8, 1729, 8, 5160, 8, 2068, 8, 6, 0]]}"
            ]
          },
          "metadata": {},
          "execution_count": 40
        }
      ]
    },
    {
      "cell_type": "code",
      "source": [
        "from transformers import AutoModelForSeq2SeqLM, DataCollatorForSeq2Seq, Seq2SeqTrainingArguments, Seq2SeqTrainer\n",
        "\n",
        "model = AutoModelForSeq2SeqLM.from_pretrained(model_checkpoint)"
      ],
      "metadata": {
        "colab": {
          "base_uri": "https://localhost:8080/",
          "height": 0,
          "referenced_widgets": [
            "38bcd30dc0444a728a9fcd53cfbb79c5",
            "8fe5346b67dc45ccacf7dfee1d9d0ae3",
            "cc0a3c1b2238452ca2bd89ad73241ad8",
            "3eb0bce68af34b3f857b72a28eeee8e2",
            "04c2de6f57364a2d92a1279e0aa2eab4",
            "be45a7cf363f4ad8b70387d54bfeb568",
            "1b3e89c7dd274685b76aab1879975852",
            "855bcfd8fee143a1b7329582d9edaf5f",
            "369cb25120014cbeb1f0367bd082665a",
            "159bbef2c2884746a8078ef607df31c2",
            "a4ffe7bcd5864a3485f4da6d0b7c9f28"
          ]
        },
        "id": "8oomRne7oNtd",
        "outputId": "c52cced7-28ee-42ec-bf6d-f5581ccb3ed1"
      },
      "execution_count": 8,
      "outputs": [
        {
          "output_type": "display_data",
          "data": {
            "application/vnd.jupyter.widget-view+json": {
              "model_id": "38bcd30dc0444a728a9fcd53cfbb79c5",
              "version_minor": 0,
              "version_major": 2
            },
            "text/plain": [
              "Downloading:   0%|          | 0.00/298M [00:00<?, ?B/s]"
            ]
          },
          "metadata": {}
        }
      ]
    },
    {
      "cell_type": "code",
      "source": [
        "batch_size = 16\n",
        "model_name = model_checkpoint.split(\"/\")[-1]\n",
        "args = Seq2SeqTrainingArguments(\n",
        "    f\"{model_name}-finetuned-{source_lang}-to-{target_lang}\",\n",
        "    evaluation_strategy = \"epoch\",\n",
        "    learning_rate=2e-5,\n",
        "    per_device_train_batch_size=batch_size,\n",
        "    per_device_eval_batch_size=batch_size,\n",
        "    weight_decay=0.01,\n",
        "    save_total_limit=3,\n",
        "    num_train_epochs=5,\n",
        "    predict_with_generate=True,\n",
        "    # fp16=True,\n",
        "    push_to_hub=True,\n",
        ")"
      ],
      "metadata": {
        "colab": {
          "base_uri": "https://localhost:8080/"
        },
        "id": "bMiWu0pnoNwU",
        "outputId": "e51e4c63-e12c-4cbf-f69d-2eb1f07b9600"
      },
      "execution_count": 23,
      "outputs": [
        {
          "output_type": "stream",
          "name": "stderr",
          "text": [
            "PyTorch: setting up devices\n",
            "The default value for the training argument `--report_to` will change in v5 (from all installed integrations to none). In v5, you will need to use `--report_to all` to get the same behavior as now. You should start updating your code and make this info disappear :-).\n"
          ]
        }
      ]
    },
    {
      "cell_type": "code",
      "source": [
        "data_collator = DataCollatorForSeq2Seq(tokenizer, model=model)"
      ],
      "metadata": {
        "id": "xi_dhbHeoNyv"
      },
      "execution_count": 21,
      "outputs": []
    },
    {
      "cell_type": "code",
      "source": [
        "import numpy as np\n",
        "\n",
        "metric = load_metric(\"sacrebleu\")\n",
        "\n",
        "def postprocess_text(preds, labels):\n",
        "    preds = [pred.strip() for pred in preds]\n",
        "    labels = [[label.strip()] for label in labels]\n",
        "\n",
        "    return preds, labels\n",
        "\n",
        "def compute_metrics(eval_preds):\n",
        "    preds, labels = eval_preds\n",
        "    if isinstance(preds, tuple):\n",
        "        preds = preds[0]\n",
        "    decoded_preds = tokenizer.batch_decode(preds, skip_special_tokens=True)\n",
        "\n",
        "    # Replace -100 in the labels as we can't decode them.\n",
        "    labels = np.where(labels != -100, labels, tokenizer.pad_token_id)\n",
        "    decoded_labels = tokenizer.batch_decode(labels, skip_special_tokens=True)\n",
        "\n",
        "    # Some simple post-processing\n",
        "    decoded_preds, decoded_labels = postprocess_text(decoded_preds, decoded_labels)\n",
        "\n",
        "    result = metric.compute(predictions=decoded_preds, references=decoded_labels)\n",
        "    result = {\"bleu\": result[\"score\"]}\n",
        "\n",
        "    prediction_lens = [np.count_nonzero(pred != tokenizer.pad_token_id) for pred in preds]\n",
        "    result[\"gen_len\"] = np.mean(prediction_lens)\n",
        "    result = {k: round(v, 4) for k, v in result.items()}\n",
        "    return result"
      ],
      "metadata": {
        "id": "i0fIFMpEtuoS"
      },
      "execution_count": 22,
      "outputs": []
    },
    {
      "cell_type": "code",
      "source": [
        "# "
      ],
      "metadata": {
        "id": "lQfWXd3Hu_IB"
      },
      "execution_count": 12,
      "outputs": []
    },
    {
      "cell_type": "code",
      "source": [
        "# !git clone https://github.com/NVIDIA/apex\n",
        "# !cd apex\n",
        "# !pip install -v --disable-pip-version-check --no-cache-dir --global-option=\"--cpp_ext\" --global-option=\"--cuda_ext\" ./"
      ],
      "metadata": {
        "id": "R3EO6yCzvlUO"
      },
      "execution_count": 13,
      "outputs": []
    },
    {
      "cell_type": "code",
      "source": [
        "# medEnTr,medZhTr\n",
        "from datasets import load_dataset, load_metric\n",
        "import numpy as np\n",
        "\n",
        "trainer = Seq2SeqTrainer(\n",
        "    model,\n",
        "    args,\n",
        "    train_dataset=TrainDf,\n",
        "    eval_dataset=ValDf,\n",
        "    data_collator=data_collator,\n",
        "    tokenizer=tokenizer,\n",
        "    compute_metrics=compute_metrics\n",
        ")"
      ],
      "metadata": {
        "id": "aedYVSlnoe-d"
      },
      "execution_count": 26,
      "outputs": []
    },
    {
      "cell_type": "code",
      "source": [
        "trainer.train()"
      ],
      "metadata": {
        "colab": {
          "base_uri": "https://localhost:8080/",
          "height": 0
        },
        "id": "r9ctLAhno0D8",
        "outputId": "85677d2d-2bd6-44b6-f526-3e770fe234e1"
      },
      "execution_count": 27,
      "outputs": [
        {
          "metadata": {
            "tags": null
          },
          "name": "stderr",
          "output_type": "stream",
          "text": [
            "/usr/local/lib/python3.7/dist-packages/transformers/optimization.py:309: FutureWarning: This implementation of AdamW is deprecated and will be removed in a future version. Use thePyTorch implementation torch.optim.AdamW instead, or set `no_deprecation_warning=True` to disable this warning\n",
            "  FutureWarning,\n",
            "***** Running training *****\n",
            "  Num examples = 62127\n",
            "  Num Epochs = 5\n",
            "  Instantaneous batch size per device = 16\n",
            "  Total train batch size (w. parallel, distributed & accumulation) = 16\n",
            "  Gradient Accumulation steps = 1\n",
            "  Total optimization steps = 19415\n"
          ]
        },
        {
          "data": {
            "text/html": [
              "\n",
              "    <div>\n",
              "      \n",
              "      <progress value='15434' max='19415' style='width:300px; height:20px; vertical-align: middle;'></progress>\n",
              "      [15434/19415 1:38:50 < 25:29, 2.60 it/s, Epoch 3.97/5]\n",
              "    </div>\n",
              "    <table border=\"1\" class=\"dataframe\">\n",
              "  <thead>\n",
              " <tr style=\"text-align: left;\">\n",
              "      <th>Epoch</th>\n",
              "      <th>Training Loss</th>\n",
              "      <th>Validation Loss</th>\n",
              "      <th>Bleu</th>\n",
              "      <th>Gen Len</th>\n",
              "    </tr>\n",
              "  </thead>\n",
              "  <tbody>\n",
              "    <tr>\n",
              "      <td>1</td>\n",
              "      <td>0.782700</td>\n",
              "      <td>0.739322</td>\n",
              "      <td>40.617300</td>\n",
              "      <td>60.361500</td>\n",
              "    </tr>\n",
              "    <tr>\n",
              "      <td>2</td>\n",
              "      <td>0.664700</td>\n",
              "      <td>0.679100</td>\n",
              "      <td>42.595000</td>\n",
              "      <td>60.337400</td>\n",
              "    </tr>\n",
              "    <tr>\n",
              "      <td>3</td>\n",
              "      <td>0.604200</td>\n",
              "      <td>0.651756</td>\n",
              "      <td>43.188200</td>\n",
              "      <td>59.963700</td>\n",
              "    </tr>\n",
              "  </tbody>\n",
              "</table><p>"
            ],
            "text/plain": [
              "<IPython.core.display.HTML object>"
            ]
          },
          "metadata": {},
          "output_type": "display_data"
        },
        {
          "metadata": {
            "tags": null
          },
          "name": "stderr",
          "output_type": "stream",
          "text": [
            "Saving model checkpoint to opus-mt-en-zh-finetuned-en-to-zh/checkpoint-500\n",
            "Configuration saved in opus-mt-en-zh-finetuned-en-to-zh/checkpoint-500/config.json\n",
            "Model weights saved in opus-mt-en-zh-finetuned-en-to-zh/checkpoint-500/pytorch_model.bin\n",
            "tokenizer config file saved in opus-mt-en-zh-finetuned-en-to-zh/checkpoint-500/tokenizer_config.json\n",
            "Special tokens file saved in opus-mt-en-zh-finetuned-en-to-zh/checkpoint-500/special_tokens_map.json\n",
            "Saving model checkpoint to opus-mt-en-zh-finetuned-en-to-zh/checkpoint-1000\n",
            "Configuration saved in opus-mt-en-zh-finetuned-en-to-zh/checkpoint-1000/config.json\n",
            "Model weights saved in opus-mt-en-zh-finetuned-en-to-zh/checkpoint-1000/pytorch_model.bin\n",
            "tokenizer config file saved in opus-mt-en-zh-finetuned-en-to-zh/checkpoint-1000/tokenizer_config.json\n",
            "Special tokens file saved in opus-mt-en-zh-finetuned-en-to-zh/checkpoint-1000/special_tokens_map.json\n",
            "Saving model checkpoint to opus-mt-en-zh-finetuned-en-to-zh/checkpoint-1500\n",
            "Configuration saved in opus-mt-en-zh-finetuned-en-to-zh/checkpoint-1500/config.json\n",
            "Model weights saved in opus-mt-en-zh-finetuned-en-to-zh/checkpoint-1500/pytorch_model.bin\n",
            "tokenizer config file saved in opus-mt-en-zh-finetuned-en-to-zh/checkpoint-1500/tokenizer_config.json\n",
            "Special tokens file saved in opus-mt-en-zh-finetuned-en-to-zh/checkpoint-1500/special_tokens_map.json\n",
            "Saving model checkpoint to opus-mt-en-zh-finetuned-en-to-zh/checkpoint-2000\n",
            "Configuration saved in opus-mt-en-zh-finetuned-en-to-zh/checkpoint-2000/config.json\n",
            "Model weights saved in opus-mt-en-zh-finetuned-en-to-zh/checkpoint-2000/pytorch_model.bin\n",
            "tokenizer config file saved in opus-mt-en-zh-finetuned-en-to-zh/checkpoint-2000/tokenizer_config.json\n",
            "Special tokens file saved in opus-mt-en-zh-finetuned-en-to-zh/checkpoint-2000/special_tokens_map.json\n",
            "Deleting older checkpoint [opus-mt-en-zh-finetuned-en-to-zh/checkpoint-500] due to args.save_total_limit\n",
            "Saving model checkpoint to opus-mt-en-zh-finetuned-en-to-zh/checkpoint-2500\n",
            "Configuration saved in opus-mt-en-zh-finetuned-en-to-zh/checkpoint-2500/config.json\n",
            "Model weights saved in opus-mt-en-zh-finetuned-en-to-zh/checkpoint-2500/pytorch_model.bin\n",
            "tokenizer config file saved in opus-mt-en-zh-finetuned-en-to-zh/checkpoint-2500/tokenizer_config.json\n",
            "Special tokens file saved in opus-mt-en-zh-finetuned-en-to-zh/checkpoint-2500/special_tokens_map.json\n",
            "Deleting older checkpoint [opus-mt-en-zh-finetuned-en-to-zh/checkpoint-1000] due to args.save_total_limit\n",
            "Saving model checkpoint to opus-mt-en-zh-finetuned-en-to-zh/checkpoint-3000\n",
            "Configuration saved in opus-mt-en-zh-finetuned-en-to-zh/checkpoint-3000/config.json\n",
            "Model weights saved in opus-mt-en-zh-finetuned-en-to-zh/checkpoint-3000/pytorch_model.bin\n",
            "tokenizer config file saved in opus-mt-en-zh-finetuned-en-to-zh/checkpoint-3000/tokenizer_config.json\n",
            "Special tokens file saved in opus-mt-en-zh-finetuned-en-to-zh/checkpoint-3000/special_tokens_map.json\n",
            "Deleting older checkpoint [opus-mt-en-zh-finetuned-en-to-zh/checkpoint-1500] due to args.save_total_limit\n",
            "Saving model checkpoint to opus-mt-en-zh-finetuned-en-to-zh/checkpoint-3500\n",
            "Configuration saved in opus-mt-en-zh-finetuned-en-to-zh/checkpoint-3500/config.json\n",
            "Model weights saved in opus-mt-en-zh-finetuned-en-to-zh/checkpoint-3500/pytorch_model.bin\n",
            "tokenizer config file saved in opus-mt-en-zh-finetuned-en-to-zh/checkpoint-3500/tokenizer_config.json\n",
            "Special tokens file saved in opus-mt-en-zh-finetuned-en-to-zh/checkpoint-3500/special_tokens_map.json\n",
            "Deleting older checkpoint [opus-mt-en-zh-finetuned-en-to-zh/checkpoint-2000] due to args.save_total_limit\n",
            "***** Running Evaluation *****\n",
            "  Num examples = 2036\n",
            "  Batch size = 16\n",
            "Saving model checkpoint to opus-mt-en-zh-finetuned-en-to-zh/checkpoint-4000\n",
            "Configuration saved in opus-mt-en-zh-finetuned-en-to-zh/checkpoint-4000/config.json\n",
            "Model weights saved in opus-mt-en-zh-finetuned-en-to-zh/checkpoint-4000/pytorch_model.bin\n",
            "tokenizer config file saved in opus-mt-en-zh-finetuned-en-to-zh/checkpoint-4000/tokenizer_config.json\n",
            "Special tokens file saved in opus-mt-en-zh-finetuned-en-to-zh/checkpoint-4000/special_tokens_map.json\n",
            "Deleting older checkpoint [opus-mt-en-zh-finetuned-en-to-zh/checkpoint-2500] due to args.save_total_limit\n",
            "Saving model checkpoint to opus-mt-en-zh-finetuned-en-to-zh/checkpoint-4500\n",
            "Configuration saved in opus-mt-en-zh-finetuned-en-to-zh/checkpoint-4500/config.json\n",
            "Model weights saved in opus-mt-en-zh-finetuned-en-to-zh/checkpoint-4500/pytorch_model.bin\n",
            "tokenizer config file saved in opus-mt-en-zh-finetuned-en-to-zh/checkpoint-4500/tokenizer_config.json\n",
            "Special tokens file saved in opus-mt-en-zh-finetuned-en-to-zh/checkpoint-4500/special_tokens_map.json\n",
            "Deleting older checkpoint [opus-mt-en-zh-finetuned-en-to-zh/checkpoint-3000] due to args.save_total_limit\n",
            "Saving model checkpoint to opus-mt-en-zh-finetuned-en-to-zh/checkpoint-5000\n",
            "Configuration saved in opus-mt-en-zh-finetuned-en-to-zh/checkpoint-5000/config.json\n",
            "Model weights saved in opus-mt-en-zh-finetuned-en-to-zh/checkpoint-5000/pytorch_model.bin\n",
            "tokenizer config file saved in opus-mt-en-zh-finetuned-en-to-zh/checkpoint-5000/tokenizer_config.json\n",
            "Special tokens file saved in opus-mt-en-zh-finetuned-en-to-zh/checkpoint-5000/special_tokens_map.json\n",
            "Deleting older checkpoint [opus-mt-en-zh-finetuned-en-to-zh/checkpoint-3500] due to args.save_total_limit\n",
            "Saving model checkpoint to opus-mt-en-zh-finetuned-en-to-zh/checkpoint-5500\n",
            "Configuration saved in opus-mt-en-zh-finetuned-en-to-zh/checkpoint-5500/config.json\n",
            "Model weights saved in opus-mt-en-zh-finetuned-en-to-zh/checkpoint-5500/pytorch_model.bin\n",
            "tokenizer config file saved in opus-mt-en-zh-finetuned-en-to-zh/checkpoint-5500/tokenizer_config.json\n",
            "Special tokens file saved in opus-mt-en-zh-finetuned-en-to-zh/checkpoint-5500/special_tokens_map.json\n",
            "Deleting older checkpoint [opus-mt-en-zh-finetuned-en-to-zh/checkpoint-4000] due to args.save_total_limit\n",
            "Saving model checkpoint to opus-mt-en-zh-finetuned-en-to-zh/checkpoint-6000\n",
            "Configuration saved in opus-mt-en-zh-finetuned-en-to-zh/checkpoint-6000/config.json\n",
            "Model weights saved in opus-mt-en-zh-finetuned-en-to-zh/checkpoint-6000/pytorch_model.bin\n",
            "tokenizer config file saved in opus-mt-en-zh-finetuned-en-to-zh/checkpoint-6000/tokenizer_config.json\n",
            "Special tokens file saved in opus-mt-en-zh-finetuned-en-to-zh/checkpoint-6000/special_tokens_map.json\n",
            "Deleting older checkpoint [opus-mt-en-zh-finetuned-en-to-zh/checkpoint-4500] due to args.save_total_limit\n",
            "Saving model checkpoint to opus-mt-en-zh-finetuned-en-to-zh/checkpoint-6500\n",
            "Configuration saved in opus-mt-en-zh-finetuned-en-to-zh/checkpoint-6500/config.json\n",
            "Model weights saved in opus-mt-en-zh-finetuned-en-to-zh/checkpoint-6500/pytorch_model.bin\n",
            "tokenizer config file saved in opus-mt-en-zh-finetuned-en-to-zh/checkpoint-6500/tokenizer_config.json\n",
            "Special tokens file saved in opus-mt-en-zh-finetuned-en-to-zh/checkpoint-6500/special_tokens_map.json\n",
            "Deleting older checkpoint [opus-mt-en-zh-finetuned-en-to-zh/checkpoint-5000] due to args.save_total_limit\n",
            "Saving model checkpoint to opus-mt-en-zh-finetuned-en-to-zh/checkpoint-7000\n",
            "Configuration saved in opus-mt-en-zh-finetuned-en-to-zh/checkpoint-7000/config.json\n",
            "Model weights saved in opus-mt-en-zh-finetuned-en-to-zh/checkpoint-7000/pytorch_model.bin\n",
            "tokenizer config file saved in opus-mt-en-zh-finetuned-en-to-zh/checkpoint-7000/tokenizer_config.json\n",
            "Special tokens file saved in opus-mt-en-zh-finetuned-en-to-zh/checkpoint-7000/special_tokens_map.json\n",
            "Deleting older checkpoint [opus-mt-en-zh-finetuned-en-to-zh/checkpoint-5500] due to args.save_total_limit\n",
            "Saving model checkpoint to opus-mt-en-zh-finetuned-en-to-zh/checkpoint-7500\n",
            "Configuration saved in opus-mt-en-zh-finetuned-en-to-zh/checkpoint-7500/config.json\n",
            "Model weights saved in opus-mt-en-zh-finetuned-en-to-zh/checkpoint-7500/pytorch_model.bin\n",
            "tokenizer config file saved in opus-mt-en-zh-finetuned-en-to-zh/checkpoint-7500/tokenizer_config.json\n",
            "Special tokens file saved in opus-mt-en-zh-finetuned-en-to-zh/checkpoint-7500/special_tokens_map.json\n",
            "Deleting older checkpoint [opus-mt-en-zh-finetuned-en-to-zh/checkpoint-6000] due to args.save_total_limit\n",
            "***** Running Evaluation *****\n",
            "  Num examples = 2036\n",
            "  Batch size = 16\n",
            "Saving model checkpoint to opus-mt-en-zh-finetuned-en-to-zh/checkpoint-8000\n",
            "Configuration saved in opus-mt-en-zh-finetuned-en-to-zh/checkpoint-8000/config.json\n",
            "Model weights saved in opus-mt-en-zh-finetuned-en-to-zh/checkpoint-8000/pytorch_model.bin\n",
            "tokenizer config file saved in opus-mt-en-zh-finetuned-en-to-zh/checkpoint-8000/tokenizer_config.json\n",
            "Special tokens file saved in opus-mt-en-zh-finetuned-en-to-zh/checkpoint-8000/special_tokens_map.json\n",
            "Deleting older checkpoint [opus-mt-en-zh-finetuned-en-to-zh/checkpoint-6500] due to args.save_total_limit\n",
            "Saving model checkpoint to opus-mt-en-zh-finetuned-en-to-zh/checkpoint-8500\n",
            "Configuration saved in opus-mt-en-zh-finetuned-en-to-zh/checkpoint-8500/config.json\n",
            "Model weights saved in opus-mt-en-zh-finetuned-en-to-zh/checkpoint-8500/pytorch_model.bin\n",
            "tokenizer config file saved in opus-mt-en-zh-finetuned-en-to-zh/checkpoint-8500/tokenizer_config.json\n",
            "Special tokens file saved in opus-mt-en-zh-finetuned-en-to-zh/checkpoint-8500/special_tokens_map.json\n",
            "Deleting older checkpoint [opus-mt-en-zh-finetuned-en-to-zh/checkpoint-7000] due to args.save_total_limit\n",
            "Saving model checkpoint to opus-mt-en-zh-finetuned-en-to-zh/checkpoint-9000\n",
            "Configuration saved in opus-mt-en-zh-finetuned-en-to-zh/checkpoint-9000/config.json\n",
            "Model weights saved in opus-mt-en-zh-finetuned-en-to-zh/checkpoint-9000/pytorch_model.bin\n",
            "tokenizer config file saved in opus-mt-en-zh-finetuned-en-to-zh/checkpoint-9000/tokenizer_config.json\n",
            "Special tokens file saved in opus-mt-en-zh-finetuned-en-to-zh/checkpoint-9000/special_tokens_map.json\n",
            "Deleting older checkpoint [opus-mt-en-zh-finetuned-en-to-zh/checkpoint-7500] due to args.save_total_limit\n",
            "Saving model checkpoint to opus-mt-en-zh-finetuned-en-to-zh/checkpoint-9500\n",
            "Configuration saved in opus-mt-en-zh-finetuned-en-to-zh/checkpoint-9500/config.json\n",
            "Model weights saved in opus-mt-en-zh-finetuned-en-to-zh/checkpoint-9500/pytorch_model.bin\n",
            "tokenizer config file saved in opus-mt-en-zh-finetuned-en-to-zh/checkpoint-9500/tokenizer_config.json\n",
            "Special tokens file saved in opus-mt-en-zh-finetuned-en-to-zh/checkpoint-9500/special_tokens_map.json\n",
            "Deleting older checkpoint [opus-mt-en-zh-finetuned-en-to-zh/checkpoint-8000] due to args.save_total_limit\n",
            "Saving model checkpoint to opus-mt-en-zh-finetuned-en-to-zh/checkpoint-10000\n",
            "Configuration saved in opus-mt-en-zh-finetuned-en-to-zh/checkpoint-10000/config.json\n",
            "Model weights saved in opus-mt-en-zh-finetuned-en-to-zh/checkpoint-10000/pytorch_model.bin\n",
            "tokenizer config file saved in opus-mt-en-zh-finetuned-en-to-zh/checkpoint-10000/tokenizer_config.json\n",
            "Special tokens file saved in opus-mt-en-zh-finetuned-en-to-zh/checkpoint-10000/special_tokens_map.json\n",
            "Deleting older checkpoint [opus-mt-en-zh-finetuned-en-to-zh/checkpoint-8500] due to args.save_total_limit\n",
            "Saving model checkpoint to opus-mt-en-zh-finetuned-en-to-zh/checkpoint-10500\n",
            "Configuration saved in opus-mt-en-zh-finetuned-en-to-zh/checkpoint-10500/config.json\n",
            "Model weights saved in opus-mt-en-zh-finetuned-en-to-zh/checkpoint-10500/pytorch_model.bin\n",
            "tokenizer config file saved in opus-mt-en-zh-finetuned-en-to-zh/checkpoint-10500/tokenizer_config.json\n",
            "Special tokens file saved in opus-mt-en-zh-finetuned-en-to-zh/checkpoint-10500/special_tokens_map.json\n",
            "Deleting older checkpoint [opus-mt-en-zh-finetuned-en-to-zh/checkpoint-9000] due to args.save_total_limit\n",
            "Saving model checkpoint to opus-mt-en-zh-finetuned-en-to-zh/checkpoint-11000\n",
            "Configuration saved in opus-mt-en-zh-finetuned-en-to-zh/checkpoint-11000/config.json\n",
            "Model weights saved in opus-mt-en-zh-finetuned-en-to-zh/checkpoint-11000/pytorch_model.bin\n",
            "tokenizer config file saved in opus-mt-en-zh-finetuned-en-to-zh/checkpoint-11000/tokenizer_config.json\n",
            "Special tokens file saved in opus-mt-en-zh-finetuned-en-to-zh/checkpoint-11000/special_tokens_map.json\n",
            "Deleting older checkpoint [opus-mt-en-zh-finetuned-en-to-zh/checkpoint-9500] due to args.save_total_limit\n",
            "Saving model checkpoint to opus-mt-en-zh-finetuned-en-to-zh/checkpoint-11500\n",
            "Configuration saved in opus-mt-en-zh-finetuned-en-to-zh/checkpoint-11500/config.json\n",
            "Model weights saved in opus-mt-en-zh-finetuned-en-to-zh/checkpoint-11500/pytorch_model.bin\n",
            "tokenizer config file saved in opus-mt-en-zh-finetuned-en-to-zh/checkpoint-11500/tokenizer_config.json\n",
            "Special tokens file saved in opus-mt-en-zh-finetuned-en-to-zh/checkpoint-11500/special_tokens_map.json\n",
            "Deleting older checkpoint [opus-mt-en-zh-finetuned-en-to-zh/checkpoint-10000] due to args.save_total_limit\n",
            "***** Running Evaluation *****\n",
            "  Num examples = 2036\n",
            "  Batch size = 16\n",
            "Saving model checkpoint to opus-mt-en-zh-finetuned-en-to-zh/checkpoint-12000\n",
            "Configuration saved in opus-mt-en-zh-finetuned-en-to-zh/checkpoint-12000/config.json\n",
            "Model weights saved in opus-mt-en-zh-finetuned-en-to-zh/checkpoint-12000/pytorch_model.bin\n",
            "tokenizer config file saved in opus-mt-en-zh-finetuned-en-to-zh/checkpoint-12000/tokenizer_config.json\n",
            "Special tokens file saved in opus-mt-en-zh-finetuned-en-to-zh/checkpoint-12000/special_tokens_map.json\n",
            "Deleting older checkpoint [opus-mt-en-zh-finetuned-en-to-zh/checkpoint-10500] due to args.save_total_limit\n",
            "Saving model checkpoint to opus-mt-en-zh-finetuned-en-to-zh/checkpoint-12500\n",
            "Configuration saved in opus-mt-en-zh-finetuned-en-to-zh/checkpoint-12500/config.json\n",
            "Model weights saved in opus-mt-en-zh-finetuned-en-to-zh/checkpoint-12500/pytorch_model.bin\n",
            "tokenizer config file saved in opus-mt-en-zh-finetuned-en-to-zh/checkpoint-12500/tokenizer_config.json\n",
            "Special tokens file saved in opus-mt-en-zh-finetuned-en-to-zh/checkpoint-12500/special_tokens_map.json\n",
            "Deleting older checkpoint [opus-mt-en-zh-finetuned-en-to-zh/checkpoint-11000] due to args.save_total_limit\n",
            "Saving model checkpoint to opus-mt-en-zh-finetuned-en-to-zh/checkpoint-13000\n",
            "Configuration saved in opus-mt-en-zh-finetuned-en-to-zh/checkpoint-13000/config.json\n",
            "Model weights saved in opus-mt-en-zh-finetuned-en-to-zh/checkpoint-13000/pytorch_model.bin\n",
            "tokenizer config file saved in opus-mt-en-zh-finetuned-en-to-zh/checkpoint-13000/tokenizer_config.json\n",
            "Special tokens file saved in opus-mt-en-zh-finetuned-en-to-zh/checkpoint-13000/special_tokens_map.json\n",
            "Deleting older checkpoint [opus-mt-en-zh-finetuned-en-to-zh/checkpoint-11500] due to args.save_total_limit\n",
            "Saving model checkpoint to opus-mt-en-zh-finetuned-en-to-zh/checkpoint-13500\n",
            "Configuration saved in opus-mt-en-zh-finetuned-en-to-zh/checkpoint-13500/config.json\n",
            "Model weights saved in opus-mt-en-zh-finetuned-en-to-zh/checkpoint-13500/pytorch_model.bin\n",
            "tokenizer config file saved in opus-mt-en-zh-finetuned-en-to-zh/checkpoint-13500/tokenizer_config.json\n",
            "Special tokens file saved in opus-mt-en-zh-finetuned-en-to-zh/checkpoint-13500/special_tokens_map.json\n",
            "Deleting older checkpoint [opus-mt-en-zh-finetuned-en-to-zh/checkpoint-12000] due to args.save_total_limit\n",
            "Saving model checkpoint to opus-mt-en-zh-finetuned-en-to-zh/checkpoint-14000\n",
            "Configuration saved in opus-mt-en-zh-finetuned-en-to-zh/checkpoint-14000/config.json\n",
            "Model weights saved in opus-mt-en-zh-finetuned-en-to-zh/checkpoint-14000/pytorch_model.bin\n",
            "tokenizer config file saved in opus-mt-en-zh-finetuned-en-to-zh/checkpoint-14000/tokenizer_config.json\n",
            "Special tokens file saved in opus-mt-en-zh-finetuned-en-to-zh/checkpoint-14000/special_tokens_map.json\n",
            "Deleting older checkpoint [opus-mt-en-zh-finetuned-en-to-zh/checkpoint-12500] due to args.save_total_limit\n",
            "Saving model checkpoint to opus-mt-en-zh-finetuned-en-to-zh/checkpoint-14500\n",
            "Configuration saved in opus-mt-en-zh-finetuned-en-to-zh/checkpoint-14500/config.json\n",
            "Model weights saved in opus-mt-en-zh-finetuned-en-to-zh/checkpoint-14500/pytorch_model.bin\n",
            "tokenizer config file saved in opus-mt-en-zh-finetuned-en-to-zh/checkpoint-14500/tokenizer_config.json\n",
            "Special tokens file saved in opus-mt-en-zh-finetuned-en-to-zh/checkpoint-14500/special_tokens_map.json\n",
            "Deleting older checkpoint [opus-mt-en-zh-finetuned-en-to-zh/checkpoint-13000] due to args.save_total_limit\n",
            "Saving model checkpoint to opus-mt-en-zh-finetuned-en-to-zh/checkpoint-15000\n",
            "Configuration saved in opus-mt-en-zh-finetuned-en-to-zh/checkpoint-15000/config.json\n",
            "Model weights saved in opus-mt-en-zh-finetuned-en-to-zh/checkpoint-15000/pytorch_model.bin\n",
            "tokenizer config file saved in opus-mt-en-zh-finetuned-en-to-zh/checkpoint-15000/tokenizer_config.json\n",
            "Special tokens file saved in opus-mt-en-zh-finetuned-en-to-zh/checkpoint-15000/special_tokens_map.json\n",
            "Deleting older checkpoint [opus-mt-en-zh-finetuned-en-to-zh/checkpoint-13500] due to args.save_total_limit\n"
          ]
        },
        {
          "output_type": "display_data",
          "data": {
            "text/html": [
              "\n",
              "    <div>\n",
              "      \n",
              "      <progress value='19415' max='19415' style='width:300px; height:20px; vertical-align: middle;'></progress>\n",
              "      [19415/19415 2:09:24, Epoch 5/5]\n",
              "    </div>\n",
              "    <table border=\"1\" class=\"dataframe\">\n",
              "  <thead>\n",
              " <tr style=\"text-align: left;\">\n",
              "      <th>Epoch</th>\n",
              "      <th>Training Loss</th>\n",
              "      <th>Validation Loss</th>\n",
              "      <th>Bleu</th>\n",
              "      <th>Gen Len</th>\n",
              "    </tr>\n",
              "  </thead>\n",
              "  <tbody>\n",
              "    <tr>\n",
              "      <td>1</td>\n",
              "      <td>0.782700</td>\n",
              "      <td>0.739322</td>\n",
              "      <td>40.617300</td>\n",
              "      <td>60.361500</td>\n",
              "    </tr>\n",
              "    <tr>\n",
              "      <td>2</td>\n",
              "      <td>0.664700</td>\n",
              "      <td>0.679100</td>\n",
              "      <td>42.595000</td>\n",
              "      <td>60.337400</td>\n",
              "    </tr>\n",
              "    <tr>\n",
              "      <td>3</td>\n",
              "      <td>0.604200</td>\n",
              "      <td>0.651756</td>\n",
              "      <td>43.188200</td>\n",
              "      <td>59.963700</td>\n",
              "    </tr>\n",
              "    <tr>\n",
              "      <td>4</td>\n",
              "      <td>0.561300</td>\n",
              "      <td>0.642584</td>\n",
              "      <td>44.043100</td>\n",
              "      <td>60.144400</td>\n",
              "    </tr>\n",
              "    <tr>\n",
              "      <td>5</td>\n",
              "      <td>0.535900</td>\n",
              "      <td>0.636809</td>\n",
              "      <td>44.264200</td>\n",
              "      <td>60.291700</td>\n",
              "    </tr>\n",
              "  </tbody>\n",
              "</table><p>"
            ],
            "text/plain": [
              "<IPython.core.display.HTML object>"
            ]
          },
          "metadata": {}
        },
        {
          "output_type": "stream",
          "name": "stderr",
          "text": [
            "Saving model checkpoint to opus-mt-en-zh-finetuned-en-to-zh/checkpoint-15500\n",
            "Configuration saved in opus-mt-en-zh-finetuned-en-to-zh/checkpoint-15500/config.json\n",
            "Model weights saved in opus-mt-en-zh-finetuned-en-to-zh/checkpoint-15500/pytorch_model.bin\n",
            "tokenizer config file saved in opus-mt-en-zh-finetuned-en-to-zh/checkpoint-15500/tokenizer_config.json\n",
            "Special tokens file saved in opus-mt-en-zh-finetuned-en-to-zh/checkpoint-15500/special_tokens_map.json\n",
            "Deleting older checkpoint [opus-mt-en-zh-finetuned-en-to-zh/checkpoint-14000] due to args.save_total_limit\n",
            "***** Running Evaluation *****\n",
            "  Num examples = 2036\n",
            "  Batch size = 16\n",
            "Saving model checkpoint to opus-mt-en-zh-finetuned-en-to-zh/checkpoint-16000\n",
            "Configuration saved in opus-mt-en-zh-finetuned-en-to-zh/checkpoint-16000/config.json\n",
            "Model weights saved in opus-mt-en-zh-finetuned-en-to-zh/checkpoint-16000/pytorch_model.bin\n",
            "tokenizer config file saved in opus-mt-en-zh-finetuned-en-to-zh/checkpoint-16000/tokenizer_config.json\n",
            "Special tokens file saved in opus-mt-en-zh-finetuned-en-to-zh/checkpoint-16000/special_tokens_map.json\n",
            "Deleting older checkpoint [opus-mt-en-zh-finetuned-en-to-zh/checkpoint-14500] due to args.save_total_limit\n",
            "Saving model checkpoint to opus-mt-en-zh-finetuned-en-to-zh/checkpoint-16500\n",
            "Configuration saved in opus-mt-en-zh-finetuned-en-to-zh/checkpoint-16500/config.json\n",
            "Model weights saved in opus-mt-en-zh-finetuned-en-to-zh/checkpoint-16500/pytorch_model.bin\n",
            "tokenizer config file saved in opus-mt-en-zh-finetuned-en-to-zh/checkpoint-16500/tokenizer_config.json\n",
            "Special tokens file saved in opus-mt-en-zh-finetuned-en-to-zh/checkpoint-16500/special_tokens_map.json\n",
            "Deleting older checkpoint [opus-mt-en-zh-finetuned-en-to-zh/checkpoint-15000] due to args.save_total_limit\n",
            "Saving model checkpoint to opus-mt-en-zh-finetuned-en-to-zh/checkpoint-17000\n",
            "Configuration saved in opus-mt-en-zh-finetuned-en-to-zh/checkpoint-17000/config.json\n",
            "Model weights saved in opus-mt-en-zh-finetuned-en-to-zh/checkpoint-17000/pytorch_model.bin\n",
            "tokenizer config file saved in opus-mt-en-zh-finetuned-en-to-zh/checkpoint-17000/tokenizer_config.json\n",
            "Special tokens file saved in opus-mt-en-zh-finetuned-en-to-zh/checkpoint-17000/special_tokens_map.json\n",
            "Deleting older checkpoint [opus-mt-en-zh-finetuned-en-to-zh/checkpoint-15500] due to args.save_total_limit\n",
            "Saving model checkpoint to opus-mt-en-zh-finetuned-en-to-zh/checkpoint-17500\n",
            "Configuration saved in opus-mt-en-zh-finetuned-en-to-zh/checkpoint-17500/config.json\n",
            "Model weights saved in opus-mt-en-zh-finetuned-en-to-zh/checkpoint-17500/pytorch_model.bin\n",
            "tokenizer config file saved in opus-mt-en-zh-finetuned-en-to-zh/checkpoint-17500/tokenizer_config.json\n",
            "Special tokens file saved in opus-mt-en-zh-finetuned-en-to-zh/checkpoint-17500/special_tokens_map.json\n",
            "Deleting older checkpoint [opus-mt-en-zh-finetuned-en-to-zh/checkpoint-16000] due to args.save_total_limit\n",
            "Saving model checkpoint to opus-mt-en-zh-finetuned-en-to-zh/checkpoint-18000\n",
            "Configuration saved in opus-mt-en-zh-finetuned-en-to-zh/checkpoint-18000/config.json\n",
            "Model weights saved in opus-mt-en-zh-finetuned-en-to-zh/checkpoint-18000/pytorch_model.bin\n",
            "tokenizer config file saved in opus-mt-en-zh-finetuned-en-to-zh/checkpoint-18000/tokenizer_config.json\n",
            "Special tokens file saved in opus-mt-en-zh-finetuned-en-to-zh/checkpoint-18000/special_tokens_map.json\n",
            "Deleting older checkpoint [opus-mt-en-zh-finetuned-en-to-zh/checkpoint-16500] due to args.save_total_limit\n",
            "Saving model checkpoint to opus-mt-en-zh-finetuned-en-to-zh/checkpoint-18500\n",
            "Configuration saved in opus-mt-en-zh-finetuned-en-to-zh/checkpoint-18500/config.json\n",
            "Model weights saved in opus-mt-en-zh-finetuned-en-to-zh/checkpoint-18500/pytorch_model.bin\n",
            "tokenizer config file saved in opus-mt-en-zh-finetuned-en-to-zh/checkpoint-18500/tokenizer_config.json\n",
            "Special tokens file saved in opus-mt-en-zh-finetuned-en-to-zh/checkpoint-18500/special_tokens_map.json\n",
            "Deleting older checkpoint [opus-mt-en-zh-finetuned-en-to-zh/checkpoint-17000] due to args.save_total_limit\n",
            "Saving model checkpoint to opus-mt-en-zh-finetuned-en-to-zh/checkpoint-19000\n",
            "Configuration saved in opus-mt-en-zh-finetuned-en-to-zh/checkpoint-19000/config.json\n",
            "Model weights saved in opus-mt-en-zh-finetuned-en-to-zh/checkpoint-19000/pytorch_model.bin\n",
            "tokenizer config file saved in opus-mt-en-zh-finetuned-en-to-zh/checkpoint-19000/tokenizer_config.json\n",
            "Special tokens file saved in opus-mt-en-zh-finetuned-en-to-zh/checkpoint-19000/special_tokens_map.json\n",
            "Deleting older checkpoint [opus-mt-en-zh-finetuned-en-to-zh/checkpoint-17500] due to args.save_total_limit\n",
            "***** Running Evaluation *****\n",
            "  Num examples = 2036\n",
            "  Batch size = 16\n",
            "\n",
            "\n",
            "Training completed. Do not forget to share your model on huggingface.co/models =)\n",
            "\n",
            "\n"
          ]
        },
        {
          "output_type": "execute_result",
          "data": {
            "text/plain": [
              "TrainOutput(global_step=19415, training_loss=0.6650085802886279, metrics={'train_runtime': 7765.174, 'train_samples_per_second': 40.004, 'train_steps_per_second': 2.5, 'total_flos': 8113292395020288.0, 'train_loss': 0.6650085802886279, 'epoch': 5.0})"
            ]
          },
          "metadata": {},
          "execution_count": 27
        }
      ]
    },
    {
      "cell_type": "markdown",
      "source": [
        "#### Save the model"
      ],
      "metadata": {
        "id": "cmpkVYlmkqrT"
      }
    },
    {
      "cell_type": "code",
      "source": [
        "from huggingface_hub import notebook_login\n",
        "\n",
        "notebook_login()"
      ],
      "metadata": {
        "colab": {
          "base_uri": "https://localhost:8080/",
          "height": 256,
          "referenced_widgets": [
            "b7db1cc09c3748ddb8037fdb942ebed9",
            "c5dbb1e9c5ac4e0d99913aeb8ba2dbdd",
            "2d8037939f3f4c1883de01aac7457c5e",
            "0381b2fdbcbc4b6784c3d549b783e259",
            "40e9c0db9095455b9e936034625c2801",
            "c489f2c7fa0f4667a6904195e501993f",
            "c261570fdd9e4763be157f44a651a7fc",
            "2e0c3e1052f741aba5249a73737b4d93",
            "b4a0b40aa9d1441184a1b8372c0d0a56",
            "3cac1e826a2341748672d6023023f68c",
            "c142ce49330d46c8b3be4479b8c198e0",
            "b0bc7f74b64a4d51ab0ae8fa9bf7eca6",
            "7568e654573d4ac2bf064f8238d7c159",
            "a76743642d9a4df78932e186e7be4c97",
            "33965085d61648f7be92e2aa0e8e83dc",
            "b7fc8eebfca345a8af4bf424878107e2",
            "13eb4382904647439f80f4a6eaad3ce9",
            "6c079008c21c428fbbcd73020981532d",
            "7396a159901741ea8052081e3d96d278",
            "f0ad386fef6b4c0898940948825268f8",
            "b7ce95dd06a841ea81079fc81e80ec66",
            "3f2c7a3afd564b34a42d364b2e503da9",
            "32444d541e534b2cb5d6152b7e46f145",
            "a1c6b6ac05a94fe2b126362fb12ef17f",
            "0595a57619014384837c8ed3eb5e193d",
            "1c0145d2c8ce43ba8d46ef8d4290e1a4",
            "ab1e641495454c67b6ed8a8a57f10832",
            "bb42d5df4bc541aaa2e40757352ae7dd",
            "b34bb2384f7b43e78f4fac83a5656dba",
            "80aa34fa59254bb08e565a859bb07b1f",
            "59a4d3e85af6431dbc231d5e940d4029",
            "42d991aefda54c25bd47d0387649d262"
          ]
        },
        "id": "7-YKhRiUkpu8",
        "outputId": "405ae6ab-c7bf-4d28-98d7-59ab0abad97a"
      },
      "execution_count": 29,
      "outputs": [
        {
          "output_type": "stream",
          "name": "stderr",
          "text": [
            "ERROR:root:HfApi.login: This method is deprecated in favor of `set_access_token`.\n"
          ]
        },
        {
          "output_type": "stream",
          "name": "stdout",
          "text": [
            "Login successful\n",
            "Your token has been saved to /root/.huggingface/token\n",
            "\u001b[1m\u001b[31mAuthenticated through git-credential store but this isn't the helper defined on your machine.\n",
            "You might have to re-authenticate when pushing to the Hugging Face Hub. Run the following command in your terminal in case you want to set this credential helper as the default\n",
            "\n",
            "git config --global credential.helper store\u001b[0m\n"
          ]
        }
      ]
    },
    {
      "cell_type": "code",
      "source": [
        "model_checkpoint = \"Helsinki-NLP/opus-mt-en-zh\"\n",
        "model.push_to_hub(model_checkpoint)\n"
      ],
      "metadata": {
        "colab": {
          "base_uri": "https://localhost:8080/",
          "height": 0,
          "referenced_widgets": [
            "48d390bbcc1b49abaebf5c2bdbed7763",
            "b13f3fb35e6441bfa7ac0d3d5c445454",
            "30a40b78343a4163818d4cf190bcc696",
            "062c16bee16f4af1878b68f36adf55fa",
            "1268f0fd3c9345b49465be8a9923ba29",
            "a466b20120a04415ac35db29ade8397a",
            "19c7dc0f0c2b4b8aa797531d03193edc",
            "c8737d1547af4239a5bcd019ae5de89d",
            "b7b800391ceb4d2f8dce60f361c841c6",
            "fc301f5e5e5546bb825f5de91342e835",
            "e9b2298cbb2440ee8e29c5f1d84b4374"
          ]
        },
        "id": "lbj2JW6wt2Vy",
        "outputId": "5570e70a-cd3d-4a16-a57c-b6b616d9d637"
      },
      "execution_count": 35,
      "outputs": [
        {
          "output_type": "stream",
          "name": "stderr",
          "text": [
            "/usr/local/lib/python3.7/dist-packages/huggingface_hub/hf_api.py:1004: FutureWarning: `create_repo` now takes `token` as an optional positional argument. Be sure to adapt your code!\n",
            "  FutureWarning,\n",
            "Cloning https://huggingface.co/countrysideid/opus-mt-en-zh into local empty directory.\n",
            "WARNING:huggingface_hub.repository:Cloning https://huggingface.co/countrysideid/opus-mt-en-zh into local empty directory.\n",
            "Configuration saved in Helsinki-NLP/opus-mt-en-zh/config.json\n",
            "Model weights saved in Helsinki-NLP/opus-mt-en-zh/pytorch_model.bin\n"
          ]
        },
        {
          "output_type": "display_data",
          "data": {
            "application/vnd.jupyter.widget-view+json": {
              "model_id": "48d390bbcc1b49abaebf5c2bdbed7763",
              "version_minor": 0,
              "version_major": 2
            },
            "text/plain": [
              "Upload file pytorch_model.bin:   0%|          | 3.38k/296M [00:00<?, ?B/s]"
            ]
          },
          "metadata": {}
        },
        {
          "output_type": "stream",
          "name": "stderr",
          "text": [
            "To https://huggingface.co/countrysideid/opus-mt-en-zh\n",
            "   83f1e71..ce66f7c  main -> main\n",
            "\n",
            "WARNING:huggingface_hub.repository:To https://huggingface.co/countrysideid/opus-mt-en-zh\n",
            "   83f1e71..ce66f7c  main -> main\n",
            "\n"
          ]
        },
        {
          "output_type": "execute_result",
          "data": {
            "application/vnd.google.colaboratory.intrinsic+json": {
              "type": "string"
            },
            "text/plain": [
              "'https://huggingface.co/countrysideid/opus-mt-en-zh/commit/ce66f7c6d19c324e8931b2ab6d6c65db024d8b1e'"
            ]
          },
          "metadata": {},
          "execution_count": 35
        }
      ]
    },
    {
      "cell_type": "code",
      "source": [
        "# trainer.push_to_hub()"
      ],
      "metadata": {
        "id": "hrg286R-k6xU"
      },
      "execution_count": 36,
      "outputs": []
    },
    {
      "cell_type": "markdown",
      "source": [
        "#### Inference and Evaluate"
      ],
      "metadata": {
        "id": "Wj8LkSb3fz6D"
      }
    },
    {
      "cell_type": "code",
      "source": [
        "from transformers import MarianMTModel, MarianTokenizer\n",
        "from transformers import AutoTokenizer\n",
        "\n",
        "model_name = 'Helsinki-NLP/opus-mt-en-zh'\n",
        "# model_name = 'Helsinki-NLP/opus-mt-en-ROMANCE'\n",
        "tokenizer = MarianTokenizer.from_pretrained(model_name)\n",
        "model_checkpoint = \"countrysideid/opus-mt-en-zh-chk1\"\n",
        "new_model = MarianMTModel.from_pretrained(model_checkpoint)\n",
        "# new_model.generate(**tokenizer(src_text, return_tensors=\"pt\", padding=True))"
      ],
      "metadata": {
        "colab": {
          "base_uri": "https://localhost:8080/",
          "height": 0,
          "referenced_widgets": [
            "4b6d6ba175d34fd09b5de8b2020895cf",
            "f35a7cb59aa5471bbdeda4b297d9737e",
            "5114272114b0480ab8af3f044af50da1",
            "54c448dd40e34f5ebfa5dff3af1d39be",
            "e8cea75911f34ca9890a393535b6f58a",
            "eaeb79d8c2cb48438a1ab6f9813ce33b",
            "752c4ec8a00649559eea2c5b006eb708",
            "63bfd4fcc26b4feb88d3b364f601100f",
            "d3de8e1e19d144fcb7f35a7f0833ab3c",
            "2bd4e3cdcb3247eeaf7e7d8ab7fa86f6",
            "c43aecd177e54c3cbb3b847de036c8fe",
            "aa648893056049ffbc49f2f032c3b512",
            "d8a84aa1e41042cf8b1e8ca676670e5e",
            "e8f57a5dca7f4967b7f141bb7cab1ee1",
            "3c09705d5abc49aabdfc833ccf8282aa",
            "b8f260879a4a4b0187242a95e87d8109",
            "4aa3ebaf4c404cd7a00484570735dfa4",
            "c56b74be1b144a329ea2d7d6af5d1f55",
            "10f589f55b73494ab639869a9112ed85",
            "b3720d574add4485b67686c4baba996e",
            "9978a437018d4454b91a0335624015bd",
            "b681cbc46aed489ea3d312b2e85dfc52"
          ]
        },
        "id": "CJqIG405x2vw",
        "outputId": "9fea7522-c3e6-4db2-d124-70ad76975bd7"
      },
      "execution_count": 8,
      "outputs": [
        {
          "output_type": "display_data",
          "data": {
            "application/vnd.jupyter.widget-view+json": {
              "model_id": "4b6d6ba175d34fd09b5de8b2020895cf",
              "version_minor": 0,
              "version_major": 2
            },
            "text/plain": [
              "Downloading:   0%|          | 0.00/1.42k [00:00<?, ?B/s]"
            ]
          },
          "metadata": {}
        },
        {
          "output_type": "display_data",
          "data": {
            "application/vnd.jupyter.widget-view+json": {
              "model_id": "aa648893056049ffbc49f2f032c3b512",
              "version_minor": 0,
              "version_major": 2
            },
            "text/plain": [
              "Downloading:   0%|          | 0.00/296M [00:00<?, ?B/s]"
            ]
          },
          "metadata": {}
        }
      ]
    },
    {
      "cell_type": "code",
      "source": [
        "\n",
        "# model_name = 'opus-mt-en-ro-finetuned-en-to-ro/checkpoint-38000'\n",
        "# tokenizer = MarianTokenizer.from_pretrained(model_name)\n",
        "# # model = MarianMTModel.from_pretrained(model_name)\n",
        "# translated = model.generate(**tokenizer(src_text, return_tensors=\"pt\", padding=True))\n",
        "# [tokenizer.decode(t, skip_special_tokens=True) for t in translated]\n",
        "\n",
        "new_model.cpu()\n",
        "translated = new_model.generate(**tokenizer(medEnTest[:300], return_tensors=\"pt\", padding=True))\n",
        "hyps = tokenizer.batch_decode(translated, skip_special_tokens=True)\n",
        "refs = medZhTest[:300]\n",
        "\n",
        "import sacrebleu\n",
        "\n",
        "blue_scorer = sacrebleu.metrics.bleu.BLEU(\n",
        "        lowercase = False,\n",
        "        force = True,\n",
        "        tokenize = 'none',\n",
        "        smooth_method = 'exp',\n",
        "        smooth_value = None,\n",
        "        max_ngram_order = 4,\n",
        "        effective_order = False\n",
        "    )"
      ],
      "metadata": {
        "id": "KVrbevz9tyTd"
      },
      "execution_count": 11,
      "outputs": []
    },
    {
      "cell_type": "code",
      "source": [
        "import re\n",
        "def seg_char(sent):\n",
        "    \"\"\"\n",
        "    Split the sentence based on words without destroying english and symbol\n",
        "    \"\"\"\n",
        "    # First split english and symbol\n",
        "    pattern_char_1 = re.compile(r'([\\W])')\n",
        "    parts = pattern_char_1.split(sent)\n",
        "    parts = [p for p in parts if len(p.strip())>0]\n",
        "    # Split Chinese\n",
        "    pattern = re.compile(r'([\\u4e00-\\u9fa5])')\n",
        "    chars = pattern.split(sent)\n",
        "    chars = [w.strip() for w in chars if len(w.strip())>0]\n",
        "    chars = ' '.join(chars)\n",
        "    return chars"
      ],
      "metadata": {
        "id": "8Y-tEUtNgXI5"
      },
      "execution_count": 12,
      "outputs": []
    },
    {
      "cell_type": "code",
      "source": [
        "MarianMT_blue = blue_scorer.corpus_score([seg_char(i) for i in hyps], [[seg_char(i) for i in refs]])\n",
        "MarianMT_blue, MarianMT_blue.score"
      ],
      "metadata": {
        "colab": {
          "base_uri": "https://localhost:8080/"
        },
        "id": "KrxNkYmZgX0N",
        "outputId": "7efa5d90-9c41-41dc-bc1d-6c62a4228324"
      },
      "execution_count": 13,
      "outputs": [
        {
          "output_type": "execute_result",
          "data": {
            "text/plain": [
              "(BLEU = 48.05 79.1/60.1/46.1/36.4 (BP = 0.905 ratio = 0.909 hyp_len = 14202 ref_len = 15625),\n",
              " 48.04696058037501)"
            ]
          },
          "metadata": {},
          "execution_count": 13
        }
      ]
    },
    {
      "cell_type": "code",
      "source": [
        ""
      ],
      "metadata": {
        "id": "B3Gxo7DuzT3b"
      },
      "execution_count": null,
      "outputs": []
    }
  ]
}